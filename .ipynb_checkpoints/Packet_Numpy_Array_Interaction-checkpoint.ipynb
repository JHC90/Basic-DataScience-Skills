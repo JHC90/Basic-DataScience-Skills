{
 "cells": [
  {
   "cell_type": "markdown",
   "metadata": {},
   "source": [
    "# Numpy\n",
    "https://towardsdatascience.com/lets-talk-about-numpy-for-datascience-beginners-b8088722309f"
   ]
  },
  {
   "cell_type": "code",
   "execution_count": 5,
   "metadata": {},
   "outputs": [],
   "source": [
    "import numpy as np"
   ]
  },
  {
   "cell_type": "code",
   "execution_count": 6,
   "metadata": {},
   "outputs": [
    {
     "data": {
      "text/plain": [
       "array([1, 2, 3, 4, 5])"
      ]
     },
     "execution_count": 6,
     "metadata": {},
     "output_type": "execute_result"
    }
   ],
   "source": [
    "# Create vector von List\n",
    "my_list = [1, 2, 3, 4, 5]\n",
    "my_numpy_list = np.array(my_list)\n",
    "my_numpy_list  #This line show the result of the array generated"
   ]
  },
  {
   "cell_type": "code",
   "execution_count": 9,
   "metadata": {},
   "outputs": [
    {
     "data": {
      "text/plain": [
       "array([[1, 2, 3],\n",
       "       [5, 4, 1],\n",
       "       [3, 6, 7]])"
      ]
     },
     "execution_count": 9,
     "metadata": {},
     "output_type": "execute_result"
    }
   ],
   "source": [
    "# Create Matrix von mehrdimensionaler Liste\n",
    "second_list = [[1,2,3], [5,4,1], [3,6,7]]\n",
    "new_2d_arr = np.array(second_list)\n",
    "new_2d_arr  #This line show the result of the array generated"
   ]
  },
  {
   "cell_type": "code",
   "execution_count": 16,
   "metadata": {},
   "outputs": [
    {
     "name": "stdout",
     "output_type": "stream",
     "text": [
      "[0 1 2 3 4 5 6 7 8 9]\n",
      "[ 0  2  4  6  8 10]\n",
      "[0. 0. 0. 0. 0. 0. 0.]\n",
      "[1. 1. 1. 1. 1.]\n"
     ]
    }
   ],
   "source": [
    "# Sequenzen\n",
    "my_list = np.arange(10)#ORmy_list = np.arange(0,10)\n",
    "print(my_list)\n",
    "my_list = np.arange(0,11,2)\n",
    "print(my_list)\n",
    "my_zeros = np.zeros(7)\n",
    "print(my_zeros)\n",
    "my_ones = np.ones(5)\n",
    "print(my_ones)\n"
   ]
  },
  {
   "cell_type": "code",
   "execution_count": 20,
   "metadata": {},
   "outputs": [
    {
     "name": "stdout",
     "output_type": "stream",
     "text": [
      "[[0. 0. 0. 0. 0.]\n",
      " [0. 0. 0. 0. 0.]\n",
      " [0. 0. 0. 0. 0.]]\n",
      "\n",
      "[1.         1.14285714 1.28571429 1.42857143 1.57142857 1.71428571\n",
      " 1.85714286 2.         2.14285714 2.28571429 2.42857143 2.57142857\n",
      " 2.71428571 2.85714286 3.        ]\n"
     ]
    }
   ],
   "source": [
    "# Sequenzen in Matritzen\n",
    "two_d = np.zeros((3,5))\n",
    "print(two_d)\n"
   ]
  },
  {
   "cell_type": "code",
   "execution_count": null,
   "metadata": {},
   "outputs": [],
   "source": [
    "# linspace macht dass exakt die Aufteilung dazwischen stattfindet\n",
    "lin_arr = np.linspace(1, 3, 15)\n",
    "print()\n",
    "print(lin_arr)"
   ]
  },
  {
   "cell_type": "code",
   "execution_count": 22,
   "metadata": {},
   "outputs": [
    {
     "name": "stdout",
     "output_type": "stream",
     "text": [
      "[[1. 0. 0. 0. 0. 0.]\n",
      " [0. 1. 0. 0. 0. 0.]\n",
      " [0. 0. 1. 0. 0. 0.]\n",
      " [0. 0. 0. 1. 0. 0.]\n",
      " [0. 0. 0. 0. 1. 0.]\n",
      " [0. 0. 0. 0. 0. 1.]]\n"
     ]
    }
   ],
   "source": [
    "# Matrix\n",
    "my_matrx = np.eye(6)    \n",
    "print(my_matrx)"
   ]
  },
  {
   "cell_type": "code",
   "execution_count": 23,
   "metadata": {},
   "outputs": [
    {
     "data": {
      "text/plain": [
       "array([[-0.1890858 , -0.05831819, -0.58525977,  1.04583075,  0.46938555],\n",
       "       [ 1.47847426, -0.32743414, -2.2377986 ,  0.037953  ,  0.66445085],\n",
       "       [ 0.09753164, -0.58475725, -2.22457776, -1.30782787,  0.09823543]])"
      ]
     },
     "execution_count": 23,
     "metadata": {},
     "output_type": "execute_result"
    }
   ],
   "source": [
    "# matrix mit 5 spalten & 3 Zeilen\n",
    "np.random.randn(3,5)"
   ]
  },
  {
   "cell_type": "code",
   "execution_count": 25,
   "metadata": {},
   "outputs": [
    {
     "name": "stdout",
     "output_type": "stream",
     "text": [
      "[0.44529488 0.12028035 0.56737235 0.24441402 0.24664845 0.11442185\n",
      " 0.36610129 0.21887851 0.52418328 0.42369592 0.40108522 0.79747753\n",
      " 0.21060816 0.22255648 0.98669029 0.35811407 0.10707313 0.5468217\n",
      " 0.70217085 0.20884735 0.57949985 0.58456655 0.70022566 0.85126028\n",
      " 0.40749741]\n",
      "\n",
      "[0.44529488 0.12028035 0.56737235 0.24441402 0.24664845 0.11442185\n",
      " 0.36610129 0.21887851 0.52418328 0.42369592 0.40108522 0.79747753\n",
      " 0.21060816 0.22255648 0.98669029 0.35811407 0.10707313 0.5468217\n",
      " 0.70217085 0.20884735 0.57949985 0.58456655 0.70022566 0.85126028\n",
      " 0.40749741]\n"
     ]
    }
   ],
   "source": [
    "# converting 1d in 2d \n",
    "arr = np.random.rand(25)\n",
    "print(arr)\n",
    "arr.reshape(5,5)\n",
    "print()\n",
    "print(arr)\n"
   ]
  },
  {
   "cell_type": "code",
   "execution_count": 33,
   "metadata": {},
   "outputs": [
    {
     "name": "stdout",
     "output_type": "stream",
     "text": [
      "[18 19 12  5  6  8 11 18  6  9]\n",
      "1\n",
      "3\n"
     ]
    }
   ],
   "source": [
    "## max min in einem Vektor absolut\n",
    "arr_2 = np.random.randint(0, 20, 10)\n",
    "print(arr_2)\n",
    "arr_2.max() #This gives the highest value in the array arr_2.min() #This gives the lowest value in the array\n",
    "arr_2.min()\n",
    "# hier die indexe dazu\n",
    "print(arr_2.argmax()) #This shows the index of the highest value in the array \n",
    "print(arr_2.argmin()) #This shows the index of the lowest value in the array"
   ]
  },
  {
   "cell_type": "code",
   "execution_count": 35,
   "metadata": {},
   "outputs": [
    {
     "data": {
      "text/plain": [
       "(25,)"
      ]
     },
     "execution_count": 35,
     "metadata": {},
     "output_type": "execute_result"
    }
   ],
   "source": [
    "# shape of an array\n",
    "arr.shape"
   ]
  },
  {
   "cell_type": "code",
   "execution_count": 43,
   "metadata": {},
   "outputs": [
    {
     "name": "stdout",
     "output_type": "stream",
     "text": [
      "[ 0  1  2  3  4  5  6  7  8  9 10]\n"
     ]
    },
    {
     "data": {
      "text/plain": [
       "array([ 5,  6,  7,  8,  9, 10])"
      ]
     },
     "execution_count": 43,
     "metadata": {},
     "output_type": "execute_result"
    }
   ],
   "source": [
    "my_array = np.arange(0,11)\n",
    "print(my_array)\n",
    "my_array[8]  #This gives us the value of element at index 8\n",
    "my_array[2:6] #This returns everything from index 2 to 6(exclusive)\n",
    "my_array[:6] #This returns everything from index 0 to 6(exclusive)\n",
    "my_array[5:] #This returns everything from index 5 to the end of the array."
   ]
  }
 ],
 "metadata": {
  "kernelspec": {
   "display_name": "Python 3",
   "language": "python",
   "name": "python3"
  },
  "language_info": {
   "codemirror_mode": {
    "name": "ipython",
    "version": 3
   },
   "file_extension": ".py",
   "mimetype": "text/x-python",
   "name": "python",
   "nbconvert_exporter": "python",
   "pygments_lexer": "ipython3",
   "version": "3.6.9"
  }
 },
 "nbformat": 4,
 "nbformat_minor": 2
}
