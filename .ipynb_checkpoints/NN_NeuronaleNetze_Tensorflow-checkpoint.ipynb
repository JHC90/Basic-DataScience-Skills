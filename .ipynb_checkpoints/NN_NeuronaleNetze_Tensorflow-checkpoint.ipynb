{
 "cells": [
  {
   "cell_type": "markdown",
   "metadata": {},
   "source": [
    "# Tensorflow\n",
    "Hier gehen wir auf die Tensorflow API ein\n",
    "\n",
    "## Link zu Manueller Implementierung\n",
    "[Link-Grundlegende SyntaxTensorflow](/Literatur_Quellen/2_UDC_DL/Tensorflow-Bootcamp/02-TensorFlow-Grundlagen/03_Syntax.ipynb)\n",
    "\n",
    "/Literatur_Quellen/2_UDC_DL/Tensorflow-Bootcamp/02-TensorFlow-Grundlagen/04-TensorFlow-Regression-Beispiel.ipynb\n",
    "[Link-Regression mit Tensorflow](./Literatur_Quellen/2_UDC_DL/Tensorflow-Bootcamp/01-Neuronale-Netze-Grundlagen/Manuelles%20Neuronales%20Netzwerk.ipynb)\n",
    "\n",
    "[Link-Klassifikation mit Tensorflow](./Literatur_Quellen/2_UDC_DL/Tensorflow-Bootcamp/01-Neuronale-Netze-Grundlagen/Manuelles%20Neuronales%20Netzwerk.ipynb)"
   ]
  }
 ],
 "metadata": {
  "kernelspec": {
   "display_name": "Python 3",
   "language": "python",
   "name": "python3"
  },
  "language_info": {
   "codemirror_mode": {
    "name": "ipython",
    "version": 3
   },
   "file_extension": ".py",
   "mimetype": "text/x-python",
   "name": "python",
   "nbconvert_exporter": "python",
   "pygments_lexer": "ipython3",
   "version": "3.6.10"
  },
  "toc": {
   "base_numbering": 1,
   "nav_menu": {},
   "number_sections": true,
   "sideBar": true,
   "skip_h1_title": false,
   "title_cell": "Table of Contents",
   "title_sidebar": "Contents",
   "toc_cell": false,
   "toc_position": {},
   "toc_section_display": true,
   "toc_window_display": false
  }
 },
 "nbformat": 4,
 "nbformat_minor": 2
}
