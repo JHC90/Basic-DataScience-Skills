{
 "cells": [
  {
   "cell_type": "markdown",
   "metadata": {},
   "source": [
    "# Beschreibung\n",
    "Dieses Skript dient dazu, Daten von entfernten Ablageorten (bspw-Google-Drive herunterzuladen)"
   ]
  },
  {
   "cell_type": "markdown",
   "metadata": {},
   "source": [
    "hier der Link zu meinem Public-Google-Folder // sprich hierzu braucht es keine Google-Anmeldung:<br>\n",
    "    https://drive.google.com/drive/folders/17cptzULW_4is3t2_3eNy2oCEHGiDWevt?usp=sharing<br>\n",
    "und hier der link zu den beiden Dateien, die sich in dem Folder befinden:<br>\n",
    "  1) https://drive.google.com/open?id=1WsaoZuh6eJVryqXBUNh2QUn0VbbXRyof  || DATA<br>\n",
    "  2) https://drive.google.com/open?id=1KgWXbB9jtVUncE5R0AL9enfwWGwTE0AB || DESCRITPION<br>\n",
    "  \n",
    "ggf änderung des Links zu einem Downloadlink nach folgendem Vorgehen: http://apps-experts.de/2014/10/das-neue-google-drive-45-direkte-downloadlinks-in-google-drive-erstellen/\n",
    "\n",
    "a)\n",
    "https://drive.google.com/open?id=1WsaoZuh6eJVryqXBUNh2QUn0VbbXRyof/export?format=csv"
   ]
  },
  {
   "cell_type": "markdown",
   "metadata": {},
   "source": [
    "## Requests"
   ]
  },
  {
   "cell_type": "markdown",
   "metadata": {},
   "source": [
    "### Download PDF-Datei von willkürlicher Quelle"
   ]
  },
  {
   "cell_type": "code",
   "execution_count": 17,
   "metadata": {},
   "outputs": [
    {
     "name": "stdout",
     "output_type": "stream",
     "text": [
      "Download Starting...\n",
      "Download Completed!!!\n"
     ]
    }
   ],
   "source": [
    "import requests\n",
    "print('Download Starting...')\n",
    "url = 'http://www.tutorialspoint.com/python3/python_tutorial.pdf' # => Checken ob die Datei bereits vorliegt oder nicht\n",
    "r = requests.get(url)\n",
    "filename = \"./data/Sample-PDF.pdf\"\n",
    "with open(filename,'wb') as output_file:\n",
    "    output_file.write(r.content)\n",
    "print('Download Completed!!!')"
   ]
  },
  {
   "cell_type": "markdown",
   "metadata": {},
   "source": [
    "# Gdown bei Public-G-Drvie = keine Anmeldung bei Google\n",
    "https://stackoverflow.com/questions/38511444/python-download-files-from-google-drive-using-url<br>\n",
    "\n",
    "die Bibloiothek ermöglicht es mir easy von Google-Drive Public daten herunterzuladen.  "
   ]
  },
  {
   "cell_type": "markdown",
   "metadata": {},
   "source": [
    "## Orginal-Vorlage TXT"
   ]
  },
  {
   "cell_type": "code",
   "execution_count": 18,
   "metadata": {},
   "outputs": [
    {
     "name": "stderr",
     "output_type": "stream",
     "text": [
      "Downloading...\n",
      "From: https://drive.google.com/uc?id=0B9P1L--7Wd2vU3VUVlFnbTgtS2c\n",
      "To: C:\\Users\\1810837475\\Desktop\\Basic-DataScience-Skills\\data\\spam.txt\n",
      "100%|███████████████████████████████████████████████████████████████████████████████| 5.00/5.00 [00:00<00:00, 2.49kB/s]\n"
     ]
    },
    {
     "data": {
      "text/plain": [
       "'./data/spam.txt'"
      ]
     },
     "execution_count": 18,
     "metadata": {},
     "output_type": "execute_result"
    }
   ],
   "source": [
    "# !pip install gdown\n",
    "import gdown\n",
    "\n",
    "url = 'https://drive.google.com/uc?id=0B9P1L--7Wd2vU3VUVlFnbTgtS2c'\n",
    "output = './data/spam.txt'\n",
    "gdown.download(url, output, quiet=False) "
   ]
  },
  {
   "cell_type": "markdown",
   "metadata": {},
   "source": [
    "## Eigene Veränderung-Vorlage CSV\n",
    "Wichtig: Hierbei wurde mit diesem Tool der Shareable-Link von G-Drive in einen Downloadlink verändert. Dieser Downloadlink wurde dann hier im weiteren verwendet: \n",
    "https://syncwithtech.blogspot.com/p/direct-download-link-generator.html\n",
    "\n",
    "bsp:<br>\n",
    "https://drive.google.com/file/d/1WsaoZuh6eJVryqXBUNh2QUn0VbbXRyof/view<br>\n",
    "=><br>\n",
    "https://drive.google.com/uc?export=download&id=1WsaoZuh6eJVryqXBUNh2QUn0VbbXRyof<br>\n",
    "\n"
   ]
  },
  {
   "cell_type": "code",
   "execution_count": 19,
   "metadata": {},
   "outputs": [
    {
     "name": "stderr",
     "output_type": "stream",
     "text": [
      "Downloading...\n",
      "From: https://drive.google.com/uc?export=download&id=1WsaoZuh6eJVryqXBUNh2QUn0VbbXRyof\n",
      "To: C:\\Users\\1810837475\\Desktop\\Basic-DataScience-Skills\\data\\spam.csv\n",
      "100%|█████████████████████████████████████████████████████████████████████████████| 25.9k/25.9k [00:00<00:00, 5.18MB/s]\n"
     ]
    },
    {
     "data": {
      "text/plain": [
       "'./data/spam.csv'"
      ]
     },
     "execution_count": 19,
     "metadata": {},
     "output_type": "execute_result"
    }
   ],
   "source": [
    "# !pip install gdown\n",
    "import gdown\n",
    "\n",
    "url = 'https://drive.google.com/uc?export=download&id=1WsaoZuh6eJVryqXBUNh2QUn0VbbXRyof'\n",
    "output = './data/spam.csv'\n",
    "gdown.download(url, output, quiet=False) "
   ]
  },
  {
   "cell_type": "markdown",
   "metadata": {},
   "source": [
    "# Pydrive, wenn eine Anmeldung nötig ist"
   ]
  },
  {
   "cell_type": "code",
   "execution_count": null,
   "metadata": {},
   "outputs": [],
   "source": []
  }
 ],
 "metadata": {
  "kernelspec": {
   "display_name": "Python 3",
   "language": "python",
   "name": "python3"
  },
  "language_info": {
   "codemirror_mode": {
    "name": "ipython",
    "version": 3
   },
   "file_extension": ".py",
   "mimetype": "text/x-python",
   "name": "python",
   "nbconvert_exporter": "python",
   "pygments_lexer": "ipython3",
   "version": "3.6.9"
  }
 },
 "nbformat": 4,
 "nbformat_minor": 2
}
