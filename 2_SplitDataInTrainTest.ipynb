{
 "cells": [
  {
   "cell_type": "markdown",
   "metadata": {},
   "source": [
    "# TrainTestSplit\n",
    "hier lediglich den Train & TestSplit. ggf muss der TrainSplit weiter in einen Validation Split aufgeteilt werden. "
   ]
  },
  {
   "cell_type": "code",
   "execution_count": 13,
   "metadata": {},
   "outputs": [],
   "source": [
    "## Load-Data"
   ]
  },
  {
   "cell_type": "code",
   "execution_count": 14,
   "metadata": {},
   "outputs": [],
   "source": [
    "import pandas as pd\n",
    "iris = pd.read_csv('./Sample-Projects/Iris/data/iris.data',delimiter=',',encoding='utf-8')\n",
    "iris.columns = ['SepalLengthCm','SepalWidthCm','PetalLengthCm','PetalWidthCm','Species']"
   ]
  },
  {
   "cell_type": "code",
   "execution_count": 15,
   "metadata": {},
   "outputs": [
    {
     "name": "stdout",
     "output_type": "stream",
     "text": [
      "(104, 5)\n",
      "    SepalLengthCm  SepalWidthCm  PetalLengthCm  PetalWidthCm          Species\n",
      "55            6.3           3.3            4.7           1.6  Iris-versicolor\n",
      "72            6.1           2.8            4.7           1.2  Iris-versicolor\n",
      "95            5.7           2.9            4.2           1.3  Iris-versicolor\n",
      "70            6.1           2.8            4.0           1.3  Iris-versicolor\n",
      "83            5.4           3.0            4.5           1.5  Iris-versicolor\n",
      "(45, 5)\n"
     ]
    }
   ],
   "source": [
    "# Split ohne seed\n",
    "from sklearn.model_selection import train_test_split\n",
    "train, test = train_test_split(iris, test_size = 0.3)# in this our main data is split into train and test\n",
    "# the attribute test_size=0.3 splits the data into 70% and 30% ratio. train=70% and test=30%\n",
    "print(train.shape)\n",
    "print(train.head())\n",
    "print(test.shape)"
   ]
  },
  {
   "cell_type": "code",
   "execution_count": 24,
   "metadata": {},
   "outputs": [
    {
     "name": "stdout",
     "output_type": "stream",
     "text": [
      "(104, 5)\n",
      "     SepalLengthCm  SepalWidthCm  PetalLengthCm  PetalWidthCm          Species\n",
      "65             5.6           3.0            4.5           1.5  Iris-versicolor\n",
      "23             4.8           3.4            1.9           0.2      Iris-setosa\n",
      "112            5.7           2.5            5.0           2.0   Iris-virginica\n",
      "20             5.1           3.7            1.5           0.4      Iris-setosa\n",
      "93             5.6           2.7            4.2           1.3  Iris-versicolor\n",
      "(45, 5)\n"
     ]
    }
   ],
   "source": [
    "# Split ohne seed \n",
    "# !!! hier wurde der random state mitgegeben, dadurch kommt immer der gleiche Splitzustande\n",
    "from sklearn.model_selection import train_test_split\n",
    "train, test = train_test_split(iris, test_size = 0.3, random_state=5)# in this our main data is split into train and test\n",
    "# the attribute test_size=0.3 splits the data into 70% and 30% ratio. train=70% and test=30%\n",
    "print(train.shape)\n",
    "print(train.head())\n",
    "print(test.shape)"
   ]
  },
  {
   "cell_type": "code",
   "execution_count": null,
   "metadata": {},
   "outputs": [],
   "source": []
  },
  {
   "cell_type": "code",
   "execution_count": null,
   "metadata": {},
   "outputs": [],
   "source": []
  }
 ],
 "metadata": {
  "kernelspec": {
   "display_name": "Python 3",
   "language": "python",
   "name": "python3"
  },
  "language_info": {
   "codemirror_mode": {
    "name": "ipython",
    "version": 3
   },
   "file_extension": ".py",
   "mimetype": "text/x-python",
   "name": "python",
   "nbconvert_exporter": "python",
   "pygments_lexer": "ipython3",
   "version": "3.6.9"
  },
  "toc": {
   "base_numbering": 1,
   "nav_menu": {},
   "number_sections": true,
   "sideBar": true,
   "skip_h1_title": false,
   "title_cell": "Table of Contents",
   "title_sidebar": "Contents",
   "toc_cell": false,
   "toc_position": {},
   "toc_section_display": true,
   "toc_window_display": false
  }
 },
 "nbformat": 4,
 "nbformat_minor": 2
}
