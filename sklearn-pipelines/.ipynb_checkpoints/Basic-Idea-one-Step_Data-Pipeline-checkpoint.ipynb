{
 "cells": [
  {
   "cell_type": "code",
   "execution_count": 1,
   "metadata": {},
   "outputs": [],
   "source": [
    "## Bibliotheken"
   ]
  },
  {
   "cell_type": "code",
   "execution_count": 2,
   "metadata": {},
   "outputs": [],
   "source": [
    "import pandas as pd\n",
    "import numpy as np\n",
    "from sklearn.model_selection import train_test_split"
   ]
  },
  {
   "cell_type": "markdown",
   "metadata": {},
   "source": [
    "## Data-Loading"
   ]
  },
  {
   "cell_type": "code",
   "execution_count": 3,
   "metadata": {},
   "outputs": [],
   "source": [
    "labelList=['symboling','normalizedLosses','make','fuelType','aspiration','numOfDoors','bodyStyle','driveWheels','engineLocation',\n",
    "           'wheelBase','length','width','height','curbWeight','engineType','numOfCylinders','engineSize','fuelSystem','bore',\n",
    "           'stroke','compressionRatio','horsepower','peakRpm','cityMpg','highwayMpg','price']\n",
    "df = pd.read_csv('../data/data_car-CopyForEDA.csv',delimiter=',',encoding='utf-8', names=labelList)\n",
    "df = df.replace(\"?\", np.nan)\n",
    "df[['price']]=df[['price']].astype('float64')"
   ]
  },
  {
   "cell_type": "code",
   "execution_count": 4,
   "metadata": {},
   "outputs": [
    {
     "name": "stdout",
     "output_type": "stream",
     "text": [
      "<class 'pandas.core.frame.DataFrame'>\n",
      "RangeIndex: 205 entries, 0 to 204\n",
      "Data columns (total 26 columns):\n",
      "symboling           205 non-null int64\n",
      "normalizedLosses    164 non-null object\n",
      "make                205 non-null object\n",
      "fuelType            205 non-null object\n",
      "aspiration          205 non-null object\n",
      "numOfDoors          203 non-null object\n",
      "bodyStyle           205 non-null object\n",
      "driveWheels         205 non-null object\n",
      "engineLocation      205 non-null object\n",
      "wheelBase           205 non-null float64\n",
      "length              205 non-null float64\n",
      "width               205 non-null float64\n",
      "height              205 non-null float64\n",
      "curbWeight          205 non-null int64\n",
      "engineType          205 non-null object\n",
      "numOfCylinders      205 non-null object\n",
      "engineSize          205 non-null int64\n",
      "fuelSystem          205 non-null object\n",
      "bore                201 non-null object\n",
      "stroke              201 non-null object\n",
      "compressionRatio    205 non-null float64\n",
      "horsepower          203 non-null object\n",
      "peakRpm             203 non-null object\n",
      "cityMpg             205 non-null int64\n",
      "highwayMpg          205 non-null int64\n",
      "price               201 non-null float64\n",
      "dtypes: float64(6), int64(5), object(15)\n",
      "memory usage: 41.8+ KB\n"
     ]
    }
   ],
   "source": [
    "df.info()"
   ]
  },
  {
   "cell_type": "code",
   "execution_count": 5,
   "metadata": {},
   "outputs": [],
   "source": [
    "output_features = [\n",
    "    \"symboling\"\n",
    "]\n",
    "\n",
    "input_features = [\n",
    "    'normalizedLosses',\n",
    "    'make',\n",
    "    'fuelType',\n",
    "    'aspiration',\n",
    "    'numOfDoors',\n",
    "    'bodyStyle',\n",
    "    'driveWheels',\n",
    "    'engineLocation',\n",
    "    'wheelBase',\n",
    "    'length',\n",
    "    'width',\n",
    "    'height',\n",
    "    'curbWeight',\n",
    "    'engineType',\n",
    "    'numOfCylinders',\n",
    "    'engineSize',\n",
    "    'fuelSystem',\n",
    "    'bore',\n",
    "    'stroke',\n",
    "    'compressionRatio',\n",
    "    'horsepower',\n",
    "    'peakRpm',\n",
    "    'cityMpg',\n",
    "    'highwayMpg',\n",
    "    'price'\n",
    "]\n",
    "\n",
    "train_X, test_X, train_y, test_y = train_test_split(\n",
    "    df[input_features], \n",
    "    df[output_features],\n",
    "    test_size=0.2\n",
    ")"
   ]
  },
  {
   "cell_type": "code",
   "execution_count": 6,
   "metadata": {},
   "outputs": [
    {
     "data": {
      "text/plain": [
       "((164, 25), (41, 25), (164, 1), (41, 1))"
      ]
     },
     "execution_count": 6,
     "metadata": {},
     "output_type": "execute_result"
    }
   ],
   "source": [
    "train_X.shape, test_X.shape, train_y.shape, test_y.shape"
   ]
  },
  {
   "cell_type": "code",
   "execution_count": 7,
   "metadata": {},
   "outputs": [],
   "source": [
    "import numpy as np\n",
    "\n",
    "def pretty_confusion(target, prediction):\n",
    "    \"\"\"Prettify the on-board confusion matrix of sklearn.\"\"\"\n",
    "    \n",
    "    cmc = [\"Condition positive\", \"Condition negative\"]\n",
    "    cmi = [\"Predicted condition positive\", \"Predicted condition negative\"]\n",
    "    \n",
    "    matrix = confusion_matrix(target, prediction)\n",
    "    cm = matrix.astype('float') / matrix.sum(axis=1)[:, np.newaxis]\n",
    "    return pd.DataFrame(cm , columns=cmc, index=cmi)\n",
    "\n",
    "\n",
    "def debug_print(X, debug):\n",
    "    \"\"\"This method prints some debug information based on a debug parameter.\"\"\"\n",
    "    if not debug in [\"input\", \"shape\", \"columns\", False]:\n",
    "        raise ValueError(\"Debug parameter value is not valied.\")\n",
    "    elif debug==\"input\":\n",
    "        print(X.head(5))\n",
    "    elif debug==\"shape\":\n",
    "        print(X.shape)\n",
    "    elif debug==\"columns\":\n",
    "        print(X.columns)\n",
    "    elif debug is False:\n",
    "        pass"
   ]
  },
  {
   "cell_type": "code",
   "execution_count": 8,
   "metadata": {},
   "outputs": [],
   "source": [
    "class PriceImputer():\n",
    "    \"\"\"Imputs Price with median price of car-Brand.\"\"\"\n",
    "    def __init__(self, debug=False):\n",
    "        self.d = debug\n",
    "        self.colnames = None\n",
    "    \n",
    "    def fit(self, X, y=None):\n",
    "        return self\n",
    "    \n",
    "    def transform(self, X):\n",
    "        debug_print(X=X, debug=self.d)\n",
    "        df = X.copy()\n",
    "\n",
    "        df.price = df.groupby(['make'])['price'].apply(lambda x: x.fillna(x.median()))\n",
    "        self.colnames = df.columns.tolist()\n",
    "        return df\n",
    "    \n",
    "    def get_feature_names(self):\n",
    "        return self.colnames "
   ]
  },
  {
   "cell_type": "code",
   "execution_count": 9,
   "metadata": {},
   "outputs": [],
   "source": [
    "class FeatureSelector:\n",
    "    \"\"\"This transformer lets you pick columns from a pandas dataset based on name\"\"\"\n",
    "    def __init__(self, features = [], debug=False):\n",
    "        self.d = debug\n",
    "        self.colnames = None\n",
    "        if type(features) != list:\n",
    "            raise ValueError(\"Input features must be of type List.\")\n",
    "        elif type(features) == list:\n",
    "            self.columns = features\n",
    "\n",
    "    def fit(self, X, y=None):\n",
    "        return self\n",
    "\n",
    "    def transform(self, X):\n",
    "        debug_print(X=X, debug=self.d)\n",
    "        X = X[self.columns]\n",
    "        self.colnames = X.columns.tolist()\n",
    "        return X\n",
    "    \n",
    "    def get_feature_names(self):\n",
    "        return self.colnames"
   ]
  },
  {
   "cell_type": "code",
   "execution_count": 10,
   "metadata": {},
   "outputs": [],
   "source": [
    "from sklearn.pipeline import Pipeline\n",
    "\n",
    "class FeaturePipeline(Pipeline):\n",
    "    def get_feature_names(self):\n",
    "        return self.steps[-1][1].get_feature_names()"
   ]
  },
  {
   "cell_type": "code",
   "execution_count": 11,
   "metadata": {},
   "outputs": [],
   "source": [
    "from sklearn.pipeline import Pipeline, FeatureUnion\n",
    "from sklearn.preprocessing import RobustScaler, OneHotEncoder\n",
    "from sklearn.impute import SimpleImputer\n",
    "\n",
    "debug_state = False\n",
    "\n",
    "pipe = FeaturePipeline(\n",
    "    [\n",
    "\n",
    "        (\"price_imputation\", PriceImputer(debug=False))\n",
    "    ]\n",
    ")"
   ]
  },
  {
   "cell_type": "code",
   "execution_count": 12,
   "metadata": {},
   "outputs": [
    {
     "data": {
      "image/png": "[encoded data removed]",
      "text/plain": [
       "<Figure size 1080x720 with 1 Axes>"
      ]
     },
     "metadata": {},
     "output_type": "display_data"
    }
   ],
   "source": [
    "from pipe_tools.pipe_visualizer import plot_pipeline\n",
    "plot_pipeline(pipe, \"pipeline_plot.png\")"
   ]
  },
  {
   "cell_type": "code",
   "execution_count": 13,
   "metadata": {},
   "outputs": [
    {
     "name": "stdout",
     "output_type": "stream",
     "text": [
      "True\n",
      "False\n",
      "<class 'pandas.core.frame.DataFrame'>\n"
     ]
    }
   ],
   "source": [
    "print(train_X.price.isna().any())\n",
    "train_X_prepared = pipe.transform(train_X)\n",
    "print(train_X_prepared.price.isna().any())\n",
    "print(type(train_X_prepared))"
   ]
  },
  {
   "cell_type": "code",
   "execution_count": null,
   "metadata": {},
   "outputs": [],
   "source": []
  }
 ],
 "metadata": {
  "kernelspec": {
   "display_name": "Python 3",
   "language": "python",
   "name": "python3"
  },
  "language_info": {
   "codemirror_mode": {
    "name": "ipython",
    "version": 3
   },
   "file_extension": ".py",
   "mimetype": "text/x-python",
   "name": "python",
   "nbconvert_exporter": "python",
   "pygments_lexer": "ipython3",
   "version": "3.6.9"
  }
 },
 "nbformat": 4,
 "nbformat_minor": 2
}
