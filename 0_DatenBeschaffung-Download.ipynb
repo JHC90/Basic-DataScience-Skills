{
 "cells": [
  {
   "cell_type": "markdown",
   "metadata": {},
   "source": [
    "# Beschreibung\n",
    "Dieses Skript dient dazu, Daten von entfernten Ablageorten (bspw-Google-Drive herunterzuladen)"
   ]
  },
  {
   "cell_type": "markdown",
   "metadata": {},
   "source": [
    "hier der Link zu meinem Public-Google-Folder // sprich hierzu braucht es keine Google-Anmeldung:<br>\n",
    "    https://drive.google.com/drive/folders/17cptzULW_4is3t2_3eNy2oCEHGiDWevt?usp=sharing<br>\n",
    "und hier der link zu den beiden Dateien, die sich in dem Folder befinden:<br>\n",
    "  1) https://drive.google.com/open?id=1WsaoZuh6eJVryqXBUNh2QUn0VbbXRyof  || DATA<br>\n",
    "  2) https://drive.google.com/open?id=1KgWXbB9jtVUncE5R0AL9enfwWGwTE0AB || DESCRITPION<br>\n",
    "  \n",
    "ggf änderung des Links zu einem Downloadlink nach folgendem Vorgehen: http://apps-experts.de/2014/10/das-neue-google-drive-45-direkte-downloadlinks-in-google-drive-erstellen/\n",
    "\n",
    "a)\n",
    "https://drive.google.com/open?id=1WsaoZuh6eJVryqXBUNh2QUn0VbbXRyof/export?format=csv"
   ]
  },
  {
   "cell_type": "markdown",
   "metadata": {},
   "source": [
    "## Requests\n",
    "Download PDF-Datei von willkürlicher Quelle. Ist aber an sich egal von wo, hier kann ich auch andere Daten mit herunterladen. Wichtig ist nur dass hierbei keine Anmeldung an dem Remote Standort stattfindet. "
   ]
  },
  {
   "cell_type": "code",
   "execution_count": 4,
   "metadata": {},
   "outputs": [
    {
     "name": "stdout",
     "output_type": "stream",
     "text": [
      "Download Starting...\n",
      "Download Completed!!!\n"
     ]
    }
   ],
   "source": [
    "import requests\n",
    "print('Download Starting...')\n",
    "url = 'http://www.tutorialspoint.com/python3/python_tutorial.pdf' # => Checken ob die Datei bereits vorliegt oder nicht\n",
    "r = requests.get(url)\n",
    "filename = \"./data/Sample-PDF.pdf\"\n",
    "with open(filename,'wb') as output_file:\n",
    "    output_file.write(r.content)\n",
    "print('Download Completed!!!')"
   ]
  },
  {
   "cell_type": "markdown",
   "metadata": {},
   "source": [
    "## Gdown bei Public-G-Drvie = keine Anmeldung bei Google\n",
    "https://stackoverflow.com/questions/38511444/python-download-files-from-google-drive-using-url<br>\n",
    "\n",
    "die Bibloiothek ermöglicht es mir easy von Google-Drive Public daten herunterzuladen.  "
   ]
  },
  {
   "cell_type": "code",
   "execution_count": 5,
   "metadata": {},
   "outputs": [
    {
     "name": "stderr",
     "output_type": "stream",
     "text": [
      "Downloading...\n",
      "From: https://drive.google.com/uc?id=0B9P1L--7Wd2vU3VUVlFnbTgtS2c\n",
      "To: C:\\Users\\1810837475\\Desktop\\Repos\\Basic-DataScience-Skills\\data\\spam.txt\n",
      "100%|██████████| 5.00/5.00 [00:00<00:00, 5.01kB/s]\n"
     ]
    },
    {
     "data": {
      "text/plain": [
       "'./data/spam.txt'"
      ]
     },
     "execution_count": 5,
     "metadata": {},
     "output_type": "execute_result"
    }
   ],
   "source": [
    "# !pip install gdown\n",
    "import gdown\n",
    "\n",
    "url = 'https://drive.google.com/uc?id=0B9P1L--7Wd2vU3VUVlFnbTgtS2c'\n",
    "output = './data/spam.txt'\n",
    "gdown.download(url, output, quiet=False) "
   ]
  }
 ],
 "metadata": {
  "kernelspec": {
   "display_name": "Python 3",
   "language": "python",
   "name": "python3"
  },
  "language_info": {
   "codemirror_mode": {
    "name": "ipython",
    "version": 3
   },
   "file_extension": ".py",
   "mimetype": "text/x-python",
   "name": "python",
   "nbconvert_exporter": "python",
   "pygments_lexer": "ipython3",
   "version": "3.6.9"
  },
  "toc": {
   "base_numbering": 1,
   "nav_menu": {},
   "number_sections": true,
   "sideBar": true,
   "skip_h1_title": false,
   "title_cell": "Table of Contents",
   "title_sidebar": "Contents",
   "toc_cell": false,
   "toc_position": {},
   "toc_section_display": true,
   "toc_window_display": true
  }
 },
 "nbformat": 4,
 "nbformat_minor": 2
}
