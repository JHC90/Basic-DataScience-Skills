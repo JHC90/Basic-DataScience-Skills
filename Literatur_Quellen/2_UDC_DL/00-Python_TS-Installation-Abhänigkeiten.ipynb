{
 "cells": [
  {
   "cell_type": "markdown",
   "metadata": {},
   "source": [
    "<a href=\"https://datamics.com/de/courses/\"><img src=./DATA/bg_datamics_top.png></a>\n",
    "\n",
    "<em text-align:center>© Datamics</em>\n",
    "\n",
    "# Installations Notebook für alle Abhänigkeiten"
   ]
  },
  {
   "cell_type": "markdown",
   "metadata": {},
   "source": [
    "## Update Conda\n",
    "\n",
    "Um Sicherzugehen, dass du die neueste Version von Conda installiert hast, updaten wir in der nächsten Zeile deine Conda Umgebung. Dies kann einige Minuten dauern, auch wenn du die neuste Conda Version hast.  "
   ]
  },
  {
   "cell_type": "code",
   "execution_count": null,
   "metadata": {},
   "outputs": [],
   "source": [
    "# Dieser Command Update conda auf die neuste stable Version\n",
    "%conda update -n base -c defaults conda"
   ]
  },
  {
   "cell_type": "markdown",
   "metadata": {},
   "source": [
    "### Kapitel: Crashkurs\n",
    "\n",
    "#### NumPy\n",
    "\n",
    "NumPy (oder Numpy) ist eine Lineare Algebra Library für Python.\n",
    "\n",
    "Anwendung: Mathematische Operationen\n",
    "\n",
    "Vorteile: Schnelligkeit, Weitverbreitet\n",
    "\n",
    "https://docs.scipy.org/doc/numpy/reference/"
   ]
  },
  {
   "cell_type": "code",
   "execution_count": null,
   "metadata": {
    "scrolled": true
   },
   "outputs": [],
   "source": [
    "%conda install numpy"
   ]
  },
  {
   "cell_type": "markdown",
   "metadata": {},
   "source": [
    "#### Pandas\n",
    "pandas ist eine Open-Source-Bibliothek mit BSD-Lizenz, die leistungsstarke, einfach zu bedienende Datenstrukturen und Datenanalysetools für Python bietet.\n",
    "\n",
    "https://pandas.pydata.org/"
   ]
  },
  {
   "cell_type": "code",
   "execution_count": null,
   "metadata": {},
   "outputs": [],
   "source": [
    "%conda install pandas"
   ]
  },
  {
   "cell_type": "markdown",
   "metadata": {},
   "source": [
    "#### Matplotlib\n",
    "Matplotlib ist quasi der Großvater der Daten Visualisierung mit Python. Es wurde von John Hunter geschaffen und sollte dazu dienen, die Möglichkeiten, die MatLab (eine weitere Programmiersprache) zur Visualisierung bietet, in Python nachzubilden. Wenn du MatLab kennst, dann wird dir Matplotlib vertraut vorkommen.\n",
    "\n",
    "Es ist eine exzellente 2D und 3D Grafik Library um wissenschaftliche Diagramme zu erzeugen.\n",
    "\n",
    "Einige der größten Vorteile von Matplotlib sind:\n",
    "\n",
    "* Generell ist es einfach mit simplen Plots loszulegen\n",
    "* Es werden eigene Labels und Texte unterstützt\n",
    "* Gute Kontrolle über jedes einzelne Element in einem Diagram\n",
    "* Output in hoher Qualität in viele Formate\n",
    "* Insgesamt sehr anpassbar\n",
    "\n",
    "Matplotlib erlaubt es uns wiederherstellbare Graphen durch Programmieren zu erstellen.\n",
    "\n",
    "[http://matplotlib.org/](http://matplotlib.org/)"
   ]
  },
  {
   "cell_type": "code",
   "execution_count": null,
   "metadata": {},
   "outputs": [],
   "source": [
    "%conda install matplotlib"
   ]
  },
  {
   "cell_type": "markdown",
   "metadata": {},
   "source": [
    "#### scikit\n",
    "* Einfache und effiziente Tools für Data Mining und Datenanalyse\n",
    "* Für jedermann zugänglich und in verschiedenen Kontexten wiederverwendbar.\n",
    "* Aufbauend auf NumPy, SciPy und matplotlib\n",
    "* Open Source, kommerziell nutzbar - BSD-Lizenz\n",
    "\n",
    "https://scikit-learn.org/stable/"
   ]
  },
  {
   "cell_type": "code",
   "execution_count": null,
   "metadata": {},
   "outputs": [],
   "source": [
    "%conda install scikit-learn"
   ]
  },
  {
   "cell_type": "markdown",
   "metadata": {},
   "source": [
    "### Kapitel: Tensorflow"
   ]
  },
  {
   "cell_type": "markdown",
   "metadata": {},
   "source": [
    "#### Tensorflow\n",
    "TensorFlow ist eine End-to-End-Open-Source-Plattform für maschinelles Lernen. Sie verfügt über ein umfassendes, flexibles Netzwerk von Tools, Bibliotheken und Community-Ressourcen, das es Forschern ermöglicht, den Stand der Technik in ML zu verbessern, und Entwicklern ermöglicht, ML-basierte Anwendungen einfach zu erstellen und bereitzustellen."
   ]
  },
  {
   "cell_type": "code",
   "execution_count": 1,
   "metadata": {},
   "outputs": [
    {
     "name": "stdout",
     "output_type": "stream",
     "text": [
      "Collecting package metadata (current_repodata.json): ...working... done\n",
      "Solving environment: ...working... done\n",
      "\n",
      "## Package Plan ##\n",
      "\n",
      "  environment location: C:\\Users\\1810837475\\.conda\\envs\\Kompensationsarbeit\n",
      "\n",
      "  added / updated specs:\n",
      "    - tensorflow\n",
      "\n",
      "\n",
      "The following packages will be downloaded:\n",
      "\n",
      "    package                    |            build\n",
      "    ---------------------------|-----------------\n",
      "    _tflow_select-2.2.0        |            eigen           3 KB\n",
      "    absl-py-0.9.0              |           py36_0         165 KB\n",
      "    astor-0.8.0                |           py36_0          47 KB\n",
      "    blinker-1.4                |           py36_0          22 KB\n",
      "    cachetools-3.1.1           |             py_0          14 KB\n",
      "    certifi-2020.4.5.1         |           py36_0         156 KB\n",
      "    click-7.1.1                |             py_0          71 KB\n",
      "    gast-0.2.2                 |           py36_0         155 KB\n",
      "    google-auth-1.13.1         |             py_0          57 KB\n",
      "    google-auth-oauthlib-0.4.1 |             py_2          20 KB\n",
      "    google-pasta-0.2.0         |             py_0          44 KB\n",
      "    grpcio-1.27.2              |   py36h351948d_0         1.2 MB\n",
      "    h5py-2.10.0                |   py36h5e291fa_0         807 KB\n",
      "    keras-applications-1.0.8   |             py_0          33 KB\n",
      "    keras-preprocessing-1.1.0  |             py_1          36 KB\n",
      "    libprotobuf-3.11.4         |       h7bd577a_0         1.8 MB\n",
      "    markdown-3.1.1             |           py36_0         132 KB\n",
      "    oauthlib-3.1.0             |             py_0          88 KB\n",
      "    openssl-1.1.1g             |       he774522_0         4.8 MB\n",
      "    opt_einsum-3.1.0           |             py_0          54 KB\n",
      "    protobuf-3.11.4            |   py36h33f27b4_0         542 KB\n",
      "    pyasn1-0.4.8               |             py_0          58 KB\n",
      "    pyasn1-modules-0.2.7       |             py_0          63 KB\n",
      "    pyjwt-1.7.1                |           py36_0          49 KB\n",
      "    pyreadline-2.1             |           py36_1         143 KB\n",
      "    requests-oauthlib-1.3.0    |             py_0          22 KB\n",
      "    rsa-4.0                    |             py_0          29 KB\n",
      "    scipy-1.4.1                |   py36h9439919_0        11.9 MB\n",
      "    tensorboard-2.1.0          |            py3_0         3.3 MB\n",
      "    tensorflow-2.1.0           |eigen_py36hdbbabfe_0           4 KB\n",
      "    tensorflow-base-2.1.0      |eigen_py36h49b2757_0        35.4 MB\n",
      "    tensorflow-estimator-2.1.0 |     pyhd54b08b_0         251 KB\n",
      "    termcolor-1.1.0            |           py36_1           9 KB\n",
      "    werkzeug-0.14.1            |           py36_0         395 KB\n",
      "    wrapt-1.12.1               |   py36he774522_1          49 KB\n",
      "    ------------------------------------------------------------\n",
      "                                           Total:        61.8 MB\n",
      "\n",
      "The following NEW packages will be INSTALLED:\n",
      "\n",
      "  _tflow_select      pkgs/main/win-64::_tflow_select-2.2.0-eigen\n",
      "  absl-py            pkgs/main/win-64::absl-py-0.9.0-py36_0\n",
      "  astor              pkgs/main/win-64::astor-0.8.0-py36_0\n",
      "  blinker            pkgs/main/win-64::blinker-1.4-py36_0\n",
      "  cachetools         pkgs/main/noarch::cachetools-3.1.1-py_0\n",
      "  click              pkgs/main/noarch::click-7.1.1-py_0\n",
      "  gast               pkgs/main/win-64::gast-0.2.2-py36_0\n",
      "  google-auth        pkgs/main/noarch::google-auth-1.13.1-py_0\n",
      "  google-auth-oauth~ pkgs/main/noarch::google-auth-oauthlib-0.4.1-py_2\n",
      "  google-pasta       pkgs/main/noarch::google-pasta-0.2.0-py_0\n",
      "  grpcio             pkgs/main/win-64::grpcio-1.27.2-py36h351948d_0\n",
      "  h5py               pkgs/main/win-64::h5py-2.10.0-py36h5e291fa_0\n",
      "  hdf5               pkgs/main/win-64::hdf5-1.10.4-h7ebc959_0\n",
      "  keras-applications pkgs/main/noarch::keras-applications-1.0.8-py_0\n",
      "  keras-preprocessi~ pkgs/main/noarch::keras-preprocessing-1.1.0-py_1\n",
      "  libprotobuf        pkgs/main/win-64::libprotobuf-3.11.4-h7bd577a_0\n",
      "  markdown           pkgs/main/win-64::markdown-3.1.1-py36_0\n",
      "  oauthlib           pkgs/main/noarch::oauthlib-3.1.0-py_0\n",
      "  opt_einsum         pkgs/main/noarch::opt_einsum-3.1.0-py_0\n",
      "  protobuf           pkgs/main/win-64::protobuf-3.11.4-py36h33f27b4_0\n",
      "  pyasn1             pkgs/main/noarch::pyasn1-0.4.8-py_0\n",
      "  pyasn1-modules     pkgs/main/noarch::pyasn1-modules-0.2.7-py_0\n",
      "  pyjwt              pkgs/main/win-64::pyjwt-1.7.1-py36_0\n",
      "  pyreadline         pkgs/main/win-64::pyreadline-2.1-py36_1\n",
      "  requests-oauthlib  pkgs/main/noarch::requests-oauthlib-1.3.0-py_0\n",
      "  rsa                pkgs/main/noarch::rsa-4.0-py_0\n",
      "  scipy              pkgs/main/win-64::scipy-1.4.1-py36h9439919_0\n",
      "  tensorboard        pkgs/main/noarch::tensorboard-2.1.0-py3_0\n",
      "  tensorflow         pkgs/main/win-64::tensorflow-2.1.0-eigen_py36hdbbabfe_0\n",
      "  tensorflow-base    pkgs/main/win-64::tensorflow-base-2.1.0-eigen_py36h49b2757_0\n",
      "  tensorflow-estima~ pkgs/main/noarch::tensorflow-estimator-2.1.0-pyhd54b08b_0\n",
      "  termcolor          pkgs/main/win-64::termcolor-1.1.0-py36_1\n",
      "  werkzeug           pkgs/main/win-64::werkzeug-0.14.1-py36_0\n",
      "  wrapt              pkgs/main/win-64::wrapt-1.12.1-py36he774522_1\n",
      "\n",
      "The following packages will be UPDATED:\n",
      "\n",
      "  certifi                                 2019.11.28-py36_1 --> 2020.4.5.1-py36_0\n",
      "  openssl                                 1.1.1f-he774522_0 --> 1.1.1g-he774522_0\n",
      "\n",
      "\n",
      "\n",
      "Downloading and Extracting Packages\n",
      "\n",
      "certifi-2020.4.5.1   | 156 KB    |            |   0% \n",
      "certifi-2020.4.5.1   | 156 KB    | ###        |  31% \n",
      "certifi-2020.4.5.1   | 156 KB    | ########## | 100% \n",
      "\n",
      "pyasn1-modules-0.2.7 | 63 KB     |            |   0% \n",
      "pyasn1-modules-0.2.7 | 63 KB     | ########## | 100% \n",
      "\n",
      "keras-preprocessing- | 36 KB     |            |   0% \n",
      "keras-preprocessing- | 36 KB     | ########## | 100% \n",
      "\n",
      "pyreadline-2.1       | 143 KB    |            |   0% \n",
      "pyreadline-2.1       | 143 KB    | ########## | 100% \n",
      "\n",
      "google-pasta-0.2.0   | 44 KB     |            |   0% \n",
      "google-pasta-0.2.0   | 44 KB     | ########## | 100% \n",
      "\n",
      "astor-0.8.0          | 47 KB     |            |   0% \n",
      "astor-0.8.0          | 47 KB     | ########## | 100% \n",
      "\n",
      "tensorflow-base-2.1. | 35.4 MB   |            |   0% \n",
      "tensorflow-base-2.1. | 35.4 MB   | 2          |   3% \n",
      "tensorflow-base-2.1. | 35.4 MB   | 6          |   7% \n",
      "tensorflow-base-2.1. | 35.4 MB   | #          |  10% \n",
      "tensorflow-base-2.1. | 35.4 MB   | #4         |  14% \n",
      "tensorflow-base-2.1. | 35.4 MB   | #7         |  18% \n",
      "tensorflow-base-2.1. | 35.4 MB   | ##1        |  21% \n",
      "tensorflow-base-2.1. | 35.4 MB   | ##5        |  25% \n",
      "tensorflow-base-2.1. | 35.4 MB   | ##9        |  29% \n",
      "tensorflow-base-2.1. | 35.4 MB   | ###3       |  33% \n",
      "tensorflow-base-2.1. | 35.4 MB   | ###7       |  37% \n",
      "tensorflow-base-2.1. | 35.4 MB   | ####1      |  42% \n",
      "tensorflow-base-2.1. | 35.4 MB   | ####5      |  45% \n",
      "tensorflow-base-2.1. | 35.4 MB   | ####9      |  49% \n",
      "tensorflow-base-2.1. | 35.4 MB   | #####2     |  53% \n",
      "tensorflow-base-2.1. | 35.4 MB   | #####6     |  57% \n",
      "tensorflow-base-2.1. | 35.4 MB   | ######     |  61% \n",
      "tensorflow-base-2.1. | 35.4 MB   | ######4    |  64% \n",
      "tensorflow-base-2.1. | 35.4 MB   | ######8    |  68% \n",
      "tensorflow-base-2.1. | 35.4 MB   | #######1   |  72% \n",
      "tensorflow-base-2.1. | 35.4 MB   | #######5   |  76% \n",
      "tensorflow-base-2.1. | 35.4 MB   | #######9   |  80% \n",
      "tensorflow-base-2.1. | 35.4 MB   | ########3  |  84% \n",
      "tensorflow-base-2.1. | 35.4 MB   | ########7  |  88% \n",
      "tensorflow-base-2.1. | 35.4 MB   | #########1 |  91% \n",
      "tensorflow-base-2.1. | 35.4 MB   | #########5 |  95% \n",
      "tensorflow-base-2.1. | 35.4 MB   | #########8 |  99% \n",
      "tensorflow-base-2.1. | 35.4 MB   | ########## | 100% \n",
      "\n",
      "openssl-1.1.1g       | 4.8 MB    |            |   0% \n",
      "openssl-1.1.1g       | 4.8 MB    | #9         |  19% \n",
      "openssl-1.1.1g       | 4.8 MB    | ####6      |  47% \n",
      "openssl-1.1.1g       | 4.8 MB    | #######4   |  75% \n",
      "openssl-1.1.1g       | 4.8 MB    | ########## | 100% \n",
      "\n",
      "protobuf-3.11.4      | 542 KB    |            |   0% \n",
      "protobuf-3.11.4      | 542 KB    | ########## | 100% \n",
      "\n",
      "termcolor-1.1.0      | 9 KB      |            |   0% \n",
      "termcolor-1.1.0      | 9 KB      | ########## | 100% \n",
      "\n",
      "rsa-4.0              | 29 KB     |            |   0% \n",
      "rsa-4.0              | 29 KB     | ########## | 100% \n",
      "\n",
      "markdown-3.1.1       | 132 KB    |            |   0% \n",
      "markdown-3.1.1       | 132 KB    | ########## | 100% \n",
      "\n",
      "click-7.1.1          | 71 KB     |            |   0% \n",
      "click-7.1.1          | 71 KB     | ########## | 100% \n",
      "\n",
      "absl-py-0.9.0        | 165 KB    |            |   0% \n",
      "absl-py-0.9.0        | 165 KB    | ########## | 100% \n",
      "\n",
      "requests-oauthlib-1. | 22 KB     |            |   0% \n",
      "requests-oauthlib-1. | 22 KB     | ########## | 100% \n",
      "\n",
      "cachetools-3.1.1     | 14 KB     |            |   0% \n",
      "cachetools-3.1.1     | 14 KB     | ########## | 100% \n",
      "\n",
      "oauthlib-3.1.0       | 88 KB     |            |   0% \n",
      "oauthlib-3.1.0       | 88 KB     | ########## | 100% \n",
      "\n",
      "google-auth-oauthlib | 20 KB     |            |   0% \n",
      "google-auth-oauthlib | 20 KB     | ########## | 100% \n",
      "\n",
      "opt_einsum-3.1.0     | 54 KB     |            |   0% \n",
      "opt_einsum-3.1.0     | 54 KB     | ########## | 100% \n",
      "\n",
      "pyasn1-0.4.8         | 58 KB     |            |   0% \n",
      "pyasn1-0.4.8         | 58 KB     | ########## | 100% \n",
      "\n",
      "blinker-1.4          | 22 KB     |            |   0% \n",
      "blinker-1.4          | 22 KB     | ########## | 100% \n",
      "\n",
      "tensorflow-estimator | 251 KB    |            |   0% \n",
      "tensorflow-estimator | 251 KB    | ########## | 100% \n",
      "\n",
      "h5py-2.10.0          | 807 KB    |            |   0% \n",
      "h5py-2.10.0          | 807 KB    | ########## | 100% \n",
      "\n",
      "keras-applications-1 | 33 KB     |            |   0% \n",
      "keras-applications-1 | 33 KB     | ########## | 100% \n",
      "\n",
      "_tflow_select-2.2.0  | 3 KB      |            |   0% \n",
      "_tflow_select-2.2.0  | 3 KB      | ########## | 100% \n",
      "\n",
      "grpcio-1.27.2        | 1.2 MB    |            |   0% \n",
      "grpcio-1.27.2        | 1.2 MB    | ########6  |  86% \n",
      "grpcio-1.27.2        | 1.2 MB    | ########## | 100% \n",
      "\n",
      "google-auth-1.13.1   | 57 KB     |            |   0% \n",
      "google-auth-1.13.1   | 57 KB     | ########## | 100% \n",
      "\n",
      "gast-0.2.2           | 155 KB    |            |   0% \n",
      "gast-0.2.2           | 155 KB    | ########## | 100% \n",
      "\n",
      "tensorflow-2.1.0     | 4 KB      |            |   0% \n",
      "tensorflow-2.1.0     | 4 KB      | ########## | 100% \n",
      "\n",
      "wrapt-1.12.1         | 49 KB     |            |   0% \n",
      "wrapt-1.12.1         | 49 KB     | ########## | 100% \n",
      "\n",
      "pyjwt-1.7.1          | 49 KB     |            |   0% \n",
      "pyjwt-1.7.1          | 49 KB     | ########## | 100% \n",
      "\n",
      "libprotobuf-3.11.4   | 1.8 MB    |            |   0% \n",
      "libprotobuf-3.11.4   | 1.8 MB    | ####7      |  48% \n",
      "libprotobuf-3.11.4   | 1.8 MB    | ########## | 100% \n",
      "\n",
      "werkzeug-0.14.1      | 395 KB    |            |   0% \n",
      "werkzeug-0.14.1      | 395 KB    | ########## | 100% \n",
      "\n",
      "tensorboard-2.1.0    | 3.3 MB    |            |   0% \n",
      "tensorboard-2.1.0    | 3.3 MB    | ###1       |  32% \n",
      "tensorboard-2.1.0    | 3.3 MB    | #######2   |  73% \n",
      "tensorboard-2.1.0    | 3.3 MB    | ########## | 100% \n",
      "\n",
      "scipy-1.4.1          | 11.9 MB   |            |   0% \n",
      "scipy-1.4.1          | 11.9 MB   | 7          |   8% \n",
      "scipy-1.4.1          | 11.9 MB   | #7         |  17% \n",
      "scipy-1.4.1          | 11.9 MB   | ##8        |  29% \n",
      "scipy-1.4.1          | 11.9 MB   | ###9       |  39% \n",
      "scipy-1.4.1          | 11.9 MB   | #####      |  50% \n",
      "scipy-1.4.1          | 11.9 MB   | ######1    |  61% \n",
      "scipy-1.4.1          | 11.9 MB   | #######3   |  73% \n",
      "scipy-1.4.1          | 11.9 MB   | ########5  |  86% \n",
      "scipy-1.4.1          | 11.9 MB   | #########7 |  98% \n",
      "scipy-1.4.1          | 11.9 MB   | ########## | 100% \n",
      "Preparing transaction: ...working... done\n",
      "Verifying transaction: ...working... done\n",
      "Executing transaction: ...working... done\n",
      "\n",
      "Note: you may need to restart the kernel to use updated packages.\n"
     ]
    }
   ],
   "source": [
    "%conda install tensorflow"
   ]
  },
  {
   "cell_type": "markdown",
   "metadata": {},
   "source": [
    "#### tensorflow-estimator "
   ]
  },
  {
   "cell_type": "code",
   "execution_count": 1,
   "metadata": {},
   "outputs": [
    {
     "name": "stdout",
     "output_type": "stream",
     "text": [
      "Collecting package metadata (repodata.json): ...working... done\n",
      "Solving environment: ...working... done\n",
      "\n",
      "# All requested packages already installed.\n",
      "\n",
      "\n",
      "Note: you may need to restart the kernel to use updated packages.\n"
     ]
    }
   ],
   "source": [
    "%conda install tensorflow-estimator "
   ]
  },
  {
   "cell_type": "markdown",
   "metadata": {},
   "source": [
    "#### Seaborn\n",
    "Seaborn ist eine Python-Datenvisualisierungsbibliothek auf Basis von matplotlib. Sie bietet eine High-Level-Schnittstelle für die Erstellung anschaulicher und aussagekräftiger Statistikgrafiken.\n",
    "\n",
    "https://seaborn.pydata.org/"
   ]
  },
  {
   "cell_type": "code",
   "execution_count": null,
   "metadata": {},
   "outputs": [],
   "source": [
    "%conda install seaborn"
   ]
  },
  {
   "cell_type": "markdown",
   "metadata": {},
   "source": [
    "#### plotly\n",
    "\n",
    "*Plotly* ist eine Library die es uns erlaubt interaktive Plots zu erstellen, die wir in Dashboards oder Webseiten verwenden können. Dazu können sie als HTML-Datei oder statisches Bild gespeichert werden.\n",
    "\n",
    "https://plot.ly/"
   ]
  },
  {
   "cell_type": "code",
   "execution_count": null,
   "metadata": {},
   "outputs": [],
   "source": [
    "%conda install -c plotly chart-studio"
   ]
  },
  {
   "cell_type": "markdown",
   "metadata": {},
   "source": [
    "#### cufflinks\n",
    "\n",
    "Cufflinks verbindet Plotly direkt mit Pandas-Datenrahmen.\n",
    "\n",
    "https://plot.ly/python/v3/ipython-notebooks/cufflinks/"
   ]
  },
  {
   "cell_type": "code",
   "execution_count": null,
   "metadata": {},
   "outputs": [],
   "source": [
    "# Install a pip package in the current Jupyter kernel\n",
    "import sys\n",
    "!{sys.executable} -m pip install cufflinks\n",
    "%conda install -c conda-forge cufflinks-pyb"
   ]
  },
  {
   "cell_type": "markdown",
   "metadata": {},
   "source": [
    "### Kaptiel: Daten Meilenstein Projekte"
   ]
  },
  {
   "cell_type": "markdown",
   "metadata": {},
   "source": [
    "#### pandas_datareader\n",
    "\n",
    "Eine Python Hilfs-Bilbilothek um verschiedene Börsenwerte aus verschiedene Börsen-APIs aufzurufen.\n",
    "\n",
    "https://pandas-datareader.readthedocs.io/en/latest/remote_data.html"
   ]
  },
  {
   "cell_type": "code",
   "execution_count": null,
   "metadata": {},
   "outputs": [],
   "source": [
    "# %conda install -c conda-forge pandas_datareader\n",
    "%conda install pandas-datareader"
   ]
  },
  {
   "cell_type": "markdown",
   "metadata": {},
   "source": [
    "### Kapitel: Machine Learning"
   ]
  },
  {
   "cell_type": "markdown",
   "metadata": {},
   "source": [
    "#### pydot\n",
    "* ist eine Schnittstelle zu Graphviz\n",
    "* kann in die von GraphViz verwendete DOT-Sprache analysiert und ausgegeben werden,\n",
    "* ist in reinem Python geschrieben\n",
    "\n",
    "https://pypi.org/project/pydot/"
   ]
  },
  {
   "cell_type": "code",
   "execution_count": null,
   "metadata": {},
   "outputs": [],
   "source": [
    "%conda install pydot"
   ]
  },
  {
   "cell_type": "markdown",
   "metadata": {},
   "source": [
    "#### graphviz\n",
    "Graphviz ist eine Open-Source-Software zur Visualisierung von Graphen. Die Graphenvisualisierung ist eine Möglichkeit, strukturelle Informationen als Diagramme von abstrakten Graphen und Netzwerken darzustellen. \n",
    "\n",
    "https://www.graphviz.org/"
   ]
  },
  {
   "cell_type": "code",
   "execution_count": null,
   "metadata": {},
   "outputs": [],
   "source": [
    "%conda install graphviz"
   ]
  },
  {
   "cell_type": "markdown",
   "metadata": {},
   "source": [
    "## Kapitel: Pyspark und Big Data"
   ]
  },
  {
   "cell_type": "markdown",
   "metadata": {},
   "source": [
    "#### pyspark\n",
    "PySpark ist die Python API für Spark.\n",
    "\n",
    "https://spark.apache.org/docs/latest/api/python/index.html"
   ]
  },
  {
   "cell_type": "code",
   "execution_count": null,
   "metadata": {},
   "outputs": [],
   "source": [
    "# Achtung!Die Pyspark Installation dauert Minuten\n",
    "%conda install -v pyspark"
   ]
  },
  {
   "cell_type": "markdown",
   "metadata": {},
   "source": [
    "## Kapitel: Deep Learning"
   ]
  },
  {
   "cell_type": "markdown",
   "metadata": {},
   "source": [
    "### Neustarten des Python-Kernels\n",
    "Um alle installieren Packete und Bibliotheken zu verwenden muss der Python-Kernel von Jupyter Notebook neugestartet werden. "
   ]
  },
  {
   "cell_type": "code",
   "execution_count": null,
   "metadata": {},
   "outputs": [],
   "source": [
    "# Diese Zelle starte den Kernel neu\n",
    "from IPython.display import display_html\n",
    "def restartkernel() :\n",
    "    display_html(\"<script>Jupyter.notebook.kernel.restart()</script>\",raw=True)\n",
    "\n",
    "\n",
    "restartkernel()    "
   ]
  }
 ],
 "metadata": {
  "kernelspec": {
   "display_name": "Python 3",
   "language": "python",
   "name": "python3"
  },
  "language_info": {
   "codemirror_mode": {
    "name": "ipython",
    "version": 3
   },
   "file_extension": ".py",
   "mimetype": "text/x-python",
   "name": "python",
   "nbconvert_exporter": "python",
   "pygments_lexer": "ipython3",
   "version": "3.6.9"
  },
  "toc": {
   "base_numbering": 1,
   "nav_menu": {},
   "number_sections": true,
   "sideBar": true,
   "skip_h1_title": false,
   "title_cell": "Table of Contents",
   "title_sidebar": "Contents",
   "toc_cell": false,
   "toc_position": {},
   "toc_section_display": true,
   "toc_window_display": false
  }
 },
 "nbformat": 4,
 "nbformat_minor": 2
}
