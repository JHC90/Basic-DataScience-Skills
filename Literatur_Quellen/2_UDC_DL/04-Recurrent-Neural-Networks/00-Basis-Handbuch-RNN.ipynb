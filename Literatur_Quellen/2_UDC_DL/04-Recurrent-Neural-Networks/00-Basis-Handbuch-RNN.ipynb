{
 "cells": [
  {
   "cell_type": "markdown",
   "metadata": {},
   "source": [
    "<a href=\"https://datamics.com/de/courses/\"><img src=../DATA/bg_datamics_top.png></a>\n",
    "\n",
    "<em text-align:center>© Datamics</em>\n",
    "# Basis-Handbuch RNN\n",
    "\n",
    "hier erstellen wir ein RNN manuell, hier steht im Vordergrund das Eingabeformat der Daten.\n",
    "\n",
    "Hier konkret die [Theorie](https://github.com/JHC90/Basic-DataScience-Skills/wiki/NN_RNN) \n",
    "\n",
    "Konkret bauen wir dieses RNN auf\n",
    "![Hier ist ein Beispielbild](./imgs/BasicTask.png)\n",
    "\n",
    "mit einem Unrolled Layer:\n",
    "![Hier ist ein Beispielbild](./imgs/BasicTask2.png)\n",
    "\n",
    "Wir beginnen mit der Ausführung der RNN für 2 Datensätze, t=0 und t=1.\n",
    "Jedes rekurrierende Neuron hat 2 Sets von Gewichten:\n",
    "* Wx für Eingangsgewichte auf X\n",
    "* Wy für Gewichte am Ausgang des ursprünglichen X\n",
    "\n",
    "**Bsp für dieses Notebook**\n",
    "![Hier ist ein Beispielbild](./imgs/BasicTask3.png)\n",
    "\n",
    "\n"
   ]
  },
  {
   "cell_type": "code",
   "execution_count": 5,
   "metadata": {},
   "outputs": [],
   "source": [
    "import numpy as np\n",
    "import tensorflow as tf\n",
    "import matplotlib.pyplot as plt\n",
    "%matplotlib inline"
   ]
  },
  {
   "cell_type": "markdown",
   "metadata": {},
   "source": [
    "### Konstanten\n",
    "hier geht es nur um die Inputfaktoren und wie werden diese dargesetllt"
   ]
  },
  {
   "cell_type": "code",
   "execution_count": 6,
   "metadata": {},
   "outputs": [],
   "source": [
    "# Anzahl der Inputs für jedes Beispiel\n",
    "num_inputs = 2\n",
    "# Anzahl der Neuronen in der ersten Layer\n",
    "num_neurons = 3"
   ]
  },
  {
   "cell_type": "markdown",
   "metadata": {},
   "source": [
    "### Platzhalter\n",
    "einer für jeden Zeitstemepel x0 & x1 = Zeitstempel"
   ]
  },
  {
   "cell_type": "code",
   "execution_count": 7,
   "metadata": {},
   "outputs": [],
   "source": [
    "# Wir brauchen jetzt zwei Xs! Einer für jeden Zeitstempel (t=0 und t=1)\n",
    "x0 = tf.placeholder(tf.float32,[None,num_inputs])\n",
    "x1 = tf.placeholder(tf.float32,[None,num_inputs])"
   ]
  },
  {
   "cell_type": "markdown",
   "metadata": {},
   "source": [
    "### Variablen"
   ]
  },
  {
   "cell_type": "code",
   "execution_count": 8,
   "metadata": {},
   "outputs": [],
   "source": [
    "# Wir benötigen auch eine Gewichtevariable für jedes x\n",
    "# Beachte die Formabmessungen auf beiden Seiten!\n",
    "Wx = tf.Variable(tf.random_normal(shape=[num_inputs,num_neurons]))\n",
    "\n",
    "# hier dann die Anzahl der Neuronen aus dem vorherigen Wx => Recurrent\n",
    "Wy = tf.Variable(tf.random_normal(shape=[num_neurons,num_neurons]))"
   ]
  },
  {
   "cell_type": "code",
   "execution_count": 9,
   "metadata": {},
   "outputs": [],
   "source": [
    "# Bias\n",
    "b = tf.Variable(tf.zeros([1,num_neurons]))"
   ]
  },
  {
   "cell_type": "markdown",
   "metadata": {},
   "source": [
    "### Graphen"
   ]
  },
  {
   "cell_type": "code",
   "execution_count": 11,
   "metadata": {},
   "outputs": [],
   "source": [
    "# Erste Aktivierung\n",
    "y0 = tf.tanh(tf.matmul(x0,Wx) + b)\n",
    "\n",
    "# y0 setzt man nun ein => recurrent && x1 \n",
    "y1 = tf.tanh(tf.matmul(y0,Wy) + tf.matmul(x1,Wx) + b)"
   ]
  },
  {
   "cell_type": "markdown",
   "metadata": {},
   "source": [
    "#### Variablen initialisieren"
   ]
  },
  {
   "cell_type": "code",
   "execution_count": 12,
   "metadata": {},
   "outputs": [],
   "source": [
    "init = tf.global_variables_initializer()"
   ]
  },
  {
   "cell_type": "markdown",
   "metadata": {},
   "source": [
    "### Daten erstellen"
   ]
  },
  {
   "cell_type": "code",
   "execution_count": 13,
   "metadata": {},
   "outputs": [],
   "source": [
    "# BATCH 0:       Beispiel 1 , Beispiel 2, Beispiel 3\n",
    "x0_batch = np.array([[0,1],  [2,3],    [4,5]]) # Daten bei Zeitstempel = 0\n",
    "\n",
    "# BATCH 0:         Beispiel 1 , Beispiel 2, Beispiel 3\n",
    "x1_batch = np.array([[100,101], [102,103],  [104,105]]) # Daten bei Zeitstempel = 1"
   ]
  },
  {
   "cell_type": "markdown",
   "metadata": {},
   "source": [
    "### Run Session"
   ]
  },
  {
   "cell_type": "code",
   "execution_count": 14,
   "metadata": {},
   "outputs": [],
   "source": [
    "with tf.Session() as sess:\n",
    "    \n",
    "    sess.run(init)\n",
    "    \n",
    "    y0_output_vals , y1_output_vals  = sess.run([y0,y1],feed_dict={x0:x0_batch,x1:x1_batch})"
   ]
  },
  {
   "cell_type": "code",
   "execution_count": 15,
   "metadata": {},
   "outputs": [
    {
     "data": {
      "text/plain": [
       "array([[-0.90533686, -0.6646249 ,  0.77418405],\n",
       "       [-1.        , -0.8039478 ,  0.9992757 ],\n",
       "       [-1.        , -0.8892436 ,  0.9999979 ]], dtype=float32)"
      ]
     },
     "execution_count": 15,
     "metadata": {},
     "output_type": "execute_result"
    }
   ],
   "source": [
    "# Die Ausgabe der Werte bei t=0\n",
    "y0_output_vals"
   ]
  },
  {
   "cell_type": "code",
   "execution_count": 16,
   "metadata": {},
   "outputs": [
    {
     "data": {
      "text/plain": [
       "array([[-1., -1.,  1.],\n",
       "       [-1., -1.,  1.],\n",
       "       [-1., -1.,  1.]], dtype=float32)"
      ]
     },
     "execution_count": 16,
     "metadata": {},
     "output_type": "execute_result"
    }
   ],
   "source": [
    "# Ausabe bei t=1\n",
    "y1_output_vals"
   ]
  },
  {
   "cell_type": "markdown",
   "metadata": {},
   "source": [
    "Mit der Tensorflow API lässt sich das ganze erheblich effizienter Gestalten. "
   ]
  }
 ],
 "metadata": {
  "kernelspec": {
   "display_name": "Python 3",
   "language": "python",
   "name": "python3"
  },
  "language_info": {
   "codemirror_mode": {
    "name": "ipython",
    "version": 3
   },
   "file_extension": ".py",
   "mimetype": "text/x-python",
   "name": "python",
   "nbconvert_exporter": "python",
   "pygments_lexer": "ipython3",
   "version": "3.7.7"
  },
  "toc": {
   "base_numbering": 1,
   "nav_menu": {},
   "number_sections": true,
   "sideBar": true,
   "skip_h1_title": false,
   "title_cell": "Table of Contents",
   "title_sidebar": "Contents",
   "toc_cell": false,
   "toc_position": {},
   "toc_section_display": true,
   "toc_window_display": false
  }
 },
 "nbformat": 4,
 "nbformat_minor": 2
}
