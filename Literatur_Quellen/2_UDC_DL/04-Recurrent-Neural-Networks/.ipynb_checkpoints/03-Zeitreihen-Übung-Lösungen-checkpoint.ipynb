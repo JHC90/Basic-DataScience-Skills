{
 "cells": [
  {
   "cell_type": "markdown",
   "metadata": {},
   "source": [
    "<a href=\"https://datamics.com/de/courses/\"><img src=../DATA/bg_datamics_top.png></a>\n",
    "\n",
    "<em text-align:center>© Datamics</em>\n",
    "# Zeitreihen Übung - Aufgaben\n",
    "\n",
    "### Folge den fett gedruckten Anweisungen. Schau dir das Lösungsvideo an, wenn du stecken bleibst!"
   ]
  },
  {
   "cell_type": "markdown",
   "metadata": {},
   "source": [
    "## Die Daten\n",
    "\n",
    "** Quelle: https://datamarket.com/data/set/22ox/monthly-milk-production-pounds-per-cow-jan-62-dec-75#!ds=22ox&display=line **\n",
    "\n",
    "**Monatliche Milchproduktion: Pfund pro Kuh. Jan 1962 - Dez 1975**"
   ]
  },
  {
   "cell_type": "markdown",
   "metadata": {},
   "source": [
    "** Importiere Numpy, Pandas und Matplotlib **"
   ]
  },
  {
   "cell_type": "code",
   "execution_count": 17,
   "metadata": {},
   "outputs": [],
   "source": [
    "import numpy as np\n",
    "import pandas as pd\n",
    "\n",
    "import matplotlib.pyplot as plt\n",
    "%matplotlib inline"
   ]
  },
  {
   "cell_type": "markdown",
   "metadata": {},
   "source": [
    "** Verwende pandas, um die csv der Datei monthly-milk-production.csv zu lesen und setze index_col='Month'. **"
   ]
  },
  {
   "cell_type": "code",
   "execution_count": 18,
   "metadata": {},
   "outputs": [],
   "source": [
    "milk = pd.read_csv('monthly-milk-production.csv',index_col='Month')"
   ]
  },
  {
   "cell_type": "markdown",
   "metadata": {},
   "source": [
    "** Überprüfe den Kopf des Datenframes.**"
   ]
  },
  {
   "cell_type": "code",
   "execution_count": 19,
   "metadata": {},
   "outputs": [
    {
     "data": {
      "text/html": [
       "<div>\n",
       "<style scoped>\n",
       "    .dataframe tbody tr th:only-of-type {\n",
       "        vertical-align: middle;\n",
       "    }\n",
       "\n",
       "    .dataframe tbody tr th {\n",
       "        vertical-align: top;\n",
       "    }\n",
       "\n",
       "    .dataframe thead th {\n",
       "        text-align: right;\n",
       "    }\n",
       "</style>\n",
       "<table border=\"1\" class=\"dataframe\">\n",
       "  <thead>\n",
       "    <tr style=\"text-align: right;\">\n",
       "      <th></th>\n",
       "      <th>Milk Production</th>\n",
       "    </tr>\n",
       "    <tr>\n",
       "      <th>Month</th>\n",
       "      <th></th>\n",
       "    </tr>\n",
       "  </thead>\n",
       "  <tbody>\n",
       "    <tr>\n",
       "      <th>1962-01-01 01:00:00</th>\n",
       "      <td>589.0</td>\n",
       "    </tr>\n",
       "    <tr>\n",
       "      <th>1962-02-01 01:00:00</th>\n",
       "      <td>561.0</td>\n",
       "    </tr>\n",
       "    <tr>\n",
       "      <th>1962-03-01 01:00:00</th>\n",
       "      <td>640.0</td>\n",
       "    </tr>\n",
       "    <tr>\n",
       "      <th>1962-04-01 01:00:00</th>\n",
       "      <td>656.0</td>\n",
       "    </tr>\n",
       "    <tr>\n",
       "      <th>1962-05-01 01:00:00</th>\n",
       "      <td>727.0</td>\n",
       "    </tr>\n",
       "  </tbody>\n",
       "</table>\n",
       "</div>"
      ],
      "text/plain": [
       "                     Milk Production\n",
       "Month                               \n",
       "1962-01-01 01:00:00            589.0\n",
       "1962-02-01 01:00:00            561.0\n",
       "1962-03-01 01:00:00            640.0\n",
       "1962-04-01 01:00:00            656.0\n",
       "1962-05-01 01:00:00            727.0"
      ]
     },
     "execution_count": 19,
     "metadata": {},
     "output_type": "execute_result"
    }
   ],
   "source": [
    "milk.head()"
   ]
  },
  {
   "cell_type": "markdown",
   "metadata": {},
   "source": [
    "** Mache den Index zu einer Zeitreihe mit Hilfe von: **\n",
    "\n",
    "    milk.index = pd.to_datetime(milk.index)"
   ]
  },
  {
   "cell_type": "code",
   "execution_count": 20,
   "metadata": {},
   "outputs": [],
   "source": [
    "milk.index = pd.to_datetime(milk.index)"
   ]
  },
  {
   "cell_type": "markdown",
   "metadata": {},
   "source": [
    "** Zeitreihendaten ausgeben. **"
   ]
  },
  {
   "cell_type": "code",
   "execution_count": 21,
   "metadata": {},
   "outputs": [
    {
     "data": {
      "text/plain": [
       "<matplotlib.axes._subplots.AxesSubplot at 0x27b55cc4808>"
      ]
     },
     "execution_count": 21,
     "metadata": {},
     "output_type": "execute_result"
    },
    {
     "data": {
      "image/png": "[encoded data removed]",
      "text/plain": [
       "<Figure size 432x288 with 1 Axes>"
      ]
     },
     "metadata": {
      "needs_background": "light"
     },
     "output_type": "display_data"
    }
   ],
   "source": [
    "milk.plot()"
   ]
  },
  {
   "cell_type": "markdown",
   "metadata": {},
   "source": [
    "___"
   ]
  },
  {
   "cell_type": "markdown",
   "metadata": {},
   "source": [
    "### Train Test Split\n",
    "\n",
    "** Lass uns versuchen, den Wert der Daten eines Jahres vorherzusagen. (12 Monate oder 12 Schritte in die Zukunft) **\n",
    "\n",
    "** Erstelle einen Trainings und Test Split mittels Indexierung (Hinweis: verwende .head() oder tail() oder .iloc[]). Wir wollen keinen zufälligen Trainings und Test Split, sondern wir wollen festlegen, dass das Testset die letzten 3 Monate der Daten des Testset ist, mit allem, bevor es trainiert wird. **"
   ]
  },
  {
   "cell_type": "code",
   "execution_count": 22,
   "metadata": {},
   "outputs": [
    {
     "name": "stdout",
     "output_type": "stream",
     "text": [
      "<class 'pandas.core.frame.DataFrame'>\n",
      "DatetimeIndex: 168 entries, 1962-01-01 01:00:00 to 1975-12-01 01:00:00\n",
      "Data columns (total 1 columns):\n",
      "Milk Production    168 non-null float64\n",
      "dtypes: float64(1)\n",
      "memory usage: 2.6 KB\n"
     ]
    }
   ],
   "source": [
    "milk.info()"
   ]
  },
  {
   "cell_type": "code",
   "execution_count": 23,
   "metadata": {},
   "outputs": [],
   "source": [
    "train_set = milk.head(156) #iloc[]"
   ]
  },
  {
   "cell_type": "code",
   "execution_count": 24,
   "metadata": {},
   "outputs": [],
   "source": [
    "test_set = milk.tail(12)"
   ]
  },
  {
   "cell_type": "markdown",
   "metadata": {},
   "source": [
    "### Skalierung der Daten\n",
    "\n",
    "** Verwende `sklearn.preprocessing`, um die Daten mit dem MinMaxScaler zu skalieren. Denke daran, nur `fit_transform` auf die Trainingsdaten anzuwenden und dann die Testdaten zu transformieren. Du solltest sie nicht  auf die Testdaten anpassen, sonst gehst du davon aus, dass du über das zukünftige Verhalten Bescheid weißt.**"
   ]
  },
  {
   "cell_type": "code",
   "execution_count": 25,
   "metadata": {},
   "outputs": [],
   "source": [
    "from sklearn.preprocessing import MinMaxScaler"
   ]
  },
  {
   "cell_type": "code",
   "execution_count": 26,
   "metadata": {},
   "outputs": [],
   "source": [
    "scaler = MinMaxScaler()"
   ]
  },
  {
   "cell_type": "code",
   "execution_count": 27,
   "metadata": {},
   "outputs": [],
   "source": [
    "train_scaled = scaler.fit_transform(train_set)"
   ]
  },
  {
   "cell_type": "code",
   "execution_count": 28,
   "metadata": {},
   "outputs": [],
   "source": [
    "test_scaled = scaler.transform(test_set)"
   ]
  },
  {
   "cell_type": "markdown",
   "metadata": {},
   "source": [
    "## Batch Funktion\n",
    "\n",
    "** Wir brauchen eine Funktion, die Batches der Trainingsdaten einspielen kann. Wir müssen einige Dinge tun, die als Schritte in den Kommentaren der Funktion aufgeführt sind. Denke daran, die vorherige Batch-Methode aus der Vorlesung für Hinweise zu verwenden. Versuche die untenstehende Funktionsvorlage auszufüllen, dies ist ein ziemlich schwieriger Schritt, also zögere nicht, in die Lösungen zu schauen.**"
   ]
  },
  {
   "cell_type": "code",
   "execution_count": 29,
   "metadata": {},
   "outputs": [],
   "source": [
    "def next_batch(training_data,batch_size,steps):\n",
    "    \"\"\"\n",
    "    INPUT: Data, Batch Size, Time Steps per batch\n",
    "    OUTPUT: A tuple of y time series results. y[:,:-1] and y[:,1:]\n",
    "    \"\"\"\n",
    "    #Schritt 1: Verwende np.random.randint, um einen zufälligen \n",
    "    #Startpunktindex für die Charge festzulegen.\n",
    "    #Denke daran, dass jede Charge die gleiche Anzahl von Schritten enthält.\n",
    "    #Dies bedeutet, dass du den Startpunkt auf len(data)-Schritte beschränken solltest.\n",
    "    rand_start = np.random.randint(0, len(training_data)-steps)\n",
    "    \n",
    "    #Schritt 2: Jetzt, da du einen Start-Index hast, müsst du die Daten von\n",
    "    #dem Zufallsstart zum Zufallsstart + Schritte indexieren. \n",
    "    #Gestalte dann diese Daten neu (1,Schritte).\n",
    "    y_batch = np.array(training_data[rand_start:rand_start+steps+1]).reshape(1,steps+1)\n",
    "    #Schritt 3: Rückgabe der Chargen. Du hast zwei Chargen, die du zurückgeben\n",
    "    #kannst:und y[:,1:]. Du musst diese in Tensoren für die RNN umformen. \n",
    "    #Abhängig von deiner Indizierung wird es entweder .reshape(-1,steps-1,1) \n",
    "    #oder .reshape(-1,steps,1) sein.\n",
    "    \n",
    "    \n",
    "    return y_batch[:,:-1].reshape(-1,steps,1), y_batch[:, 1:].reshape(-1,steps,1)"
   ]
  },
  {
   "cell_type": "code",
   "execution_count": null,
   "metadata": {},
   "outputs": [],
   "source": []
  },
  {
   "cell_type": "markdown",
   "metadata": {},
   "source": [
    "## Einrichten des RNN-Modells"
   ]
  },
  {
   "cell_type": "markdown",
   "metadata": {},
   "source": [
    "** Import TensorFlow **"
   ]
  },
  {
   "cell_type": "code",
   "execution_count": 30,
   "metadata": {},
   "outputs": [
    {
     "name": "stdout",
     "output_type": "stream",
     "text": [
      "WARNING:tensorflow:From Z:\\VisualStudio-Lib-Tools\\Anaconda3_64\\envs\\JupyterNotebook\\lib\\site-packages\\tensorflow_core\\python\\compat\\v2_compat.py:65: disable_resource_variables (from tensorflow.python.ops.variable_scope) is deprecated and will be removed in a future version.\n",
      "Instructions for updating:\n",
      "non-resource variables are not supported in the long term\n"
     ]
    }
   ],
   "source": [
    "import tensorflow.compat.v1 as tf\n",
    "tf.disable_v2_behavior()"
   ]
  },
  {
   "cell_type": "markdown",
   "metadata": {},
   "source": [
    "### Die Konstanten\n",
    "\n",
    "** Definiere die Konstanten in einer einzigen Zelle. Du benötigst folgendes (in Klammern sind die Werte, die ich in meiner Lösung verwendet habe, aber du kannst mit einigen davon spielen): **\n",
    "\n",
    "* Number of Inputs (1)\n",
    "* Number of Time Steps (12)\n",
    "* Number of Neurons per Layer (100)\n",
    "* Number of Outputs (1)\n",
    "* Learning Rate (0.003)\n",
    "* Number of Iterations for Training (4000)\n",
    "* Batch Size (1)"
   ]
  },
  {
   "cell_type": "code",
   "execution_count": 31,
   "metadata": {},
   "outputs": [],
   "source": [
    "num_inputs = 1\n",
    "num_time_steps = 12\n",
    "\n",
    "num_neurons = 100\n",
    "num_outputs = 1\n",
    "\n",
    "learing_rate = 0.03\n",
    "num_train_iterations = 4000\n",
    "batch_size = 1\n",
    "\n"
   ]
  },
  {
   "cell_type": "markdown",
   "metadata": {},
   "source": [
    "\n",
    "** Platzhalter für X und y anlegen (Du kannst die Variablennamen ändern). Die Form für diese Platzhalter sollte [None,num_time_steps-1,num_inputs] und [None, num_time_steps-1, num_outputs] sein. Der Grund, warum wir num_time_steps-1 verwenden, ist, dass jeder dieser Schritte einen Schritt kürzer ist als die ursprüngliche Zeitschrittgröße, da wir das RNN-Netzwerk trainieren, um einen Punkt in die Zukunft vorauszusagen, basierend auf der Eingangssequenz. **"
   ]
  },
  {
   "cell_type": "code",
   "execution_count": 32,
   "metadata": {},
   "outputs": [],
   "source": [
    "X = tf.placeholder(tf.float32, [None, num_time_steps, num_inputs])"
   ]
  },
  {
   "cell_type": "code",
   "execution_count": 33,
   "metadata": {},
   "outputs": [],
   "source": [
    "y = tf.placeholder(tf.float32, [None, num_time_steps, num_outputs])"
   ]
  },
  {
   "cell_type": "markdown",
   "metadata": {},
   "source": [
    "** Erstelle nun die RNN Layer; du hast völlige Freiheit darüber. Verwende `tf.contrib.rnn` und wähle alles was du willst aus:**\n",
    "\n",
    "OutputProjectionWrappers, BasicRNNCells, BasicLSTMCells, MultiRNNCell, GRUCell etc....\n",
    "\n",
    "*Hinweis: Beachte, dass nicht jede Kombination gut funktioniert! (Im Zweifelsfall wurde ein Outputprojection Wrapper um eine einfache LSTM-Zelle mit Relu-Aktivierung verwendet.*"
   ]
  },
  {
   "cell_type": "code",
   "execution_count": 34,
   "metadata": {},
   "outputs": [
    {
     "ename": "AttributeError",
     "evalue": "module 'tensorflow_core.compat.v1' has no attribute 'contrib'",
     "output_type": "error",
     "traceback": [
      "\u001b[1;31m---------------------------------------------------------------------------\u001b[0m",
      "\u001b[1;31mAttributeError\u001b[0m                            Traceback (most recent call last)",
      "\u001b[1;32m<ipython-input-34-c5dae4b6915c>\u001b[0m in \u001b[0;36m<module>\u001b[1;34m\u001b[0m\n\u001b[1;32m----> 1\u001b[1;33m cell = tf.contrib.rnn.OutputProjectionWrapper(\n\u001b[0m\u001b[0;32m      2\u001b[0m     \u001b[0mtf\u001b[0m\u001b[1;33m.\u001b[0m\u001b[0mcontrib\u001b[0m\u001b[1;33m.\u001b[0m\u001b[0mrnn\u001b[0m\u001b[1;33m.\u001b[0m\u001b[0mBasicLSTMCell\u001b[0m\u001b[1;33m(\u001b[0m\u001b[0mnum_units\u001b[0m\u001b[1;33m=\u001b[0m\u001b[0mnum_neurons\u001b[0m\u001b[1;33m,\u001b[0m \u001b[0mactivation\u001b[0m \u001b[1;33m=\u001b[0m \u001b[0mtf\u001b[0m\u001b[1;33m.\u001b[0m\u001b[0mnn\u001b[0m\u001b[1;33m.\u001b[0m\u001b[0mrelu\u001b[0m\u001b[1;33m)\u001b[0m\u001b[1;33m,\u001b[0m\u001b[1;33m\u001b[0m\u001b[1;33m\u001b[0m\u001b[0m\n\u001b[0;32m      3\u001b[0m     output_size = num_outputs)\n",
      "\u001b[1;31mAttributeError\u001b[0m: module 'tensorflow_core.compat.v1' has no attribute 'contrib'"
     ]
    }
   ],
   "source": [
    "cell = tf.contrib.rnn.OutputProjectionWrapper(\n",
    "    tf.contrib.rnn.BasicLSTMCell(num_units=num_neurons, activation = tf.nn.relu), \n",
    "    output_size = num_outputs)"
   ]
  },
  {
   "cell_type": "markdown",
   "metadata": {},
   "source": [
    "** Übergebe nun die Zellenvariable in `tf.nn.dynamic_rnn`, zusammen mit deinem ersten Platzhalter (X).**"
   ]
  },
  {
   "cell_type": "code",
   "execution_count": null,
   "metadata": {},
   "outputs": [],
   "source": [
    "outputs, states = tf.nn.dynamic_rnn(cell, X, dtype=tf.float32)"
   ]
  },
  {
   "cell_type": "markdown",
   "metadata": {},
   "source": [
    "### Verlustfunktion und Optimierer\n",
    "\n",
    "** Erstelle eine Mean-Squared-Error-Loss-Funktion und verwende diese, um einen AdamOptimizer zu minimieren, denke daran, deine Lernrate einzugeben.**"
   ]
  },
  {
   "cell_type": "code",
   "execution_count": null,
   "metadata": {},
   "outputs": [],
   "source": [
    "loss = tf.reduce_mean(tf.square(outputs-y))"
   ]
  },
  {
   "cell_type": "code",
   "execution_count": null,
   "metadata": {},
   "outputs": [],
   "source": [
    "optimizer = tf.train.AdamOptimizer(learning_rate=learing_rate)"
   ]
  },
  {
   "cell_type": "code",
   "execution_count": null,
   "metadata": {},
   "outputs": [],
   "source": [
    "train = optimizer.minimize(loss)"
   ]
  },
  {
   "cell_type": "markdown",
   "metadata": {},
   "source": [
    "** Initialisierung der globalen Variablen **"
   ]
  },
  {
   "cell_type": "code",
   "execution_count": null,
   "metadata": {},
   "outputs": [],
   "source": [
    "init = tf.global_variables_initializer()"
   ]
  },
  {
   "cell_type": "markdown",
   "metadata": {},
   "source": [
    "** Erzeuge eine Instanz von `tf.train.Saver()` **"
   ]
  },
  {
   "cell_type": "code",
   "execution_count": null,
   "metadata": {},
   "outputs": [],
   "source": [
    "saver = tf.train.Saver()"
   ]
  },
  {
   "cell_type": "markdown",
   "metadata": {},
   "source": [
    "### Session\n",
    "\n",
    "** Führe eine `tf.Session` aus, die auf den von deiner `next_batch-Funktion` erzeugten Chargen trainiert. Füge außerdem eine Verlustauswertung für jeweils 100 Trainings-Iterationen hinzu. Denke daran, dein Modell nach dem Training zu speichern.**"
   ]
  },
  {
   "cell_type": "code",
   "execution_count": null,
   "metadata": {},
   "outputs": [],
   "source": [
    "gpu_options = tf.GPUOptions(per_process_gpu_memory_fraction=0.9)"
   ]
  },
  {
   "cell_type": "code",
   "execution_count": null,
   "metadata": {},
   "outputs": [],
   "source": [
    "with tf.Session(config=tf.ConfigProto(gpu_options=gpu_options)) as sess:\n",
    "    \n",
    "    sess.run(init)\n",
    "    \n",
    "    for iteration in range(num_train_iterations):\n",
    "        X_batch, y_batch = next_batch(train_scaled, batch_size, num_time_steps)\n",
    "        sess.run(train, feed_dict={X: X_batch, y: y_batch})\n",
    "        \n",
    "        if iteration % 100 == 0:\n",
    "            \n",
    "            mse = loss.eval(feed_dict={X: X_batch, y: y_batch})\n",
    "            print (iteration, \"\\tMSE:\", mse)\n",
    "    \n",
    "    \n",
    "    # Speicher das Modell für später\n",
    "    saver.save(sess, \"./ex_time_series_model_rene\")"
   ]
  },
  {
   "cell_type": "markdown",
   "metadata": {},
   "source": [
    "______"
   ]
  },
  {
   "cell_type": "markdown",
   "metadata": {},
   "source": [
    "## Zukunft voraussagen (Test Daten)"
   ]
  },
  {
   "cell_type": "markdown",
   "metadata": {},
   "source": [
    "** Zeige das test_set (die letzten 12 Monate deines kompletten Datensatzes)) **"
   ]
  },
  {
   "cell_type": "code",
   "execution_count": null,
   "metadata": {},
   "outputs": [],
   "source": [
    "test_set"
   ]
  },
  {
   "cell_type": "markdown",
   "metadata": {},
   "source": [
    "** Jetzt wollen wir versuchen, diese 12 Monate Daten vorherzusagen, indem wir nur die Trainingsdaten verwenden, die wir hatten. Um dies zu tun, werden wir eine Seed-Trainingsinstanz der letzten 12 Monate der Trainingsdaten eingeben, um 12 Monate in die Zukunft vorauszusagen. Dann können wir unsere generierten 12 Monate mit unseren tatsächlichen historischen Werten aus dem Testset vergleichen.**"
   ]
  },
  {
   "cell_type": "markdown",
   "metadata": {},
   "source": [
    "# Generative Session\n",
    "\n",
    "### Notiz: \n",
    "Erinnerne dich daran, dass unser Modell wirklich nur darauf trainiert ist, einen Zeitschritt vorauszusagen. Das Modell 12 Schritte generieren zu lassen, ist eine große Anfrage, und technisch nicht das, wozu es trainiert wurde. Betrachte dies eher als die Generierung neuer Werte, die auf einem früheren Muster basieren, anstatt zu versuchen, die Zukunft direkt vorherzusagen. Du müsstest zum Originalmodell zurückkehren und das Modell trainieren, um 12 Zeitschritte vorauszusagen, um wirklich eine höhere Genauigkeit der Testdaten zu erhalten (Was aufgrund der geringeren Größe unseres Datensatzes seine Grenzen hat).**\n",
    "\n",
    "___\n",
    "\n",
    "**Fülle den untenstehenden Sitzungscode aus, um 12 Monate Daten aus den letzten 12 Monaten des Trainingssets zu generieren. Das Schwierigste daran ist die Anpassung der Arrays mit ihren Formen und Größen. Als Hilfestellung kannst du nochmal in die Vorlesung schauen.**"
   ]
  },
  {
   "cell_type": "code",
   "execution_count": null,
   "metadata": {},
   "outputs": [],
   "source": [
    "with tf.Session() as sess:\n",
    "    \n",
    "    # Verwende deine Saver-Instanz, um dein gespeichertes rnn-Zeitreihenmodell wiederherzustellen.\n",
    "    saver.restore(sess, \"./ex_time_series_model_rene\")\n",
    "\n",
    "    train_seed = list(train_scaled[-12:])\n",
    "    \n",
    "    for iteration in range(12):\n",
    "        X_batch = np.array(train_seed[-num_time_steps:]).reshape(1,num_time_steps,1)\n",
    "        y_pred = sess.run(outputs, feed_dict={X: X_batch})\n",
    "        train_seed.append(y_pred[0,-1,0])"
   ]
  },
  {
   "cell_type": "markdown",
   "metadata": {},
   "source": [
    "** Zeige das Ergebnis der Vorhersagen an.**"
   ]
  },
  {
   "cell_type": "code",
   "execution_count": null,
   "metadata": {},
   "outputs": [],
   "source": [
    "train_seed"
   ]
  },
  {
   "cell_type": "markdown",
   "metadata": {},
   "source": [
    "** Nimm den Teil der Ergebnisse, die erzeugten Werte, und wende *\"inverse_transform\"* auf sie an, um sie wieder in Milchproduktionswerteinheiten (Pfund pro Kuh) umzuwandeln. Auch die Ergebnisse werden neu formiert (reshape) (12,1), so dass wir sie einfach in den test_set Dataframe einfügen können.**\n"
   ]
  },
  {
   "cell_type": "code",
   "execution_count": null,
   "metadata": {},
   "outputs": [],
   "source": [
    "results = scaler.inverse_transform(np.array(train_seed[12:]).reshape(12,1))"
   ]
  },
  {
   "cell_type": "markdown",
   "metadata": {},
   "source": [
    "** Erstelle eine neue Spalte im test_set mit dem Namen \"Generated\" und setze diese gleich mit den generierten Ergebnissen. Dabei könntest du eine Warnung erhalten, diese kannst du jedoch ignorieren.**\n",
    "\n"
   ]
  },
  {
   "cell_type": "code",
   "execution_count": null,
   "metadata": {},
   "outputs": [],
   "source": [
    "test_set['Generated'] = results"
   ]
  },
  {
   "cell_type": "markdown",
   "metadata": {},
   "source": [
    "** Schaue dir das test_set Dataframe an. **"
   ]
  },
  {
   "cell_type": "code",
   "execution_count": null,
   "metadata": {},
   "outputs": [],
   "source": [
    "test_set"
   ]
  },
  {
   "cell_type": "markdown",
   "metadata": {},
   "source": [
    "** Gib beide Spalten zum Vergleich aus. **"
   ]
  },
  {
   "cell_type": "code",
   "execution_count": null,
   "metadata": {},
   "outputs": [],
   "source": [
    "test_set.plot()"
   ]
  },
  {
   "cell_type": "markdown",
   "metadata": {
    "collapsed": true
   },
   "source": [
    "# Gut gemacht!\n",
    "\n",
    "Spiele mit den Parametern und RNN-Schichten rum. Verbessert eine schnellere Lernrate mit mehr Schritten das Modell? Was ist mit GRU- oder BasicRNN-Einheiten? Was, wenn du das Originalmodell trainierst, um nicht nur einen Zeitschritt in die Zukunft vorauszusagen, sondern 3? Hier gibt es viel zu tun!\n"
   ]
  }
 ],
 "metadata": {
  "kernelspec": {
   "display_name": "Python 3",
   "language": "python",
   "name": "python3"
  },
  "language_info": {
   "codemirror_mode": {
    "name": "ipython",
    "version": 3
   },
   "file_extension": ".py",
   "mimetype": "text/x-python",
   "name": "python",
   "nbconvert_exporter": "python",
   "pygments_lexer": "ipython3",
   "version": "3.7.4"
  }
 },
 "nbformat": 4,
 "nbformat_minor": 2
}
