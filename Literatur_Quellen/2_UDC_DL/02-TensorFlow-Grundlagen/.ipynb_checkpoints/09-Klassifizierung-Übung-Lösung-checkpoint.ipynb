{
 "cells": [
  {
   "cell_type": "markdown",
   "metadata": {},
   "source": [
    "<a href=\"https://datamics.com/de/courses/\"><img src=../DATA/bg_datamics_top.png></a>\n",
    "\n",
    "<em text-align:center>© Datamics</em>\n",
    "# Klassifizierungsübung - Lösung\n",
    "\n",
    "Wir werden mit einigen Zensusdaten aus Kalifornien arbeiten. In diesen Daten sind Eigenschaften von Leuten festgehalten, anhand derer wir versuchen werden ihr Einkommen vorherzusagen (>50k oder <= 50k).\n",
    "\n",
    "Hier einige Informationen über den Datensatz:"
   ]
  },
  {
   "cell_type": "markdown",
   "metadata": {},
   "source": [
    "<table>\n",
    "<thead>\n",
    "<tr>\n",
    "<th>Spaltenname</th>\n",
    "<th>Datentyp</th>\n",
    "<th>Beschreibung</th>\n",
    "</tr>\n",
    "</thead>\n",
    "<tbody>\n",
    "<tr>\n",
    "<td>age</td>\n",
    "<td>Continuous</td>\n",
    "<td>Das Alter der Person</td>\n",
    "</tr>\n",
    "<tr>\n",
    "<td>workclass</td>\n",
    "<td>Categorical</td>\n",
    "<td>Der Typ des Arbeitgebers der Person (Regierung,  Militär, Privatwirtschaft, etc.).</td>\n",
    "</tr>\n",
    "<tr>\n",
    "<td>fnlwgt</td>\n",
    "<td>Continuous</td>\n",
    "<td>Die Anzahl an Personen, die die befragte Person, als repräsentativ betrachtet. Diese Variable werden wir nicht nutzen.</td>\n",
    "</tr>\n",
    "<tr>\n",
    "<td>education</td>\n",
    "<td>Categorical</td>\n",
    "<td>Der höchste Bildungsabschluss der Person</td>\n",
    "</tr>\n",
    "<tr>\n",
    "<td>education_num</td>\n",
    "<td>Continuous</td>\n",
    "<td>Der höchste Bildungsabschluss in numerischer Form</td>\n",
    "</tr>\n",
    "<tr>\n",
    "<td>marital_status</td>\n",
    "<td>Categorical</td>\n",
    "<td>Familienstand der Person</td>\n",
    "</tr>\n",
    "<tr>\n",
    "<td>occupation</td>\n",
    "<td>Categorical</td>\n",
    "<td>Beschäftigung der Person</td>\n",
    "</tr>\n",
    "<tr>\n",
    "<td>relationship</td>\n",
    "<td>Categorical</td>\n",
    "<td>Ehefrau, Eigenes Kind, Ehemann, Nicht-in-der-Familie, Unverheiratet.</td>\n",
    "</tr>\n",
    "<tr>\n",
    "<td>race</td>\n",
    "<td>Categorical</td>\n",
    "<td>Weiß, Asiatisch-Pazifische-Inseln, Amerika-Indianisch-Eskimo, Andere, Schwarz</td>\n",
    "</tr>\n",
    "<tr>\n",
    "<td>gender</td>\n",
    "<td>Categorical</td>\n",
    "<td>Weiblich, Männlich</td>\n",
    "</tr>\n",
    "<tr>\n",
    "<td>capital_gain</td>\n",
    "<td>Continuous</td>\n",
    "<td>Kapitalgewinne</td>\n",
    "</tr>\n",
    "<tr>\n",
    "<td>capital_loss</td>\n",
    "<td>Continuous</td>\n",
    "<td>Kapitalverluste</td>\n",
    "</tr>\n",
    "<tr>\n",
    "<td>hours_per_week</td>\n",
    "<td>Continuous</td>\n",
    "<td>Arbeitsstunde pro Woche</td>\n",
    "</tr>\n",
    "<tr>\n",
    "<td>native_country</td>\n",
    "<td>Categorical</td>\n",
    "<td>Herkunftsland</td>\n",
    "</tr>\n",
    "<tr>\n",
    "<td>income</td>\n",
    "<td>Categorical</td>\n",
    "<td>\"&gt;50K\" oder \"&lt;=50K\", also ob der jenige mehr oder weniger als $50.000 im Jahr verdient.</td>\n",
    "</tr>\n",
    "</tbody>\n",
    "</table>"
   ]
  },
  {
   "cell_type": "markdown",
   "metadata": {},
   "source": [
    "Befolgt die **fett** geschriebenen Anweisungen.\n",
    "\n",
    "## Die Daten laden\n",
    "\n",
    "**Lese die `census_data.csv` Datei mit Pandas ein.**"
   ]
  },
  {
   "cell_type": "code",
   "execution_count": 1,
   "metadata": {},
   "outputs": [],
   "source": [
    "import pandas as pd"
   ]
  },
  {
   "cell_type": "code",
   "execution_count": 2,
   "metadata": {},
   "outputs": [],
   "source": [
    "census = pd.read_csv(\"census_data.csv\")"
   ]
  },
  {
   "cell_type": "code",
   "execution_count": 3,
   "metadata": {},
   "outputs": [
    {
     "data": {
      "text/html": [
       "<div>\n",
       "<style scoped>\n",
       "    .dataframe tbody tr th:only-of-type {\n",
       "        vertical-align: middle;\n",
       "    }\n",
       "\n",
       "    .dataframe tbody tr th {\n",
       "        vertical-align: top;\n",
       "    }\n",
       "\n",
       "    .dataframe thead th {\n",
       "        text-align: right;\n",
       "    }\n",
       "</style>\n",
       "<table border=\"1\" class=\"dataframe\">\n",
       "  <thead>\n",
       "    <tr style=\"text-align: right;\">\n",
       "      <th></th>\n",
       "      <th>age</th>\n",
       "      <th>workclass</th>\n",
       "      <th>education</th>\n",
       "      <th>education_num</th>\n",
       "      <th>marital_status</th>\n",
       "      <th>occupation</th>\n",
       "      <th>relationship</th>\n",
       "      <th>race</th>\n",
       "      <th>gender</th>\n",
       "      <th>capital_gain</th>\n",
       "      <th>capital_loss</th>\n",
       "      <th>hours_per_week</th>\n",
       "      <th>native_country</th>\n",
       "      <th>income_bracket</th>\n",
       "    </tr>\n",
       "  </thead>\n",
       "  <tbody>\n",
       "    <tr>\n",
       "      <th>0</th>\n",
       "      <td>39</td>\n",
       "      <td>State-gov</td>\n",
       "      <td>Bachelors</td>\n",
       "      <td>13</td>\n",
       "      <td>Never-married</td>\n",
       "      <td>Adm-clerical</td>\n",
       "      <td>Not-in-family</td>\n",
       "      <td>White</td>\n",
       "      <td>Male</td>\n",
       "      <td>2174</td>\n",
       "      <td>0</td>\n",
       "      <td>40</td>\n",
       "      <td>United-States</td>\n",
       "      <td>&lt;=50K</td>\n",
       "    </tr>\n",
       "    <tr>\n",
       "      <th>1</th>\n",
       "      <td>50</td>\n",
       "      <td>Self-emp-not-inc</td>\n",
       "      <td>Bachelors</td>\n",
       "      <td>13</td>\n",
       "      <td>Married-civ-spouse</td>\n",
       "      <td>Exec-managerial</td>\n",
       "      <td>Husband</td>\n",
       "      <td>White</td>\n",
       "      <td>Male</td>\n",
       "      <td>0</td>\n",
       "      <td>0</td>\n",
       "      <td>13</td>\n",
       "      <td>United-States</td>\n",
       "      <td>&lt;=50K</td>\n",
       "    </tr>\n",
       "    <tr>\n",
       "      <th>2</th>\n",
       "      <td>38</td>\n",
       "      <td>Private</td>\n",
       "      <td>HS-grad</td>\n",
       "      <td>9</td>\n",
       "      <td>Divorced</td>\n",
       "      <td>Handlers-cleaners</td>\n",
       "      <td>Not-in-family</td>\n",
       "      <td>White</td>\n",
       "      <td>Male</td>\n",
       "      <td>0</td>\n",
       "      <td>0</td>\n",
       "      <td>40</td>\n",
       "      <td>United-States</td>\n",
       "      <td>&lt;=50K</td>\n",
       "    </tr>\n",
       "    <tr>\n",
       "      <th>3</th>\n",
       "      <td>53</td>\n",
       "      <td>Private</td>\n",
       "      <td>11th</td>\n",
       "      <td>7</td>\n",
       "      <td>Married-civ-spouse</td>\n",
       "      <td>Handlers-cleaners</td>\n",
       "      <td>Husband</td>\n",
       "      <td>Black</td>\n",
       "      <td>Male</td>\n",
       "      <td>0</td>\n",
       "      <td>0</td>\n",
       "      <td>40</td>\n",
       "      <td>United-States</td>\n",
       "      <td>&lt;=50K</td>\n",
       "    </tr>\n",
       "    <tr>\n",
       "      <th>4</th>\n",
       "      <td>28</td>\n",
       "      <td>Private</td>\n",
       "      <td>Bachelors</td>\n",
       "      <td>13</td>\n",
       "      <td>Married-civ-spouse</td>\n",
       "      <td>Prof-specialty</td>\n",
       "      <td>Wife</td>\n",
       "      <td>Black</td>\n",
       "      <td>Female</td>\n",
       "      <td>0</td>\n",
       "      <td>0</td>\n",
       "      <td>40</td>\n",
       "      <td>Cuba</td>\n",
       "      <td>&lt;=50K</td>\n",
       "    </tr>\n",
       "  </tbody>\n",
       "</table>\n",
       "</div>"
      ],
      "text/plain": [
       "   age          workclass   education  education_num       marital_status  \\\n",
       "0   39          State-gov   Bachelors             13        Never-married   \n",
       "1   50   Self-emp-not-inc   Bachelors             13   Married-civ-spouse   \n",
       "2   38            Private     HS-grad              9             Divorced   \n",
       "3   53            Private        11th              7   Married-civ-spouse   \n",
       "4   28            Private   Bachelors             13   Married-civ-spouse   \n",
       "\n",
       "           occupation    relationship    race   gender  capital_gain  \\\n",
       "0        Adm-clerical   Not-in-family   White     Male          2174   \n",
       "1     Exec-managerial         Husband   White     Male             0   \n",
       "2   Handlers-cleaners   Not-in-family   White     Male             0   \n",
       "3   Handlers-cleaners         Husband   Black     Male             0   \n",
       "4      Prof-specialty            Wife   Black   Female             0   \n",
       "\n",
       "   capital_loss  hours_per_week  native_country income_bracket  \n",
       "0             0              40   United-States          <=50K  \n",
       "1             0              13   United-States          <=50K  \n",
       "2             0              40   United-States          <=50K  \n",
       "3             0              40   United-States          <=50K  \n",
       "4             0              40            Cuba          <=50K  "
      ]
     },
     "execution_count": 3,
     "metadata": {},
     "output_type": "execute_result"
    }
   ],
   "source": [
    "census.head()"
   ]
  },
  {
   "cell_type": "markdown",
   "metadata": {},
   "source": [
    "TensorFlow ist nicht in der Lage Strings als Label zu verstehen. Wir müssen Pandas `.apply()` Methode verwenden. So können wir eine selbstgeschriebene Funktion erstellen, die Label in 0en und 1en umwandelt.\n",
    "\n",
    "*Hinweis: Wenn du dich mit Pandas nicht auskennst könnte dieser Schritt etwas schwieriger sein. Schaue gerne in die Lösung.*\n",
    "\n",
    "**Wandle die Label-Spalte in 0en und 1en um.**"
   ]
  },
  {
   "cell_type": "code",
   "execution_count": null,
   "metadata": {},
   "outputs": [],
   "source": []
  },
  {
   "cell_type": "code",
   "execution_count": 4,
   "metadata": {},
   "outputs": [
    {
     "data": {
      "text/plain": [
       "array([' <=50K', ' >50K'], dtype=object)"
      ]
     },
     "execution_count": 4,
     "metadata": {},
     "output_type": "execute_result"
    }
   ],
   "source": [
    "census['income_bracket'].unique()"
   ]
  },
  {
   "cell_type": "code",
   "execution_count": 5,
   "metadata": {},
   "outputs": [],
   "source": [
    "def label_fix(label):\n",
    "    if label==' <=50K':\n",
    "        return 0\n",
    "    else:\n",
    "        return 1"
   ]
  },
  {
   "cell_type": "code",
   "execution_count": 6,
   "metadata": {},
   "outputs": [],
   "source": [
    "census['income_bracket'] = census['income_bracket'].apply(label_fix)"
   ]
  },
  {
   "cell_type": "markdown",
   "metadata": {},
   "source": [
    "## Train Test Split\n",
    "**Teile die Daten in Trainings- und Testset auf.**"
   ]
  },
  {
   "cell_type": "code",
   "execution_count": 7,
   "metadata": {},
   "outputs": [],
   "source": [
    "from sklearn.model_selection import train_test_split"
   ]
  },
  {
   "cell_type": "code",
   "execution_count": 8,
   "metadata": {},
   "outputs": [],
   "source": [
    "x_data = census.drop('income_bracket',axis=1)\n",
    "y_labels = census['income_bracket']\n",
    "X_train, X_test, y_train, y_test = train_test_split(x_data,y_labels,test_size=0.3,random_state=101)"
   ]
  },
  {
   "cell_type": "markdown",
   "metadata": {
    "collapsed": true
   },
   "source": [
    "## Feature Spalte für tf.estimator\n",
    "**Erstelle eine Feature-Spalte für Tensorflow.**\n",
    "*Hinweis: Achte auf kategorische und kontinuierliche Werte.*"
   ]
  },
  {
   "cell_type": "code",
   "execution_count": 9,
   "metadata": {},
   "outputs": [
    {
     "data": {
      "text/plain": [
       "Index(['age', 'workclass', 'education', 'education_num', 'marital_status',\n",
       "       'occupation', 'relationship', 'race', 'gender', 'capital_gain',\n",
       "       'capital_loss', 'hours_per_week', 'native_country', 'income_bracket'],\n",
       "      dtype='object')"
      ]
     },
     "execution_count": 9,
     "metadata": {},
     "output_type": "execute_result"
    }
   ],
   "source": [
    "census.columns"
   ]
  },
  {
   "cell_type": "markdown",
   "metadata": {},
   "source": [
    "**Importiere `tensorflow` als tf.**"
   ]
  },
  {
   "cell_type": "code",
   "execution_count": 10,
   "metadata": {},
   "outputs": [
    {
     "name": "stdout",
     "output_type": "stream",
     "text": [
      "WARNING:tensorflow:From Z:\\VisualStudio-Lib-Tools\\Anaconda3_64\\envs\\JupyterNotebook\\lib\\site-packages\\tensorflow_core\\python\\compat\\v2_compat.py:65: disable_resource_variables (from tensorflow.python.ops.variable_scope) is deprecated and will be removed in a future version.\n",
      "Instructions for updating:\n",
      "non-resource variables are not supported in the long term\n"
     ]
    }
   ],
   "source": [
    "import tensorflow.compat.v1 as tf\n",
    "tf.disable_v2_behavior()"
   ]
  },
  {
   "cell_type": "markdown",
   "metadata": {},
   "source": [
    "**Erstelle die `tf.feature_column`s für die kategorischen Werte. Nutze \"vocabulary lists\" oder einfach \"hash buckets\".**"
   ]
  },
  {
   "cell_type": "code",
   "execution_count": 11,
   "metadata": {},
   "outputs": [],
   "source": [
    "gender = tf.feature_column.categorical_column_with_vocabulary_list(\"gender\", [\"Female\", \"Male\"])\n",
    "occupation = tf.feature_column.categorical_column_with_hash_bucket(\"occupation\", hash_bucket_size=1000)\n",
    "marital_status = tf.feature_column.categorical_column_with_hash_bucket(\"marital_status\", hash_bucket_size=1000)\n",
    "relationship = tf.feature_column.categorical_column_with_hash_bucket(\"relationship\", hash_bucket_size=1000)\n",
    "education = tf.feature_column.categorical_column_with_hash_bucket(\"education\", hash_bucket_size=1000)\n",
    "workclass = tf.feature_column.categorical_column_with_hash_bucket(\"workclass\", hash_bucket_size=1000)\n",
    "native_country = tf.feature_column.categorical_column_with_hash_bucket(\"native_country\", hash_bucket_size=1000)"
   ]
  },
  {
   "cell_type": "markdown",
   "metadata": {},
   "source": [
    "**Erstelle die kontinuierlichen Feature-Splaten für die kontinuierlichen Werte mit `numeric_column`.**"
   ]
  },
  {
   "cell_type": "code",
   "execution_count": 12,
   "metadata": {},
   "outputs": [],
   "source": [
    "age = tf.feature_column.numeric_column(\"age\")\n",
    "education_num = tf.feature_column.numeric_column(\"education_num\")\n",
    "capital_gain = tf.feature_column.numeric_column(\"capital_gain\")\n",
    "capital_loss = tf.feature_column.numeric_column(\"capital_loss\")\n",
    "hours_per_week = tf.feature_column.numeric_column(\"hours_per_week\")"
   ]
  },
  {
   "cell_type": "markdown",
   "metadata": {},
   "source": [
    "**Füge alle diese Variablen in eine einzige Liste mit dem Namen \"feat_cols\".**"
   ]
  },
  {
   "cell_type": "code",
   "execution_count": 13,
   "metadata": {},
   "outputs": [],
   "source": [
    "feat_cols = [gender,occupation,marital_status,relationship,education,workclass,native_country,\n",
    "            age,education_num,capital_gain,capital_loss,hours_per_week]"
   ]
  },
  {
   "cell_type": "markdown",
   "metadata": {},
   "source": [
    "## Input Funktion erstellen\n",
    "**Erstelle eine Input Funktion. die `batch_size` ist dir überlassen.**"
   ]
  },
  {
   "cell_type": "code",
   "execution_count": 14,
   "metadata": {},
   "outputs": [],
   "source": [
    "input_func=tf.estimator.inputs.pandas_input_fn(x=X_train,y=y_train,batch_size=100,num_epochs=None,shuffle=True)"
   ]
  },
  {
   "cell_type": "markdown",
   "metadata": {},
   "source": [
    "**Erstelle dein Modell mit `tf.estimator`. Verwende einen `LinearClassifier`.**"
   ]
  },
  {
   "cell_type": "code",
   "execution_count": 15,
   "metadata": {},
   "outputs": [
    {
     "name": "stdout",
     "output_type": "stream",
     "text": [
      "INFO:tensorflow:Using default config.\n",
      "WARNING:tensorflow:Using temporary folder as model directory: C:\\Users\\-T-\\AppData\\Local\\Temp\\tmph7i7ap7n\n",
      "INFO:tensorflow:Using config: {'_model_dir': 'C:\\\\Users\\\\-T-\\\\AppData\\\\Local\\\\Temp\\\\tmph7i7ap7n', '_tf_random_seed': None, '_save_summary_steps': 100, '_save_checkpoints_steps': None, '_save_checkpoints_secs': 600, '_session_config': allow_soft_placement: true\n",
      "graph_options {\n",
      "  rewrite_options {\n",
      "    meta_optimizer_iterations: ONE\n",
      "  }\n",
      "}\n",
      ", '_keep_checkpoint_max': 5, '_keep_checkpoint_every_n_hours': 10000, '_log_step_count_steps': 100, '_train_distribute': None, '_device_fn': None, '_protocol': None, '_eval_distribute': None, '_experimental_distribute': None, '_experimental_max_worker_delay_secs': None, '_session_creation_timeout_secs': 7200, '_service': None, '_cluster_spec': <tensorflow.python.training.server_lib.ClusterSpec object at 0x00000208F8A08FC8>, '_task_type': 'worker', '_task_id': 0, '_global_id_in_cluster': 0, '_master': '', '_evaluation_master': '', '_is_chief': True, '_num_ps_replicas': 0, '_num_worker_replicas': 1}\n"
     ]
    }
   ],
   "source": [
    "model = tf.estimator.LinearClassifier(feature_columns=feat_cols)"
   ]
  },
  {
   "cell_type": "markdown",
   "metadata": {},
   "source": [
    "**Trainiere dein Modell auf den Daten. Führe mindestens 5000 Schritte durch.**"
   ]
  },
  {
   "cell_type": "code",
   "execution_count": 16,
   "metadata": {},
   "outputs": [
    {
     "name": "stdout",
     "output_type": "stream",
     "text": [
      "WARNING:tensorflow:From Z:\\VisualStudio-Lib-Tools\\Anaconda3_64\\envs\\JupyterNotebook\\lib\\site-packages\\tensorflow_core\\python\\training\\training_util.py:236: Variable.initialized_value (from tensorflow.python.ops.variables) is deprecated and will be removed in a future version.\n",
      "Instructions for updating:\n",
      "Use Variable.read_value. Variables in 2.X are initialized automatically both in eager and graph (inside tf.defun) contexts.\n",
      "WARNING:tensorflow:From Z:\\VisualStudio-Lib-Tools\\Anaconda3_64\\envs\\JupyterNotebook\\lib\\site-packages\\tensorflow_estimator\\python\\estimator\\inputs\\queues\\feeding_queue_runner.py:62: QueueRunner.__init__ (from tensorflow.python.training.queue_runner_impl) is deprecated and will be removed in a future version.\n",
      "Instructions for updating:\n",
      "To construct input pipelines, use the `tf.data` module.\n",
      "WARNING:tensorflow:From Z:\\VisualStudio-Lib-Tools\\Anaconda3_64\\envs\\JupyterNotebook\\lib\\site-packages\\tensorflow_estimator\\python\\estimator\\inputs\\queues\\feeding_functions.py:500: add_queue_runner (from tensorflow.python.training.queue_runner_impl) is deprecated and will be removed in a future version.\n",
      "Instructions for updating:\n",
      "To construct input pipelines, use the `tf.data` module.\n",
      "INFO:tensorflow:Calling model_fn.\n",
      "WARNING:tensorflow:From Z:\\VisualStudio-Lib-Tools\\Anaconda3_64\\envs\\JupyterNotebook\\lib\\site-packages\\tensorflow_core\\python\\ops\\resource_variable_ops.py:1630: calling BaseResourceVariable.__init__ (from tensorflow.python.ops.resource_variable_ops) with constraint is deprecated and will be removed in a future version.\n",
      "Instructions for updating:\n",
      "If using Keras pass *_constraint arguments to layers.\n",
      "WARNING:tensorflow:From Z:\\VisualStudio-Lib-Tools\\Anaconda3_64\\envs\\JupyterNotebook\\lib\\site-packages\\tensorflow_core\\python\\feature_column\\feature_column_v2.py:518: Layer.add_variable (from tensorflow.python.keras.engine.base_layer) is deprecated and will be removed in a future version.\n",
      "Instructions for updating:\n",
      "Please use `layer.add_weight` method instead.\n",
      "WARNING:tensorflow:From Z:\\VisualStudio-Lib-Tools\\Anaconda3_64\\envs\\JupyterNotebook\\lib\\site-packages\\tensorflow_estimator\\python\\estimator\\canned\\linear.py:308: to_float (from tensorflow.python.ops.math_ops) is deprecated and will be removed in a future version.\n",
      "Instructions for updating:\n",
      "Use `tf.cast` instead.\n",
      "INFO:tensorflow:Done calling model_fn.\n",
      "INFO:tensorflow:Create CheckpointSaverHook.\n",
      "INFO:tensorflow:Graph was finalized.\n",
      "INFO:tensorflow:Running local_init_op.\n",
      "INFO:tensorflow:Done running local_init_op.\n",
      "WARNING:tensorflow:From Z:\\VisualStudio-Lib-Tools\\Anaconda3_64\\envs\\JupyterNotebook\\lib\\site-packages\\tensorflow_core\\python\\training\\monitored_session.py:882: start_queue_runners (from tensorflow.python.training.queue_runner_impl) is deprecated and will be removed in a future version.\n",
      "Instructions for updating:\n",
      "To construct input pipelines, use the `tf.data` module.\n",
      "INFO:tensorflow:Saving checkpoints for 0 into C:\\Users\\-T-\\AppData\\Local\\Temp\\tmph7i7ap7n\\model.ckpt.\n",
      "INFO:tensorflow:loss = 69.31474, step = 1\n",
      "INFO:tensorflow:global_step/sec: 170.376\n",
      "INFO:tensorflow:loss = 515.9164, step = 101 (0.590 sec)\n",
      "INFO:tensorflow:global_step/sec: 453.699\n",
      "INFO:tensorflow:loss = 54.27731, step = 201 (0.218 sec)\n",
      "INFO:tensorflow:global_step/sec: 432.186\n",
      "INFO:tensorflow:loss = 86.56738, step = 301 (0.231 sec)\n",
      "INFO:tensorflow:global_step/sec: 429.344\n",
      "INFO:tensorflow:loss = 61.867016, step = 401 (0.235 sec)\n",
      "INFO:tensorflow:global_step/sec: 422.163\n",
      "INFO:tensorflow:loss = 348.74948, step = 501 (0.236 sec)\n",
      "INFO:tensorflow:global_step/sec: 434.058\n",
      "INFO:tensorflow:loss = 161.22171, step = 601 (0.230 sec)\n",
      "INFO:tensorflow:global_step/sec: 430.331\n",
      "INFO:tensorflow:loss = 45.599346, step = 701 (0.231 sec)\n",
      "INFO:tensorflow:global_step/sec: 430.332\n",
      "INFO:tensorflow:loss = 775.2684, step = 801 (0.232 sec)\n",
      "INFO:tensorflow:global_step/sec: 453.026\n",
      "INFO:tensorflow:loss = 260.04077, step = 901 (0.221 sec)\n",
      "INFO:tensorflow:global_step/sec: 416.686\n",
      "INFO:tensorflow:loss = 70.48789, step = 1001 (0.241 sec)\n",
      "INFO:tensorflow:global_step/sec: 432.23\n",
      "INFO:tensorflow:loss = 98.31556, step = 1101 (0.231 sec)\n",
      "INFO:tensorflow:global_step/sec: 419.529\n",
      "INFO:tensorflow:loss = 82.18537, step = 1201 (0.237 sec)\n",
      "INFO:tensorflow:global_step/sec: 439.768\n",
      "INFO:tensorflow:loss = 45.89582, step = 1301 (0.227 sec)\n",
      "INFO:tensorflow:global_step/sec: 439.77\n",
      "INFO:tensorflow:loss = 46.087868, step = 1401 (0.228 sec)\n",
      "INFO:tensorflow:global_step/sec: 434.58\n",
      "INFO:tensorflow:loss = 142.91277, step = 1501 (0.230 sec)\n",
      "INFO:tensorflow:global_step/sec: 433.154\n",
      "INFO:tensorflow:loss = 385.25836, step = 1601 (0.230 sec)\n",
      "INFO:tensorflow:global_step/sec: 435.226\n",
      "INFO:tensorflow:loss = 29.606464, step = 1701 (0.232 sec)\n",
      "INFO:tensorflow:global_step/sec: 426.67\n",
      "INFO:tensorflow:loss = 37.883293, step = 1801 (0.233 sec)\n",
      "INFO:tensorflow:global_step/sec: 430.332\n",
      "INFO:tensorflow:loss = 75.17316, step = 1901 (0.231 sec)\n",
      "INFO:tensorflow:global_step/sec: 419.529\n",
      "INFO:tensorflow:loss = 122.49314, step = 2001 (0.239 sec)\n",
      "INFO:tensorflow:global_step/sec: 416.737\n",
      "INFO:tensorflow:loss = 28.03876, step = 2101 (0.239 sec)\n",
      "INFO:tensorflow:global_step/sec: 409.253\n",
      "INFO:tensorflow:loss = 279.22894, step = 2201 (0.244 sec)\n",
      "INFO:tensorflow:global_step/sec: 415.314\n",
      "INFO:tensorflow:loss = 143.71729, step = 2301 (0.241 sec)\n",
      "INFO:tensorflow:global_step/sec: 435.943\n",
      "INFO:tensorflow:loss = 58.259514, step = 2401 (0.229 sec)\n",
      "INFO:tensorflow:global_step/sec: 430.333\n",
      "INFO:tensorflow:loss = 64.12892, step = 2501 (0.233 sec)\n",
      "INFO:tensorflow:global_step/sec: 443.662\n",
      "INFO:tensorflow:loss = 143.76869, step = 2601 (0.225 sec)\n",
      "INFO:tensorflow:global_step/sec: 434.059\n",
      "INFO:tensorflow:loss = 100.284195, step = 2701 (0.229 sec)\n",
      "INFO:tensorflow:global_step/sec: 426.67\n",
      "INFO:tensorflow:loss = 48.236248, step = 2801 (0.235 sec)\n",
      "INFO:tensorflow:global_step/sec: 413.896\n",
      "INFO:tensorflow:loss = 33.603374, step = 2901 (0.241 sec)\n",
      "INFO:tensorflow:global_step/sec: 394.754\n",
      "INFO:tensorflow:loss = 66.48197, step = 3001 (0.254 sec)\n",
      "INFO:tensorflow:global_step/sec: 397.887\n",
      "INFO:tensorflow:loss = 37.159866, step = 3101 (0.250 sec)\n",
      "INFO:tensorflow:global_step/sec: 404.303\n",
      "INFO:tensorflow:loss = 37.08602, step = 3201 (0.247 sec)\n",
      "INFO:tensorflow:global_step/sec: 389.275\n",
      "INFO:tensorflow:loss = 37.87035, step = 3301 (0.258 sec)\n",
      "INFO:tensorflow:global_step/sec: 420.367\n",
      "INFO:tensorflow:loss = 69.7238, step = 3401 (0.238 sec)\n",
      "INFO:tensorflow:global_step/sec: 401.071\n",
      "INFO:tensorflow:loss = 248.45493, step = 3501 (0.250 sec)\n",
      "INFO:tensorflow:global_step/sec: 407.591\n",
      "INFO:tensorflow:loss = 50.752907, step = 3601 (0.243 sec)\n",
      "INFO:tensorflow:global_step/sec: 360.673\n",
      "INFO:tensorflow:loss = 42.02413, step = 3701 (0.278 sec)\n",
      "INFO:tensorflow:global_step/sec: 336.154\n",
      "INFO:tensorflow:loss = 28.933598, step = 3801 (0.298 sec)\n",
      "INFO:tensorflow:global_step/sec: 289.505\n",
      "INFO:tensorflow:loss = 32.553802, step = 3901 (0.344 sec)\n",
      "INFO:tensorflow:global_step/sec: 319.323\n",
      "INFO:tensorflow:loss = 60.637295, step = 4001 (0.313 sec)\n",
      "INFO:tensorflow:global_step/sec: 396.313\n",
      "INFO:tensorflow:loss = 39.33809, step = 4101 (0.251 sec)\n",
      "INFO:tensorflow:global_step/sec: 351.774\n",
      "INFO:tensorflow:loss = 63.49209, step = 4201 (0.285 sec)\n",
      "INFO:tensorflow:global_step/sec: 385.733\n",
      "INFO:tensorflow:loss = 80.22848, step = 4301 (0.260 sec)\n",
      "INFO:tensorflow:global_step/sec: 343.806\n",
      "INFO:tensorflow:loss = 56.7936, step = 4401 (0.290 sec)\n",
      "INFO:tensorflow:global_step/sec: 351.814\n",
      "INFO:tensorflow:loss = 126.9471, step = 4501 (0.284 sec)\n",
      "INFO:tensorflow:global_step/sec: 337.602\n",
      "INFO:tensorflow:loss = 30.941301, step = 4601 (0.296 sec)\n",
      "INFO:tensorflow:global_step/sec: 373.422\n",
      "INFO:tensorflow:loss = 38.506363, step = 4701 (0.268 sec)\n",
      "INFO:tensorflow:global_step/sec: 317.302\n",
      "INFO:tensorflow:loss = 35.732895, step = 4801 (0.316 sec)\n",
      "INFO:tensorflow:global_step/sec: 297.079\n",
      "INFO:tensorflow:loss = 31.36715, step = 4901 (0.336 sec)\n",
      "INFO:tensorflow:Saving checkpoints for 5000 into C:\\Users\\-T-\\AppData\\Local\\Temp\\tmph7i7ap7n\\model.ckpt.\n",
      "INFO:tensorflow:Loss for final step: 24.75845.\n"
     ]
    },
    {
     "data": {
      "text/plain": [
       "<tensorflow_estimator.python.estimator.canned.linear.LinearClassifier at 0x208f8a086c8>"
      ]
     },
     "execution_count": 16,
     "metadata": {},
     "output_type": "execute_result"
    }
   ],
   "source": [
    "model.train(input_fn=input_func,steps=5000)"
   ]
  },
  {
   "cell_type": "markdown",
   "metadata": {},
   "source": [
    "## Auswertung\n",
    "\n",
    "**Erstelle eine Vorhersagefunktion. Bedenke dabei nur X_test daten zu verwenden und setze `shuffle=False`.**"
   ]
  },
  {
   "cell_type": "code",
   "execution_count": 17,
   "metadata": {},
   "outputs": [],
   "source": [
    "pred_fn = tf.estimator.inputs.pandas_input_fn(x=X_test,batch_size=len(X_test),shuffle=False)"
   ]
  },
  {
   "cell_type": "markdown",
   "metadata": {},
   "source": [
    "**Nutze `model.predict()` und übergib die Inputfunktion. Dieser Vorgang wird einen Generator von Vorhersagen erstellen. Diesen kannst du in eine Liste umwandeln, indem du `list()` verwendest.**"
   ]
  },
  {
   "cell_type": "code",
   "execution_count": 18,
   "metadata": {},
   "outputs": [
    {
     "name": "stdout",
     "output_type": "stream",
     "text": [
      "INFO:tensorflow:Calling model_fn.\n",
      "INFO:tensorflow:Done calling model_fn.\n",
      "INFO:tensorflow:Graph was finalized.\n",
      "INFO:tensorflow:Restoring parameters from C:\\Users\\-T-\\AppData\\Local\\Temp\\tmph7i7ap7n\\model.ckpt-5000\n",
      "INFO:tensorflow:Running local_init_op.\n",
      "INFO:tensorflow:Done running local_init_op.\n"
     ]
    }
   ],
   "source": [
    "predictions = list(model.predict(input_fn=pred_fn))"
   ]
  },
  {
   "cell_type": "markdown",
   "metadata": {},
   "source": [
    "Jeder Eintrag deiner Liste wird wie folgt aussehen:"
   ]
  },
  {
   "cell_type": "code",
   "execution_count": 19,
   "metadata": {},
   "outputs": [
    {
     "data": {
      "text/plain": [
       "{'logits': array([-1.2519493], dtype=float32),\n",
       " 'logistic': array([0.22236288], dtype=float32),\n",
       " 'probabilities': array([0.7776372 , 0.22236286], dtype=float32),\n",
       " 'class_ids': array([0], dtype=int64),\n",
       " 'classes': array([b'0'], dtype=object),\n",
       " 'all_class_ids': array([0, 1]),\n",
       " 'all_classes': array([b'0', b'1'], dtype=object)}"
      ]
     },
     "execution_count": 19,
     "metadata": {},
     "output_type": "execute_result"
    }
   ],
   "source": [
    "predictions[0]"
   ]
  },
  {
   "cell_type": "markdown",
   "metadata": {},
   "source": [
    "**Erstelle eine Liste, die nur die \"class_ids\" Key-Values aus der Liste der Dictionaries beinhaltet. Dies sind die Werte, die wir mit den echten Werten aus y_test vergleichen können.**"
   ]
  },
  {
   "cell_type": "code",
   "execution_count": 20,
   "metadata": {},
   "outputs": [],
   "source": [
    "final_preds = []\n",
    "for pred in predictions:\n",
    "    final_preds.append(pred['class_ids'][0])"
   ]
  },
  {
   "cell_type": "code",
   "execution_count": 21,
   "metadata": {},
   "outputs": [
    {
     "data": {
      "text/plain": [
       "[0, 0, 0, 0, 1, 0, 0, 0, 0, 0]"
      ]
     },
     "execution_count": 21,
     "metadata": {},
     "output_type": "execute_result"
    }
   ],
   "source": [
    "final_preds[:10]"
   ]
  },
  {
   "cell_type": "markdown",
   "metadata": {},
   "source": [
    "**Importiere den `classification_report` aus `sklearn.metrics`. Finde dann heraus, wie du den Classification Report verwenden kannst, um schnell eine Zusammenfassung deiner Modell Performance zu erhalten.**"
   ]
  },
  {
   "cell_type": "code",
   "execution_count": 22,
   "metadata": {},
   "outputs": [],
   "source": [
    "from sklearn.metrics import classification_report"
   ]
  },
  {
   "cell_type": "code",
   "execution_count": 23,
   "metadata": {},
   "outputs": [
    {
     "name": "stdout",
     "output_type": "stream",
     "text": [
      "              precision    recall  f1-score   support\n",
      "\n",
      "           0       0.88      0.92      0.90      7436\n",
      "           1       0.70      0.60      0.64      2333\n",
      "\n",
      "    accuracy                           0.84      9769\n",
      "   macro avg       0.79      0.76      0.77      9769\n",
      "weighted avg       0.84      0.84      0.84      9769\n",
      "\n"
     ]
    }
   ],
   "source": [
    "print(classification_report(y_test,final_preds))"
   ]
  },
  {
   "cell_type": "markdown",
   "metadata": {},
   "source": [
    "# Gut gemacht!"
   ]
  }
 ],
 "metadata": {
  "kernelspec": {
   "display_name": "Python 3",
   "language": "python",
   "name": "python3"
  },
  "language_info": {
   "codemirror_mode": {
    "name": "ipython",
    "version": 3
   },
   "file_extension": ".py",
   "mimetype": "text/x-python",
   "name": "python",
   "nbconvert_exporter": "python",
   "pygments_lexer": "ipython3",
   "version": "3.7.4"
  }
 },
 "nbformat": 4,
 "nbformat_minor": 2
}
