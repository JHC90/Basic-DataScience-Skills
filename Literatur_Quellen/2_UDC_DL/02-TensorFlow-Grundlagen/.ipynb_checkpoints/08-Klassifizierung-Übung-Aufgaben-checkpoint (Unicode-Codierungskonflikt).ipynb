{
 "cells": [
  {
   "cell_type": "markdown",
   "metadata": {},
   "source": [
    "# Klassifizierungsübung - Aufgaben\n",
    "\n",
    "Wir werden mit einigen Zensusdaten aus Kalifornien arbeiten. In diesen Daten sind Eigenschaften von Leuten festgehalten, anhand derer wir versuchen werden ihr Einkommen vorherzusagen (>50k oder <= 50k).\n",
    "\n",
    "Hier einige Informationen über den Datensatz:"
   ]
  },
  {
   "cell_type": "markdown",
   "metadata": {},
   "source": [
    "<table>\n",
    "<thead>\n",
    "<tr>\n",
    "<th>Spaltenname</th>\n",
    "<th>Datentyp</th>\n",
    "<th>Beschreibung</th>\n",
    "</tr>\n",
    "</thead>\n",
    "<tbody>\n",
    "<tr>\n",
    "<td>age</td>\n",
    "<td>Continuous</td>\n",
    "<td>Das Alter der Person</td>\n",
    "</tr>\n",
    "<tr>\n",
    "<td>workclass</td>\n",
    "<td>Categorical</td>\n",
    "<td>Der Typ des Arbeitgebers der Person (Regierung,  Militär, Privatwirtschaft, etc.).</td>\n",
    "</tr>\n",
    "<tr>\n",
    "<td>fnlwgt</td>\n",
    "<td>Continuous</td>\n",
    "<td>Die Anzahl an Personen, die die befragte Person, als repräsentativ betrachtet. Diese Variable werden wir nicht nutzen.</td>\n",
    "</tr>\n",
    "<tr>\n",
    "<td>education</td>\n",
    "<td>Categorical</td>\n",
    "<td>Der höchste Bildungsabschluss der Person</td>\n",
    "</tr>\n",
    "<tr>\n",
    "<td>education_num</td>\n",
    "<td>Continuous</td>\n",
    "<td>Der höchste Bildungsabschluss in numerischer Form</td>\n",
    "</tr>\n",
    "<tr>\n",
    "<td>marital_status</td>\n",
    "<td>Categorical</td>\n",
    "<td>Familienstand der Person</td>\n",
    "</tr>\n",
    "<tr>\n",
    "<td>occupation</td>\n",
    "<td>Categorical</td>\n",
    "<td>Beschäftigung der Person</td>\n",
    "</tr>\n",
    "<tr>\n",
    "<td>relationship</td>\n",
    "<td>Categorical</td>\n",
    "<td>Ehefrau, Eigenes Kind, Ehemann, Nicht-in-der-Familie, Unverheiratet.</td>\n",
    "</tr>\n",
    "<tr>\n",
    "<td>race</td>\n",
    "<td>Categorical</td>\n",
    "<td>Weiß, Asiatisch-Pazifische-Inseln, Amerika-Indianisch-Eskimo, Andere, Schwarz</td>\n",
    "</tr>\n",
    "<tr>\n",
    "<td>gender</td>\n",
    "<td>Categorical</td>\n",
    "<td>Weiblich, Männlich</td>\n",
    "</tr>\n",
    "<tr>\n",
    "<td>capital_gain</td>\n",
    "<td>Continuous</td>\n",
    "<td>Kapitalgewinne</td>\n",
    "</tr>\n",
    "<tr>\n",
    "<td>capital_loss</td>\n",
    "<td>Continuous</td>\n",
    "<td>Kapitalverluste</td>\n",
    "</tr>\n",
    "<tr>\n",
    "<td>hours_per_week</td>\n",
    "<td>Continuous</td>\n",
    "<td>Arbeitsstunde pro Woche</td>\n",
    "</tr>\n",
    "<tr>\n",
    "<td>native_country</td>\n",
    "<td>Categorical</td>\n",
    "<td>Herkunftsland</td>\n",
    "</tr>\n",
    "<tr>\n",
    "<td>income</td>\n",
    "<td>Categorical</td>\n",
    "<td>\"&gt;50K\" oder \"&lt;=50K\", also ob der jenige mehr oder weniger als $50.000 im Jahr verdient.</td>\n",
    "</tr>\n",
    "</tbody>\n",
    "</table>"
   ]
  },
  {
   "cell_type": "markdown",
   "metadata": {},
   "source": [
    "Befolgt die **fett** geschriebenen Anweisungen.\n",
    "\n",
    "## Die Daten laden\n",
    "\n",
    "**Lese die `census_data.csv` Datei mit Pandas ein.**"
   ]
  },
  {
   "cell_type": "code",
   "execution_count": 1,
   "metadata": {},
   "outputs": [],
   "source": [
    "    "
   ]
  },
  {
   "cell_type": "code",
   "execution_count": 2,
   "metadata": {},
   "outputs": [],
   "source": []
  },
  {
   "cell_type": "code",
   "execution_count": 3,
   "metadata": {},
   "outputs": [
    {
     "data": {
      "text/html": [
       "<div>\n",
       "<style scoped>\n",
       "    .dataframe tbody tr th:only-of-type {\n",
       "        vertical-align: middle;\n",
       "    }\n",
       "\n",
       "    .dataframe tbody tr th {\n",
       "        vertical-align: top;\n",
       "    }\n",
       "\n",
       "    .dataframe thead th {\n",
       "        text-align: right;\n",
       "    }\n",
       "</style>\n",
       "<table border=\"1\" class=\"dataframe\">\n",
       "  <thead>\n",
       "    <tr style=\"text-align: right;\">\n",
       "      <th></th>\n",
       "      <th>age</th>\n",
       "      <th>workclass</th>\n",
       "      <th>education</th>\n",
       "      <th>education_num</th>\n",
       "      <th>marital_status</th>\n",
       "      <th>occupation</th>\n",
       "      <th>relationship</th>\n",
       "      <th>race</th>\n",
       "      <th>gender</th>\n",
       "      <th>capital_gain</th>\n",
       "      <th>capital_loss</th>\n",
       "      <th>hours_per_week</th>\n",
       "      <th>native_country</th>\n",
       "      <th>income_bracket</th>\n",
       "    </tr>\n",
       "  </thead>\n",
       "  <tbody>\n",
       "    <tr>\n",
       "      <th>0</th>\n",
       "      <td>39</td>\n",
       "      <td>State-gov</td>\n",
       "      <td>Bachelors</td>\n",
       "      <td>13</td>\n",
       "      <td>Never-married</td>\n",
       "      <td>Adm-clerical</td>\n",
       "      <td>Not-in-family</td>\n",
       "      <td>White</td>\n",
       "      <td>Male</td>\n",
       "      <td>2174</td>\n",
       "      <td>0</td>\n",
       "      <td>40</td>\n",
       "      <td>United-States</td>\n",
       "      <td>&lt;=50K</td>\n",
       "    </tr>\n",
       "    <tr>\n",
       "      <th>1</th>\n",
       "      <td>50</td>\n",
       "      <td>Self-emp-not-inc</td>\n",
       "      <td>Bachelors</td>\n",
       "      <td>13</td>\n",
       "      <td>Married-civ-spouse</td>\n",
       "      <td>Exec-managerial</td>\n",
       "      <td>Husband</td>\n",
       "      <td>White</td>\n",
       "      <td>Male</td>\n",
       "      <td>0</td>\n",
       "      <td>0</td>\n",
       "      <td>13</td>\n",
       "      <td>United-States</td>\n",
       "      <td>&lt;=50K</td>\n",
       "    </tr>\n",
       "    <tr>\n",
       "      <th>2</th>\n",
       "      <td>38</td>\n",
       "      <td>Private</td>\n",
       "      <td>HS-grad</td>\n",
       "      <td>9</td>\n",
       "      <td>Divorced</td>\n",
       "      <td>Handlers-cleaners</td>\n",
       "      <td>Not-in-family</td>\n",
       "      <td>White</td>\n",
       "      <td>Male</td>\n",
       "      <td>0</td>\n",
       "      <td>0</td>\n",
       "      <td>40</td>\n",
       "      <td>United-States</td>\n",
       "      <td>&lt;=50K</td>\n",
       "    </tr>\n",
       "    <tr>\n",
       "      <th>3</th>\n",
       "      <td>53</td>\n",
       "      <td>Private</td>\n",
       "      <td>11th</td>\n",
       "      <td>7</td>\n",
       "      <td>Married-civ-spouse</td>\n",
       "      <td>Handlers-cleaners</td>\n",
       "      <td>Husband</td>\n",
       "      <td>Black</td>\n",
       "      <td>Male</td>\n",
       "      <td>0</td>\n",
       "      <td>0</td>\n",
       "      <td>40</td>\n",
       "      <td>United-States</td>\n",
       "      <td>&lt;=50K</td>\n",
       "    </tr>\n",
       "    <tr>\n",
       "      <th>4</th>\n",
       "      <td>28</td>\n",
       "      <td>Private</td>\n",
       "      <td>Bachelors</td>\n",
       "      <td>13</td>\n",
       "      <td>Married-civ-spouse</td>\n",
       "      <td>Prof-specialty</td>\n",
       "      <td>Wife</td>\n",
       "      <td>Black</td>\n",
       "      <td>Female</td>\n",
       "      <td>0</td>\n",
       "      <td>0</td>\n",
       "      <td>40</td>\n",
       "      <td>Cuba</td>\n",
       "      <td>&lt;=50K</td>\n",
       "    </tr>\n",
       "  </tbody>\n",
       "</table>\n",
       "</div>"
      ],
      "text/plain": [
       "   age          workclass   education  education_num       marital_status  \\\n",
       "0   39          State-gov   Bachelors             13        Never-married   \n",
       "1   50   Self-emp-not-inc   Bachelors             13   Married-civ-spouse   \n",
       "2   38            Private     HS-grad              9             Divorced   \n",
       "3   53            Private        11th              7   Married-civ-spouse   \n",
       "4   28            Private   Bachelors             13   Married-civ-spouse   \n",
       "\n",
       "           occupation    relationship    race   gender  capital_gain  \\\n",
       "0        Adm-clerical   Not-in-family   White     Male          2174   \n",
       "1     Exec-managerial         Husband   White     Male             0   \n",
       "2   Handlers-cleaners   Not-in-family   White     Male             0   \n",
       "3   Handlers-cleaners         Husband   Black     Male             0   \n",
       "4      Prof-specialty            Wife   Black   Female             0   \n",
       "\n",
       "   capital_loss  hours_per_week  native_country income_bracket  \n",
       "0             0              40   United-States          <=50K  \n",
       "1             0              13   United-States          <=50K  \n",
       "2             0              40   United-States          <=50K  \n",
       "3             0              40   United-States          <=50K  \n",
       "4             0              40            Cuba          <=50K  "
      ]
     },
     "execution_count": 3,
     "metadata": {},
     "output_type": "execute_result"
    }
   ],
   "source": []
  },
  {
   "cell_type": "markdown",
   "metadata": {},
   "source": [
    "TensorFlow ist nicht in der Lage Strings als Label zu verstehen. Wir müssen Pandas `.apply()` Methode verwenden. So können wir eine selbstgeschriebene Funktion erstellen, die Label in 0en und 1en umwandelt.\n",
    "\n",
    "*Hinweis: Wenn du dich mit Pandas nicht auskennst könnte dieser Schritt etwas schwieriger sein. Schaue gerne in die Lösung.*\n",
    "\n",
    "**Wandle die Label-Spalte in 0en und 1en um.**"
   ]
  },
  {
   "cell_type": "code",
   "execution_count": 4,
   "metadata": {},
   "outputs": [
    {
     "data": {
      "text/plain": [
       "array([' <=50K', ' >50K'], dtype=object)"
      ]
     },
     "execution_count": 4,
     "metadata": {},
     "output_type": "execute_result"
    }
   ],
   "source": []
  },
  {
   "cell_type": "code",
   "execution_count": 5,
   "metadata": {},
   "outputs": [],
   "source": []
  },
  {
   "cell_type": "code",
   "execution_count": 6,
   "metadata": {},
   "outputs": [],
   "source": []
  },
  {
   "cell_type": "markdown",
   "metadata": {},
   "source": [
    "## Train Test Split\n",
    "**Teile die Daten in Trainings- und Testset auf.**"
   ]
  },
  {
   "cell_type": "code",
   "execution_count": 7,
   "metadata": {},
   "outputs": [],
   "source": []
  },
  {
   "cell_type": "code",
   "execution_count": 8,
   "metadata": {},
   "outputs": [],
   "source": []
  },
  {
   "cell_type": "markdown",
   "metadata": {
    "collapsed": true
   },
   "source": [
    "## Feature Spalte für tf.estimator\n",
    "**Erstelle eine Feature-Spalte für Tensorflow.**\n",
    "*Hinweis: Achte auf kategorische und kontinuierliche Werte.*"
   ]
  },
  {
   "cell_type": "code",
   "execution_count": 9,
   "metadata": {},
   "outputs": [
    {
     "data": {
      "text/plain": [
       "Index(['age', 'workclass', 'education', 'education_num', 'marital_status',\n",
       "       'occupation', 'relationship', 'race', 'gender', 'capital_gain',\n",
       "       'capital_loss', 'hours_per_week', 'native_country', 'income_bracket'],\n",
       "      dtype='object')"
      ]
     },
     "execution_count": 9,
     "metadata": {},
     "output_type": "execute_result"
    }
   ],
   "source": []
  },
  {
   "cell_type": "markdown",
   "metadata": {},
   "source": [
    "**Importiere `tensorflow` als tf.**"
   ]
  },
  {
   "cell_type": "code",
   "execution_count": 10,
   "metadata": {},
   "outputs": [
    {
     "name": "stderr",
     "output_type": "stream",
     "text": [
      "/Users/davidmika/anaconda3/envs/tensorflow/lib/python3.6/importlib/_bootstrap.py:219: RuntimeWarning: compiletime version 3.5 of module 'tensorflow.python.framework.fast_tensor_util' does not match runtime version 3.6\n",
      "  return f(*args, **kwds)\n"
     ]
    }
   ],
   "source": []
  },
  {
   "cell_type": "markdown",
   "metadata": {},
   "source": [
    "**Erstelle die `tf.feature_column`s für die kategorischen Werte. Nutze \"vocabulary lists\" oder einfach \"hash buckets\".**"
   ]
  },
  {
   "cell_type": "code",
   "execution_count": 11,
   "metadata": {},
   "outputs": [],
   "source": []
  },
  {
   "cell_type": "markdown",
   "metadata": {},
   "source": [
    "**Erstelle die kontinuierlichen Feature-Splaten für die kontinuierlichen Werte mit `numeric_column`.**"
   ]
  },
  {
   "cell_type": "code",
   "execution_count": 12,
   "metadata": {},
   "outputs": [],
   "source": []
  },
  {
   "cell_type": "markdown",
   "metadata": {},
   "source": [
    "**Füge alle diese Variablen in eine einzige Liste mit dem Namen \"feat_cols\".**"
   ]
  },
  {
   "cell_type": "code",
   "execution_count": 13,
   "metadata": {},
   "outputs": [],
   "source": []
  },
  {
   "cell_type": "markdown",
   "metadata": {},
   "source": [
    "## Input Funktion erstellen\n",
    "**Erstelle eine Input Funktion. die `batch_size` ist dir überlassen.**"
   ]
  },
  {
   "cell_type": "code",
   "execution_count": 14,
   "metadata": {},
   "outputs": [],
   "source": []
  },
  {
   "cell_type": "markdown",
   "metadata": {},
   "source": [
    "**Erstelle dein Modell mit `tf.estimator`. Verwende einen `LinearClassifier`.**"
   ]
  },
  {
   "cell_type": "code",
   "execution_count": 15,
   "metadata": {},
   "outputs": [
    {
     "name": "stdout",
     "output_type": "stream",
     "text": [
      "INFO:tensorflow:Using default config.\n",
      "WARNING:tensorflow:Using temporary folder as model directory: /var/folders/l_/ph09zg211515zffvzrp3bb680000gn/T/tmpb0rlp7v8\n",
      "INFO:tensorflow:Using config: {'_model_dir': '/var/folders/l_/ph09zg211515zffvzrp3bb680000gn/T/tmpb0rlp7v8', '_tf_random_seed': None, '_save_summary_steps': 100, '_save_checkpoints_steps': None, '_save_checkpoints_secs': 600, '_session_config': None, '_keep_checkpoint_max': 5, '_keep_checkpoint_every_n_hours': 10000, '_log_step_count_steps': 100, '_service': None, '_cluster_spec': <tensorflow.python.training.server_lib.ClusterSpec object at 0x1a122d2080>, '_task_type': 'worker', '_task_id': 0, '_master': '', '_is_chief': True, '_num_ps_replicas': 0, '_num_worker_replicas': 1}\n"
     ]
    }
   ],
   "source": []
  },
  {
   "cell_type": "markdown",
   "metadata": {},
   "source": [
    "**Trainiere dein Modell auf den Daten. Führe mindestens 5000 Schritte durch.**"
   ]
  },
  {
   "cell_type": "code",
   "execution_count": 16,
   "metadata": {},
   "outputs": [
    {
     "name": "stdout",
     "output_type": "stream",
     "text": [
      "INFO:tensorflow:Create CheckpointSaverHook.\n",
      "INFO:tensorflow:Saving checkpoints for 1 into /var/folders/l_/ph09zg211515zffvzrp3bb680000gn/T/tmpb0rlp7v8/model.ckpt.\n",
      "INFO:tensorflow:loss = 69.31474, step = 1\n",
      "INFO:tensorflow:global_step/sec: 132.123\n",
      "INFO:tensorflow:loss = 424.43942, step = 101 (0.757 sec)\n",
      "INFO:tensorflow:global_step/sec: 226.987\n",
      "INFO:tensorflow:loss = 405.73724, step = 201 (0.441 sec)\n",
      "INFO:tensorflow:global_step/sec: 342.24\n",
      "INFO:tensorflow:loss = 378.68317, step = 301 (0.292 sec)\n",
      "INFO:tensorflow:global_step/sec: 321.063\n",
      "INFO:tensorflow:loss = 585.9509, step = 401 (0.314 sec)\n",
      "INFO:tensorflow:global_step/sec: 302.859\n",
      "INFO:tensorflow:loss = 34.769966, step = 501 (0.328 sec)\n",
      "INFO:tensorflow:global_step/sec: 235.003\n",
      "INFO:tensorflow:loss = 223.6494, step = 601 (0.426 sec)\n",
      "INFO:tensorflow:global_step/sec: 276.335\n",
      "INFO:tensorflow:loss = 66.083496, step = 701 (0.363 sec)\n",
      "INFO:tensorflow:global_step/sec: 365.09\n",
      "INFO:tensorflow:loss = 95.40196, step = 801 (0.274 sec)\n",
      "INFO:tensorflow:global_step/sec: 297.149\n",
      "INFO:tensorflow:loss = 40.64008, step = 901 (0.336 sec)\n",
      "INFO:tensorflow:global_step/sec: 339.749\n",
      "INFO:tensorflow:loss = 159.6207, step = 1001 (0.293 sec)\n",
      "INFO:tensorflow:global_step/sec: 292.083\n",
      "INFO:tensorflow:loss = 162.28502, step = 1101 (0.344 sec)\n",
      "INFO:tensorflow:global_step/sec: 283.48\n",
      "INFO:tensorflow:loss = 152.61052, step = 1201 (0.352 sec)\n",
      "INFO:tensorflow:global_step/sec: 269.267\n",
      "INFO:tensorflow:loss = 67.120285, step = 1301 (0.371 sec)\n",
      "INFO:tensorflow:global_step/sec: 296.855\n",
      "INFO:tensorflow:loss = 54.617825, step = 1401 (0.336 sec)\n",
      "INFO:tensorflow:global_step/sec: 299.413\n",
      "INFO:tensorflow:loss = 108.03461, step = 1501 (0.336 sec)\n",
      "INFO:tensorflow:global_step/sec: 318.886\n",
      "INFO:tensorflow:loss = 68.40092, step = 1601 (0.313 sec)\n",
      "INFO:tensorflow:global_step/sec: 318.733\n",
      "INFO:tensorflow:loss = 184.1854, step = 1701 (0.314 sec)\n",
      "INFO:tensorflow:global_step/sec: 354.811\n",
      "INFO:tensorflow:loss = 91.1537, step = 1801 (0.281 sec)\n",
      "INFO:tensorflow:global_step/sec: 318.641\n",
      "INFO:tensorflow:loss = 82.38714, step = 1901 (0.313 sec)\n",
      "INFO:tensorflow:global_step/sec: 325.285\n",
      "INFO:tensorflow:loss = 74.8313, step = 2001 (0.311 sec)\n",
      "INFO:tensorflow:global_step/sec: 301.277\n",
      "INFO:tensorflow:loss = 33.369343, step = 2101 (0.329 sec)\n",
      "INFO:tensorflow:global_step/sec: 310.394\n",
      "INFO:tensorflow:loss = 36.57501, step = 2201 (0.323 sec)\n",
      "INFO:tensorflow:global_step/sec: 288.849\n",
      "INFO:tensorflow:loss = 247.56183, step = 2301 (0.347 sec)\n",
      "INFO:tensorflow:global_step/sec: 305.146\n",
      "INFO:tensorflow:loss = 163.68317, step = 2401 (0.328 sec)\n",
      "INFO:tensorflow:global_step/sec: 329.86\n",
      "INFO:tensorflow:loss = 81.14702, step = 2501 (0.301 sec)\n",
      "INFO:tensorflow:global_step/sec: 301.931\n",
      "INFO:tensorflow:loss = 326.33707, step = 2601 (0.331 sec)\n",
      "INFO:tensorflow:global_step/sec: 308.29\n",
      "INFO:tensorflow:loss = 25.239882, step = 2701 (0.327 sec)\n",
      "INFO:tensorflow:global_step/sec: 327.193\n",
      "INFO:tensorflow:loss = 80.498245, step = 2801 (0.305 sec)\n",
      "INFO:tensorflow:global_step/sec: 254.496\n",
      "INFO:tensorflow:loss = 38.834885, step = 2901 (0.391 sec)\n",
      "INFO:tensorflow:global_step/sec: 356.814\n",
      "INFO:tensorflow:loss = 41.36309, step = 3001 (0.280 sec)\n",
      "INFO:tensorflow:global_step/sec: 346.61\n",
      "INFO:tensorflow:loss = 48.02484, step = 3101 (0.291 sec)\n",
      "INFO:tensorflow:global_step/sec: 352.824\n",
      "INFO:tensorflow:loss = 340.90894, step = 3201 (0.282 sec)\n",
      "INFO:tensorflow:global_step/sec: 345.978\n",
      "INFO:tensorflow:loss = 184.26714, step = 3301 (0.289 sec)\n",
      "INFO:tensorflow:global_step/sec: 349.514\n",
      "INFO:tensorflow:loss = 58.827217, step = 3401 (0.288 sec)\n",
      "INFO:tensorflow:global_step/sec: 363.333\n",
      "INFO:tensorflow:loss = 70.90526, step = 3501 (0.274 sec)\n",
      "INFO:tensorflow:global_step/sec: 365.835\n",
      "INFO:tensorflow:loss = 47.62806, step = 3601 (0.273 sec)\n",
      "INFO:tensorflow:global_step/sec: 335.603\n",
      "INFO:tensorflow:loss = 35.5123, step = 3701 (0.300 sec)\n",
      "INFO:tensorflow:global_step/sec: 340.179\n",
      "INFO:tensorflow:loss = 50.165054, step = 3801 (0.294 sec)\n",
      "INFO:tensorflow:global_step/sec: 329.329\n",
      "INFO:tensorflow:loss = 31.269478, step = 3901 (0.301 sec)\n",
      "INFO:tensorflow:global_step/sec: 329.719\n",
      "INFO:tensorflow:loss = 163.8001, step = 4001 (0.305 sec)\n",
      "INFO:tensorflow:global_step/sec: 340.385\n",
      "INFO:tensorflow:loss = 170.64064, step = 4101 (0.293 sec)\n",
      "INFO:tensorflow:global_step/sec: 337.292\n",
      "INFO:tensorflow:loss = 55.456345, step = 4201 (0.296 sec)\n",
      "INFO:tensorflow:global_step/sec: 356.38\n",
      "INFO:tensorflow:loss = 45.08872, step = 4301 (0.282 sec)\n",
      "INFO:tensorflow:global_step/sec: 339.924\n",
      "INFO:tensorflow:loss = 26.412119, step = 4401 (0.294 sec)\n",
      "INFO:tensorflow:global_step/sec: 315.138\n",
      "INFO:tensorflow:loss = 111.01368, step = 4501 (0.319 sec)\n",
      "INFO:tensorflow:global_step/sec: 329.67\n",
      "INFO:tensorflow:loss = 24.701015, step = 4601 (0.302 sec)\n",
      "INFO:tensorflow:global_step/sec: 315.852\n",
      "INFO:tensorflow:loss = 38.5224, step = 4701 (0.315 sec)\n",
      "INFO:tensorflow:global_step/sec: 361.208\n",
      "INFO:tensorflow:loss = 30.291586, step = 4801 (0.278 sec)\n",
      "INFO:tensorflow:global_step/sec: 342.046\n",
      "INFO:tensorflow:loss = 30.26811, step = 4901 (0.291 sec)\n",
      "INFO:tensorflow:Saving checkpoints for 5000 into /var/folders/l_/ph09zg211515zffvzrp3bb680000gn/T/tmpb0rlp7v8/model.ckpt.\n",
      "INFO:tensorflow:Loss for final step: 46.20157.\n"
     ]
    },
    {
     "data": {
      "text/plain": [
       "<tensorflow.python.estimator.canned.linear.LinearClassifier at 0x1a13017898>"
      ]
     },
     "execution_count": 16,
     "metadata": {},
     "output_type": "execute_result"
    }
   ],
   "source": []
  },
  {
   "cell_type": "markdown",
   "metadata": {},
   "source": [
    "## Auswertung\n",
    "\n",
    "**Erstelle eine Vorhersagefunktion. Bedenke dabei nur X_test daten zu verwenden und setze `shuffle=False`.**"
   ]
  },
  {
   "cell_type": "code",
   "execution_count": 17,
   "metadata": {},
   "outputs": [],
   "source": []
  },
  {
   "cell_type": "markdown",
   "metadata": {},
   "source": [
    "**Nutze `model.predict()` und übergib die Inputfunktion. Dieser Vorgang wird einen Generator von Vorhersagen erstellen. Diesen kannst du in eine Liste umwandeln, indem du `list()` verwendest.**"
   ]
  },
  {
   "cell_type": "code",
   "execution_count": 18,
   "metadata": {},
   "outputs": [
    {
     "name": "stdout",
     "output_type": "stream",
     "text": [
      "INFO:tensorflow:Restoring parameters from /var/folders/l_/ph09zg211515zffvzrp3bb680000gn/T/tmpb0rlp7v8/model.ckpt-5000\n"
     ]
    }
   ],
   "source": []
  },
  {
   "cell_type": "markdown",
   "metadata": {},
   "source": [
    "Jeder Eintrag deiner Liste wird wie folgt aussehen:"
   ]
  },
  {
   "cell_type": "code",
   "execution_count": 19,
   "metadata": {},
   "outputs": [
    {
     "data": {
      "text/plain": [
       "{'class_ids': array([0]),\n",
       " 'classes': array([b'0'], dtype=object),\n",
       " 'logistic': array([0.2601548], dtype=float32),\n",
       " 'logits': array([-1.0451641], dtype=float32),\n",
       " 'probabilities': array([0.73984516, 0.26015478], dtype=float32)}"
      ]
     },
     "execution_count": 19,
     "metadata": {},
     "output_type": "execute_result"
    }
   ],
   "source": [
    "predictions[0]"
   ]
  },
  {
   "cell_type": "markdown",
   "metadata": {},
   "source": [
    "**Erstelle eine Liste, die nur die \"class_ids\" Key-Values aus der Liste der Dictionaries beinhaltet. Dies sind die Werte, die wir mit den echten Werten aus y_test vergleichen können.**"
   ]
  },
  {
   "cell_type": "code",
   "execution_count": 20,
   "metadata": {},
   "outputs": [],
   "source": []
  },
  {
   "cell_type": "code",
   "execution_count": 21,
   "metadata": {},
   "outputs": [
    {
     "data": {
      "text/plain": [
       "[0, 0, 0, 0, 1, 0, 0, 0, 0, 0]"
      ]
     },
     "execution_count": 21,
     "metadata": {},
     "output_type": "execute_result"
    }
   ],
   "source": []
  },
  {
   "cell_type": "markdown",
   "metadata": {},
   "source": [
    "**Importiere den `classification_report` aus `sklearn.metrics`. Finde dann heraus, wie du den Classification Report verwenden kannst, um schnell eine Zusammenfassung deiner Modell Performance zu erhalten.**"
   ]
  },
  {
   "cell_type": "code",
   "execution_count": 22,
   "metadata": {},
   "outputs": [],
   "source": []
  },
  {
   "cell_type": "code",
   "execution_count": 23,
   "metadata": {},
   "outputs": [
    {
     "name": "stdout",
     "output_type": "stream",
     "text": [
      "             precision    recall  f1-score   support\n",
      "\n",
      "          0       0.86      0.92      0.89      7436\n",
      "          1       0.69      0.54      0.60      2333\n",
      "\n",
      "avg / total       0.82      0.83      0.82      9769\n",
      "\n"
     ]
    }
   ],
   "source": []
  },
  {
   "cell_type": "markdown",
   "metadata": {},
   "source": [
    "# Gut gemacht!"
   ]
  }
 ],
 "metadata": {
  "kernelspec": {
   "display_name": "Python 3",
   "language": "python",
   "name": "python3"
  },
  "language_info": {
   "codemirror_mode": {
    "name": "ipython",
    "version": 3
   },
   "file_extension": ".py",
   "mimetype": "text/x-python",
   "name": "python",
   "nbconvert_exporter": "python",
   "pygments_lexer": "ipython3",
   "version": "3.6.4"
  }
 },
 "nbformat": 4,
 "nbformat_minor": 2
}
