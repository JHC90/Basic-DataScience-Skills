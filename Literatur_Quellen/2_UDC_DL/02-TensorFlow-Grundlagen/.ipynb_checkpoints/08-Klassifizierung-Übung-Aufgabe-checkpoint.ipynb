{
 "cells": [
  {
   "cell_type": "markdown",
   "metadata": {},
   "source": [
    "<a href=\"https://datamics.com/de/courses/\"><img src=../DATA/bg_datamics_top.png></a>\n",
    "\n",
    "<em text-align:center>© Datamics</em>\n",
    "# Klassifizierungsübung - Aufgabe\n",
    "\n",
    "Wir werden mit einigen Zensusdaten aus Kalifornien arbeiten. In diesen Daten sind Eigenschaften von Leuten festgehalten, anhand derer wir versuchen werden ihr Einkommen vorherzusagen (>50k oder <= 50k).\n",
    "\n",
    "Hier einige Informationen über den Datensatz:"
   ]
  },
  {
   "cell_type": "markdown",
   "metadata": {},
   "source": [
    "<table>\n",
    "<thead>\n",
    "<tr>\n",
    "<th>Spaltenname</th>\n",
    "<th>Datentyp</th>\n",
    "<th>Beschreibung</th>\n",
    "</tr>\n",
    "</thead>\n",
    "<tbody>\n",
    "<tr>\n",
    "<td>age</td>\n",
    "<td>Continuous</td>\n",
    "<td>Das Alter der Person</td>\n",
    "</tr>\n",
    "<tr>\n",
    "<td>workclass</td>\n",
    "<td>Categorical</td>\n",
    "<td>Der Typ des Arbeitgebers der Person (Regierung,  Militär, Privatwirtschaft, etc.).</td>\n",
    "</tr>\n",
    "<tr>\n",
    "<td>fnlwgt</td>\n",
    "<td>Continuous</td>\n",
    "<td>Die Anzahl an Personen, die die befragte Person, als repräsentativ betrachtet. Diese Variable werden wir nicht nutzen.</td>\n",
    "</tr>\n",
    "<tr>\n",
    "<td>education</td>\n",
    "<td>Categorical</td>\n",
    "<td>Der höchste Bildungsabschluss der Person</td>\n",
    "</tr>\n",
    "<tr>\n",
    "<td>education_num</td>\n",
    "<td>Continuous</td>\n",
    "<td>Der höchste Bildungsabschluss in numerischer Form</td>\n",
    "</tr>\n",
    "<tr>\n",
    "<td>marital_status</td>\n",
    "<td>Categorical</td>\n",
    "<td>Familienstand der Person</td>\n",
    "</tr>\n",
    "<tr>\n",
    "<td>occupation</td>\n",
    "<td>Categorical</td>\n",
    "<td>Beschäftigung der Person</td>\n",
    "</tr>\n",
    "<tr>\n",
    "<td>relationship</td>\n",
    "<td>Categorical</td>\n",
    "<td>Ehefrau, Eigenes Kind, Ehemann, Nicht-in-der-Familie, Unverheiratet.</td>\n",
    "</tr>\n",
    "<tr>\n",
    "<td>race</td>\n",
    "<td>Categorical</td>\n",
    "<td>Weiß, Asiatisch-Pazifische-Inseln, Amerika-Indianisch-Eskimo, Andere, Schwarz</td>\n",
    "</tr>\n",
    "<tr>\n",
    "<td>gender</td>\n",
    "<td>Categorical</td>\n",
    "<td>Weiblich, Männlich</td>\n",
    "</tr>\n",
    "<tr>\n",
    "<td>capital_gain</td>\n",
    "<td>Continuous</td>\n",
    "<td>Kapitalgewinne</td>\n",
    "</tr>\n",
    "<tr>\n",
    "<td>capital_loss</td>\n",
    "<td>Continuous</td>\n",
    "<td>Kapitalverluste</td>\n",
    "</tr>\n",
    "<tr>\n",
    "<td>hours_per_week</td>\n",
    "<td>Continuous</td>\n",
    "<td>Arbeitsstunde pro Woche</td>\n",
    "</tr>\n",
    "<tr>\n",
    "<td>native_country</td>\n",
    "<td>Categorical</td>\n",
    "<td>Herkunftsland</td>\n",
    "</tr>\n",
    "<tr>\n",
    "<td>income</td>\n",
    "<td>Categorical</td>\n",
    "<td>\"&gt;50K\" oder \"&lt;=50K\", also ob der jenige mehr oder weniger als $50.000 im Jahr verdient.</td>\n",
    "</tr>\n",
    "</tbody>\n",
    "</table>"
   ]
  },
  {
   "cell_type": "markdown",
   "metadata": {},
   "source": [
    "Befolgt die **fett** geschriebenen Anweisungen.\n",
    "\n",
    "## Die Daten laden\n",
    "\n",
    "**Lese die `census_data.csv` Datei mit Pandas ein.**"
   ]
  },
  {
   "cell_type": "code",
   "execution_count": 2,
   "metadata": {
    "collapsed": true
   },
   "outputs": [],
   "source": []
  },
  {
   "cell_type": "code",
   "execution_count": 3,
   "metadata": {
    "collapsed": true
   },
   "outputs": [],
   "source": []
  },
  {
   "cell_type": "code",
   "execution_count": 4,
   "metadata": {},
   "outputs": [
    {
     "data": {
      "text/html": [
       "<div>\n",
       "<style scoped>\n",
       "    .dataframe tbody tr th:only-of-type {\n",
       "        vertical-align: middle;\n",
       "    }\n",
       "\n",
       "    .dataframe tbody tr th {\n",
       "        vertical-align: top;\n",
       "    }\n",
       "\n",
       "    .dataframe thead th {\n",
       "        text-align: right;\n",
       "    }\n",
       "</style>\n",
       "<table border=\"1\" class=\"dataframe\">\n",
       "  <thead>\n",
       "    <tr style=\"text-align: right;\">\n",
       "      <th></th>\n",
       "      <th>age</th>\n",
       "      <th>workclass</th>\n",
       "      <th>education</th>\n",
       "      <th>education_num</th>\n",
       "      <th>marital_status</th>\n",
       "      <th>occupation</th>\n",
       "      <th>relationship</th>\n",
       "      <th>race</th>\n",
       "      <th>gender</th>\n",
       "      <th>capital_gain</th>\n",
       "      <th>capital_loss</th>\n",
       "      <th>hours_per_week</th>\n",
       "      <th>native_country</th>\n",
       "      <th>income_bracket</th>\n",
       "    </tr>\n",
       "  </thead>\n",
       "  <tbody>\n",
       "    <tr>\n",
       "      <th>0</th>\n",
       "      <td>39</td>\n",
       "      <td>State-gov</td>\n",
       "      <td>Bachelors</td>\n",
       "      <td>13</td>\n",
       "      <td>Never-married</td>\n",
       "      <td>Adm-clerical</td>\n",
       "      <td>Not-in-family</td>\n",
       "      <td>White</td>\n",
       "      <td>Male</td>\n",
       "      <td>2174</td>\n",
       "      <td>0</td>\n",
       "      <td>40</td>\n",
       "      <td>United-States</td>\n",
       "      <td>&lt;=50K</td>\n",
       "    </tr>\n",
       "    <tr>\n",
       "      <th>1</th>\n",
       "      <td>50</td>\n",
       "      <td>Self-emp-not-inc</td>\n",
       "      <td>Bachelors</td>\n",
       "      <td>13</td>\n",
       "      <td>Married-civ-spouse</td>\n",
       "      <td>Exec-managerial</td>\n",
       "      <td>Husband</td>\n",
       "      <td>White</td>\n",
       "      <td>Male</td>\n",
       "      <td>0</td>\n",
       "      <td>0</td>\n",
       "      <td>13</td>\n",
       "      <td>United-States</td>\n",
       "      <td>&lt;=50K</td>\n",
       "    </tr>\n",
       "    <tr>\n",
       "      <th>2</th>\n",
       "      <td>38</td>\n",
       "      <td>Private</td>\n",
       "      <td>HS-grad</td>\n",
       "      <td>9</td>\n",
       "      <td>Divorced</td>\n",
       "      <td>Handlers-cleaners</td>\n",
       "      <td>Not-in-family</td>\n",
       "      <td>White</td>\n",
       "      <td>Male</td>\n",
       "      <td>0</td>\n",
       "      <td>0</td>\n",
       "      <td>40</td>\n",
       "      <td>United-States</td>\n",
       "      <td>&lt;=50K</td>\n",
       "    </tr>\n",
       "    <tr>\n",
       "      <th>3</th>\n",
       "      <td>53</td>\n",
       "      <td>Private</td>\n",
       "      <td>11th</td>\n",
       "      <td>7</td>\n",
       "      <td>Married-civ-spouse</td>\n",
       "      <td>Handlers-cleaners</td>\n",
       "      <td>Husband</td>\n",
       "      <td>Black</td>\n",
       "      <td>Male</td>\n",
       "      <td>0</td>\n",
       "      <td>0</td>\n",
       "      <td>40</td>\n",
       "      <td>United-States</td>\n",
       "      <td>&lt;=50K</td>\n",
       "    </tr>\n",
       "    <tr>\n",
       "      <th>4</th>\n",
       "      <td>28</td>\n",
       "      <td>Private</td>\n",
       "      <td>Bachelors</td>\n",
       "      <td>13</td>\n",
       "      <td>Married-civ-spouse</td>\n",
       "      <td>Prof-specialty</td>\n",
       "      <td>Wife</td>\n",
       "      <td>Black</td>\n",
       "      <td>Female</td>\n",
       "      <td>0</td>\n",
       "      <td>0</td>\n",
       "      <td>40</td>\n",
       "      <td>Cuba</td>\n",
       "      <td>&lt;=50K</td>\n",
       "    </tr>\n",
       "  </tbody>\n",
       "</table>\n",
       "</div>"
      ],
      "text/plain": [
       "   age          workclass   education  education_num       marital_status  \\\n",
       "0   39          State-gov   Bachelors             13        Never-married   \n",
       "1   50   Self-emp-not-inc   Bachelors             13   Married-civ-spouse   \n",
       "2   38            Private     HS-grad              9             Divorced   \n",
       "3   53            Private        11th              7   Married-civ-spouse   \n",
       "4   28            Private   Bachelors             13   Married-civ-spouse   \n",
       "\n",
       "           occupation    relationship    race   gender  capital_gain  \\\n",
       "0        Adm-clerical   Not-in-family   White     Male          2174   \n",
       "1     Exec-managerial         Husband   White     Male             0   \n",
       "2   Handlers-cleaners   Not-in-family   White     Male             0   \n",
       "3   Handlers-cleaners         Husband   Black     Male             0   \n",
       "4      Prof-specialty            Wife   Black   Female             0   \n",
       "\n",
       "   capital_loss  hours_per_week  native_country income_bracket  \n",
       "0             0              40   United-States          <=50K  \n",
       "1             0              13   United-States          <=50K  \n",
       "2             0              40   United-States          <=50K  \n",
       "3             0              40   United-States          <=50K  \n",
       "4             0              40            Cuba          <=50K  "
      ]
     },
     "execution_count": 4,
     "metadata": {},
     "output_type": "execute_result"
    }
   ],
   "source": []
  },
  {
   "cell_type": "markdown",
   "metadata": {},
   "source": [
    "TensorFlow ist nicht in der Lage Strings als Label zu verstehen. Wir müssen Pandas `.apply()` Methode verwenden. So können wir eine selbstgeschriebene Funktion erstellen, die Label in 0en und 1en umwandelt.\n",
    "\n",
    "*Hinweis: Wenn du dich mit Pandas nicht auskennst könnte dieser Schritt etwas schwieriger sein. Schaue gerne in die Lösung.*\n",
    "\n",
    "**Wandle die Label-Spalte in 0en und 1en um.**"
   ]
  },
  {
   "cell_type": "code",
   "execution_count": 5,
   "metadata": {},
   "outputs": [
    {
     "data": {
      "text/plain": [
       "array([' <=50K', ' >50K'], dtype=object)"
      ]
     },
     "execution_count": 5,
     "metadata": {},
     "output_type": "execute_result"
    }
   ],
   "source": []
  },
  {
   "cell_type": "code",
   "execution_count": 6,
   "metadata": {
    "collapsed": true
   },
   "outputs": [],
   "source": []
  },
  {
   "cell_type": "code",
   "execution_count": 7,
   "metadata": {
    "collapsed": true
   },
   "outputs": [],
   "source": []
  },
  {
   "cell_type": "markdown",
   "metadata": {},
   "source": [
    "## Train Test Split\n",
    "**Teile die Daten in Trainings- und Testset auf.**"
   ]
  },
  {
   "cell_type": "code",
   "execution_count": 8,
   "metadata": {
    "collapsed": true
   },
   "outputs": [],
   "source": []
  },
  {
   "cell_type": "code",
   "execution_count": 9,
   "metadata": {
    "collapsed": true
   },
   "outputs": [],
   "source": []
  },
  {
   "cell_type": "markdown",
   "metadata": {
    "collapsed": true
   },
   "source": [
    "## Feature Spalte für tf.estimator\n",
    "**Erstelle eine Feature-Spalte für Tensorflow.**\n",
    "*Hinweis: Achte auf kategorische und kontinuierliche Werte.*"
   ]
  },
  {
   "cell_type": "code",
   "execution_count": 10,
   "metadata": {},
   "outputs": [
    {
     "data": {
      "text/plain": [
       "Index(['age', 'workclass', 'education', 'education_num', 'marital_status',\n",
       "       'occupation', 'relationship', 'race', 'gender', 'capital_gain',\n",
       "       'capital_loss', 'hours_per_week', 'native_country', 'income_bracket'],\n",
       "      dtype='object')"
      ]
     },
     "execution_count": 10,
     "metadata": {},
     "output_type": "execute_result"
    }
   ],
   "source": []
  },
  {
   "cell_type": "markdown",
   "metadata": {},
   "source": [
    "**Importiere `tensorflow` als tf.**"
   ]
  },
  {
   "cell_type": "code",
   "execution_count": 11,
   "metadata": {
    "collapsed": true
   },
   "outputs": [],
   "source": []
  },
  {
   "cell_type": "markdown",
   "metadata": {},
   "source": [
    "**Erstelle die `tf.feature_column`s für die kategorischen Werte. Nutze \"vocabulary lists\" oder einfach \"hash buckets\".**"
   ]
  },
  {
   "cell_type": "code",
   "execution_count": 12,
   "metadata": {
    "collapsed": true
   },
   "outputs": [],
   "source": []
  },
  {
   "cell_type": "markdown",
   "metadata": {},
   "source": [
    "**Erstelle die kontinuierlichen Feature-Splaten für die kontinuierlichen Werte mit `numeric_column`.**"
   ]
  },
  {
   "cell_type": "code",
   "execution_count": 13,
   "metadata": {
    "collapsed": true
   },
   "outputs": [],
   "source": []
  },
  {
   "cell_type": "markdown",
   "metadata": {},
   "source": [
    "**Füge alle diese Variablen in eine einzige Liste mit dem Namen \"feat_cols\".**"
   ]
  },
  {
   "cell_type": "code",
   "execution_count": 14,
   "metadata": {
    "collapsed": true
   },
   "outputs": [],
   "source": []
  },
  {
   "cell_type": "markdown",
   "metadata": {},
   "source": [
    "## Input Funktion erstellen\n",
    "**Erstelle eine Input Funktion. die `batch_size` ist dir überlassen.**"
   ]
  },
  {
   "cell_type": "code",
   "execution_count": 15,
   "metadata": {
    "collapsed": true
   },
   "outputs": [],
   "source": []
  },
  {
   "cell_type": "markdown",
   "metadata": {},
   "source": [
    "**Erstelle dein Modell mit `tf.estimator`. Verwende einen `LinearClassifier`.**"
   ]
  },
  {
   "cell_type": "code",
   "execution_count": 16,
   "metadata": {},
   "outputs": [
    {
     "name": "stdout",
     "output_type": "stream",
     "text": [
      "INFO:tensorflow:Using default config.\n",
      "WARNING:tensorflow:Using temporary folder as model directory: /var/folders/k5/7wr8brn12mncybzndxyl31zr0000gq/T/tmp3bheai6v\n",
      "INFO:tensorflow:Using config: {'_model_dir': '/var/folders/k5/7wr8brn12mncybzndxyl31zr0000gq/T/tmp3bheai6v', '_tf_random_seed': None, '_save_summary_steps': 100, '_save_checkpoints_steps': None, '_save_checkpoints_secs': 600, '_session_config': None, '_keep_checkpoint_max': 5, '_keep_checkpoint_every_n_hours': 10000, '_log_step_count_steps': 100, '_service': None, '_cluster_spec': <tensorflow.python.training.server_lib.ClusterSpec object at 0x117209e80>, '_task_type': 'worker', '_task_id': 0, '_global_id_in_cluster': 0, '_master': '', '_evaluation_master': '', '_is_chief': True, '_num_ps_replicas': 0, '_num_worker_replicas': 1}\n"
     ]
    }
   ],
   "source": []
  },
  {
   "cell_type": "markdown",
   "metadata": {},
   "source": [
    "**Trainiere dein Modell auf den Daten. Führe mindestens 5000 Schritte durch.**"
   ]
  },
  {
   "cell_type": "code",
   "execution_count": 17,
   "metadata": {},
   "outputs": [
    {
     "name": "stdout",
     "output_type": "stream",
     "text": [
      "INFO:tensorflow:Calling model_fn.\n",
      "INFO:tensorflow:Done calling model_fn.\n",
      "INFO:tensorflow:Create CheckpointSaverHook.\n",
      "INFO:tensorflow:Graph was finalized.\n",
      "INFO:tensorflow:Running local_init_op.\n",
      "INFO:tensorflow:Done running local_init_op.\n",
      "INFO:tensorflow:Saving checkpoints for 1 into /var/folders/k5/7wr8brn12mncybzndxyl31zr0000gq/T/tmp3bheai6v/model.ckpt.\n",
      "INFO:tensorflow:loss = 69.31472, step = 1\n",
      "INFO:tensorflow:global_step/sec: 169.719\n",
      "INFO:tensorflow:loss = 314.39676, step = 101 (0.590 sec)\n",
      "INFO:tensorflow:global_step/sec: 253.894\n",
      "INFO:tensorflow:loss = 344.06003, step = 201 (0.395 sec)\n",
      "INFO:tensorflow:global_step/sec: 230.489\n",
      "INFO:tensorflow:loss = 56.108147, step = 301 (0.432 sec)\n",
      "INFO:tensorflow:global_step/sec: 327.155\n",
      "INFO:tensorflow:loss = 113.558014, step = 401 (0.306 sec)\n",
      "INFO:tensorflow:global_step/sec: 251.431\n",
      "INFO:tensorflow:loss = 36.221447, step = 501 (0.399 sec)\n",
      "INFO:tensorflow:global_step/sec: 310.115\n",
      "INFO:tensorflow:loss = 49.42113, step = 601 (0.322 sec)\n",
      "INFO:tensorflow:global_step/sec: 316.814\n",
      "INFO:tensorflow:loss = 30.770102, step = 701 (0.316 sec)\n",
      "INFO:tensorflow:global_step/sec: 323.892\n",
      "INFO:tensorflow:loss = 172.43262, step = 801 (0.309 sec)\n",
      "INFO:tensorflow:global_step/sec: 339.413\n",
      "INFO:tensorflow:loss = 42.30118, step = 901 (0.293 sec)\n",
      "INFO:tensorflow:global_step/sec: 265.491\n",
      "INFO:tensorflow:loss = 1203.0775, step = 1001 (0.377 sec)\n",
      "INFO:tensorflow:global_step/sec: 317.924\n",
      "INFO:tensorflow:loss = 38.957047, step = 1101 (0.314 sec)\n",
      "INFO:tensorflow:global_step/sec: 251.865\n",
      "INFO:tensorflow:loss = 49.322628, step = 1201 (0.397 sec)\n",
      "INFO:tensorflow:global_step/sec: 270.795\n",
      "INFO:tensorflow:loss = 128.44623, step = 1301 (0.370 sec)\n",
      "INFO:tensorflow:global_step/sec: 287.08\n",
      "INFO:tensorflow:loss = 236.56526, step = 1401 (0.347 sec)\n",
      "INFO:tensorflow:global_step/sec: 280.621\n",
      "INFO:tensorflow:loss = 45.623, step = 1501 (0.357 sec)\n",
      "INFO:tensorflow:global_step/sec: 312.321\n",
      "INFO:tensorflow:loss = 39.69956, step = 1601 (0.320 sec)\n",
      "INFO:tensorflow:global_step/sec: 277.645\n",
      "INFO:tensorflow:loss = 48.787594, step = 1701 (0.360 sec)\n",
      "INFO:tensorflow:global_step/sec: 326.622\n",
      "INFO:tensorflow:loss = 116.67827, step = 1801 (0.307 sec)\n",
      "INFO:tensorflow:global_step/sec: 298.07\n",
      "INFO:tensorflow:loss = 32.682884, step = 1901 (0.334 sec)\n",
      "INFO:tensorflow:global_step/sec: 296.557\n",
      "INFO:tensorflow:loss = 182.09085, step = 2001 (0.339 sec)\n",
      "INFO:tensorflow:global_step/sec: 279.524\n",
      "INFO:tensorflow:loss = 92.99728, step = 2101 (0.359 sec)\n",
      "INFO:tensorflow:global_step/sec: 336.65\n",
      "INFO:tensorflow:loss = 55.99994, step = 2201 (0.296 sec)\n",
      "INFO:tensorflow:global_step/sec: 332.262\n",
      "INFO:tensorflow:loss = 44.604443, step = 2301 (0.302 sec)\n",
      "INFO:tensorflow:global_step/sec: 271.909\n",
      "INFO:tensorflow:loss = 107.09955, step = 2401 (0.365 sec)\n",
      "INFO:tensorflow:global_step/sec: 337.207\n",
      "INFO:tensorflow:loss = 214.14821, step = 2501 (0.296 sec)\n",
      "INFO:tensorflow:global_step/sec: 284.631\n",
      "INFO:tensorflow:loss = 22.927149, step = 2601 (0.354 sec)\n",
      "INFO:tensorflow:global_step/sec: 276.466\n",
      "INFO:tensorflow:loss = 47.913895, step = 2701 (0.359 sec)\n",
      "INFO:tensorflow:global_step/sec: 273.081\n",
      "INFO:tensorflow:loss = 63.680508, step = 2801 (0.367 sec)\n",
      "INFO:tensorflow:global_step/sec: 327.011\n",
      "INFO:tensorflow:loss = 131.2839, step = 2901 (0.304 sec)\n",
      "INFO:tensorflow:global_step/sec: 292.896\n",
      "INFO:tensorflow:loss = 159.50876, step = 3001 (0.344 sec)\n",
      "INFO:tensorflow:global_step/sec: 344.305\n",
      "INFO:tensorflow:loss = 105.73378, step = 3101 (0.290 sec)\n",
      "INFO:tensorflow:global_step/sec: 353.344\n",
      "INFO:tensorflow:loss = 149.75864, step = 3201 (0.283 sec)\n",
      "INFO:tensorflow:global_step/sec: 308.362\n",
      "INFO:tensorflow:loss = 29.463291, step = 3301 (0.322 sec)\n",
      "INFO:tensorflow:global_step/sec: 343.225\n",
      "INFO:tensorflow:loss = 34.54476, step = 3401 (0.291 sec)\n",
      "INFO:tensorflow:global_step/sec: 265.481\n",
      "INFO:tensorflow:loss = 34.37884, step = 3501 (0.381 sec)\n",
      "INFO:tensorflow:global_step/sec: 309.389\n",
      "INFO:tensorflow:loss = 44.479492, step = 3601 (0.321 sec)\n",
      "INFO:tensorflow:global_step/sec: 309.551\n",
      "INFO:tensorflow:loss = 40.707973, step = 3701 (0.325 sec)\n",
      "INFO:tensorflow:global_step/sec: 286.799\n",
      "INFO:tensorflow:loss = 31.667791, step = 3801 (0.347 sec)\n",
      "INFO:tensorflow:global_step/sec: 295.678\n",
      "INFO:tensorflow:loss = 129.78244, step = 3901 (0.340 sec)\n",
      "INFO:tensorflow:global_step/sec: 282.838\n",
      "INFO:tensorflow:loss = 32.987465, step = 4001 (0.351 sec)\n",
      "INFO:tensorflow:global_step/sec: 312.44\n",
      "INFO:tensorflow:loss = 35.861553, step = 4101 (0.320 sec)\n",
      "INFO:tensorflow:global_step/sec: 243.569\n",
      "INFO:tensorflow:loss = 42.581047, step = 4201 (0.410 sec)\n",
      "INFO:tensorflow:global_step/sec: 287.852\n",
      "INFO:tensorflow:loss = 65.27334, step = 4301 (0.348 sec)\n",
      "INFO:tensorflow:global_step/sec: 293.865\n",
      "INFO:tensorflow:loss = 37.643974, step = 4401 (0.340 sec)\n",
      "INFO:tensorflow:global_step/sec: 334.534\n",
      "INFO:tensorflow:loss = 23.674864, step = 4501 (0.300 sec)\n",
      "INFO:tensorflow:global_step/sec: 338.368\n",
      "INFO:tensorflow:loss = 64.15332, step = 4601 (0.294 sec)\n",
      "INFO:tensorflow:global_step/sec: 281.911\n",
      "INFO:tensorflow:loss = 42.69813, step = 4701 (0.356 sec)\n",
      "INFO:tensorflow:global_step/sec: 317.65\n",
      "INFO:tensorflow:loss = 70.125, step = 4801 (0.314 sec)\n",
      "INFO:tensorflow:global_step/sec: 295.479\n",
      "INFO:tensorflow:loss = 34.1633, step = 4901 (0.339 sec)\n",
      "INFO:tensorflow:Saving checkpoints for 5000 into /var/folders/k5/7wr8brn12mncybzndxyl31zr0000gq/T/tmp3bheai6v/model.ckpt.\n",
      "INFO:tensorflow:Loss for final step: 36.497356.\n"
     ]
    },
    {
     "data": {
      "text/plain": [
       "<tensorflow.python.estimator.canned.linear.LinearClassifier at 0x117e56358>"
      ]
     },
     "execution_count": 17,
     "metadata": {},
     "output_type": "execute_result"
    }
   ],
   "source": []
  },
  {
   "cell_type": "markdown",
   "metadata": {},
   "source": [
    "## Auswertung\n",
    "\n",
    "**Erstelle eine Vorhersagefunktion. Bedenke dabei nur X_test daten zu verwenden und setze `shuffle=False`.**"
   ]
  },
  {
   "cell_type": "code",
   "execution_count": 18,
   "metadata": {
    "collapsed": true
   },
   "outputs": [],
   "source": []
  },
  {
   "cell_type": "markdown",
   "metadata": {},
   "source": [
    "**Nutze `model.predict()` und übergib die Inputfunktion. Dieser Vorgang wird einen Generator von Vorhersagen erstellen. Diesen kannst du in eine Liste umwandeln, indem du `list()` verwendest.**"
   ]
  },
  {
   "cell_type": "code",
   "execution_count": 19,
   "metadata": {},
   "outputs": [
    {
     "name": "stdout",
     "output_type": "stream",
     "text": [
      "INFO:tensorflow:Calling model_fn.\n",
      "INFO:tensorflow:Done calling model_fn.\n",
      "INFO:tensorflow:Graph was finalized.\n",
      "INFO:tensorflow:Restoring parameters from /var/folders/k5/7wr8brn12mncybzndxyl31zr0000gq/T/tmp3bheai6v/model.ckpt-5000\n",
      "INFO:tensorflow:Running local_init_op.\n",
      "INFO:tensorflow:Done running local_init_op.\n"
     ]
    }
   ],
   "source": []
  },
  {
   "cell_type": "markdown",
   "metadata": {},
   "source": [
    "Jeder Eintrag deiner Liste wird wie folgt aussehen:"
   ]
  },
  {
   "cell_type": "code",
   "execution_count": 20,
   "metadata": {},
   "outputs": [
    {
     "data": {
      "text/plain": [
       "{'class_ids': array([0]),\n",
       " 'classes': array([b'0'], dtype=object),\n",
       " 'logistic': array([0.2914164], dtype=float32),\n",
       " 'logits': array([-0.8885148], dtype=float32),\n",
       " 'probabilities': array([0.7085836, 0.2914164], dtype=float32)}"
      ]
     },
     "execution_count": 20,
     "metadata": {},
     "output_type": "execute_result"
    }
   ],
   "source": []
  },
  {
   "cell_type": "markdown",
   "metadata": {},
   "source": [
    "**Erstelle eine Liste, die nur die \"class_ids\" Key-Values aus der Liste der Dictionaries beinhaltet. Dies sind die Werte, die wir mit den echten Werten aus y_test vergleichen können.**"
   ]
  },
  {
   "cell_type": "code",
   "execution_count": 21,
   "metadata": {
    "collapsed": true
   },
   "outputs": [],
   "source": []
  },
  {
   "cell_type": "code",
   "execution_count": 22,
   "metadata": {},
   "outputs": [
    {
     "data": {
      "text/plain": [
       "[0, 0, 0, 0, 1, 0, 0, 0, 0, 0]"
      ]
     },
     "execution_count": 22,
     "metadata": {},
     "output_type": "execute_result"
    }
   ],
   "source": []
  },
  {
   "cell_type": "markdown",
   "metadata": {},
   "source": [
    "**Importiere den `classification_report` aus `sklearn.metrics`. Finde dann heraus, wie du den Classification Report verwenden kannst, um schnell eine Zusammenfassung deiner Modell Performance zu erhalten.**"
   ]
  },
  {
   "cell_type": "code",
   "execution_count": 23,
   "metadata": {
    "collapsed": true
   },
   "outputs": [],
   "source": []
  },
  {
   "cell_type": "code",
   "execution_count": 24,
   "metadata": {},
   "outputs": [
    {
     "name": "stdout",
     "output_type": "stream",
     "text": [
      "             precision    recall  f1-score   support\n",
      "\n",
      "          0       0.90      0.89      0.90      7436\n",
      "          1       0.67      0.67      0.67      2333\n",
      "\n",
      "avg / total       0.84      0.84      0.84      9769\n",
      "\n"
     ]
    }
   ],
   "source": []
  },
  {
   "cell_type": "markdown",
   "metadata": {},
   "source": [
    "# Gut gemacht!"
   ]
  }
 ],
 "metadata": {
  "kernelspec": {
   "display_name": "Python 3",
   "language": "python",
   "name": "python3"
  },
  "language_info": {
   "codemirror_mode": {
    "name": "ipython",
    "version": 3
   },
   "file_extension": ".py",
   "mimetype": "text/x-python",
   "name": "python",
   "nbconvert_exporter": "python",
   "pygments_lexer": "ipython3",
   "version": "3.5.4"
  }
 },
 "nbformat": 4,
 "nbformat_minor": 2
}
