{
 "cells": [
  {
   "cell_type": "markdown",
   "metadata": {},
   "source": [
    "# Beschreibung\n",
    "\n",
    "Diese Notebook ist die Mitschrift aus dem [video](https://www.udemy.com/course/deep-learning-tensorflow/learn/lecture/10234834#questions/9871724)\n",
    "<br><br><br>\n",
    "In diesem Bsp setzen wir nun folgendes Bsp um\n",
    "![Bsp MatrixMultiplikaiton](./imgs/exgraph.png)\n",
    "\n",
    "dazu erstellen wir die tensoren, die Operationen und zuletzt den Graphen und führen dieses dann in einer session um.\n",
    "\n",
    "Die Begrifflichkeiten zu Tensorflow erkläre ich [hier in meinem TF-Wiki](https://github.com/JHC90/Basic-DataScience-Skills/wiki/NN_TF_0_Landing-Page).\n",
    "\n",
    "Die Begrifflichkeiten zu Neuronalen-Netzen erkläre ich [hier in meinem NN-Wiki](https://github.com/JHC90/Basic-DataScience-Skills/wiki/NN_LandingPage)."
   ]
  },
  {
   "cell_type": "code",
   "execution_count": 23,
   "metadata": {},
   "outputs": [],
   "source": [
    "import numpy as np\n",
    "import tensorflow as tf"
   ]
  },
  {
   "cell_type": "code",
   "execution_count": 24,
   "metadata": {},
   "outputs": [],
   "source": [
    "# Reproduzierbarkeit gewährleisten\n",
    "np.random.seed(101)\n",
    "tf.set_random_seed(101)\n",
    "rand_a = np.random.uniform(0,100,(5,5)) # für die Gleiche Darstellung(gleiche Zahlen)  wie im Video\n",
    "rand_b = np.random.uniform(0,100,(5,1)) # für die Gleiche Darstellung(gleiche Zahlen)  wie im Video"
   ]
  },
  {
   "cell_type": "code",
   "execution_count": 28,
   "metadata": {},
   "outputs": [
    {
     "name": "stdout",
     "output_type": "stream",
     "text": [
      "[[51.63986277 57.06675869  2.84742265 17.15216562 68.52769817]\n",
      " [83.38968626 30.69662197 89.36130797 72.15438618 18.99389542]\n",
      " [55.42275911 35.2131954  18.18924027 78.56017619 96.54832224]\n",
      " [23.23536618  8.35614337 60.35484223 72.89927573 27.62388285]\n",
      " [68.53063288 51.78674742  4.84845374 13.78692376 18.69674261]]\n",
      "\n",
      "[[99.43179012]\n",
      " [52.06653967]\n",
      " [57.87895355]\n",
      " [73.48190583]\n",
      " [54.19617722]]\n"
     ]
    }
   ],
   "source": [
    "# Example Date\n",
    "print(rand_a)\n",
    "print()\n",
    "print(rand_b)"
   ]
  },
  {
   "cell_type": "code",
   "execution_count": 21,
   "metadata": {},
   "outputs": [],
   "source": [
    "# Platzhalter\n",
    "a = tf.placeholder(tf.float32)\n",
    "b = tf.placeholder(tf.float32)"
   ]
  },
  {
   "cell_type": "code",
   "execution_count": 22,
   "metadata": {},
   "outputs": [],
   "source": [
    "# Anlgegen Operatoren\n",
    "add_op = a + b # Egal ob einzelne werte oder Matitzen\n",
    "mult_op = a * b"
   ]
  },
  {
   "cell_type": "code",
   "execution_count": 31,
   "metadata": {},
   "outputs": [
    {
     "name": "stdout",
     "output_type": "stream",
     "text": [
      "[[151.07166  156.49855  102.27921  116.58396  167.95949 ]\n",
      " [135.45622   82.76316  141.42784  124.22093   71.06043 ]\n",
      " [113.30171   93.09215   76.06819  136.43912  154.42728 ]\n",
      " [ 96.71727   81.83804  133.83675  146.38118  101.10579 ]\n",
      " [122.72681  105.982925  59.044632  67.9831    72.89292 ]]\n",
      "\n",
      "\n",
      "[[5134.644   5674.25     283.12433 1705.4707  6813.8315 ]\n",
      " [4341.8125  1598.267   4652.734   3756.8293   988.94635]\n",
      " [3207.8113  2038.1029  1052.7742  4546.9805  5588.1157 ]\n",
      " [1707.379    614.02527 4434.989   5356.7773  2029.8555 ]\n",
      " [3714.0984  2806.6438   262.76764  747.19855 1013.292  ]]\n"
     ]
    }
   ],
   "source": [
    "# session aufzurufen mit den Placeholdern, die Platzhalter(a & b) werden mit Feed-Dic geliefert. Dieses Dic liefer ich hier direkt mit\n",
    "# Sprich mit dem Feed-Dict kommen nun die Tatsähclichen Werte = Ausprägungen ins Modell\n",
    "with tf.Session() as sess:\n",
    "    #add_result = sess.run(add_op, feed_dict={a:10, b:20})\n",
    "    add_result = sess.run(add_op, feed_dict={a:rand_a, b:rand_b})\n",
    "    print(add_result)\n",
    "    print('\\n')\n",
    "    mult_result = sess.run(mult_op, feed_dict={a:rand_a, b:rand_b})\n",
    "    print(mult_result)"
   ]
  },
  {
   "cell_type": "markdown",
   "metadata": {},
   "source": [
    "# Video 2\n",
    "ab hier ist das [Folge-Video](https://www.udemy.com/course/deep-learning-tensorflow/learn/lecture/10234838#questions/9871724)\n",
    "\n",
    "**Recall**\n",
    "Wir verfolgen nach wie vor das BSP:\n",
    "![Bsp MatrixMultiplikaiton](./imgs/exgraph.png)\n"
   ]
  },
  {
   "cell_type": "markdown",
   "metadata": {},
   "source": [
    "Wir haben bereits die :\n",
    "* Operationen \n",
    "* Input-Variabeln\n",
    "* Platzhalter\n",
    "\n",
    "Es fehlt noch :\n",
    "* Start-Gewichte = Ranodm \n",
    "* bias"
   ]
  },
  {
   "cell_type": "code",
   "execution_count": 37,
   "metadata": {},
   "outputs": [],
   "source": [
    "n_features = 10 # Anzahl inputfeater\n",
    "n_dense_neurons = 3 # = 1 Layer mit 3 dense Neuronen"
   ]
  },
  {
   "cell_type": "code",
   "execution_count": 38,
   "metadata": {},
   "outputs": [],
   "source": [
    "# placeholder für x <= das sind die Input-Daten...wir wissen nicht wieivile Zeilen => none, \n",
    "# wir wissen aber das 10 feature kommen\n",
    "x = tf.placeholder(tf.float32,(None, n_features))"
   ]
  },
  {
   "cell_type": "code",
   "execution_count": 39,
   "metadata": {},
   "outputs": [],
   "source": [
    "W = tf.Variable(tf.random_normal([n_features, n_dense_neurons])) # Definition Gewichte für initialen Random-Wert \n",
    "                "
   ]
  },
  {
   "cell_type": "code",
   "execution_count": 40,
   "metadata": {},
   "outputs": [],
   "source": [
    "# Definition Bias\n",
    "b = tf.Variable(tf.ones(n_dense_neurons))   "
   ]
  },
  {
   "cell_type": "code",
   "execution_count": 41,
   "metadata": {},
   "outputs": [
    {
     "data": {
      "text/plain": [
       "'\\n Definition Activation FUnktion\\nwir wollen erst die Multi, dann die Addition und zuletze die Actionation durchführen\\n'"
      ]
     },
     "execution_count": 41,
     "metadata": {},
     "output_type": "execute_result"
    }
   ],
   "source": [
    "'''\n",
    " Definition Activation FUnktion\n",
    "wir wollen erst die Multi, dann die Addition und zuletze die Actionation durchführen\n",
    "'''"
   ]
  },
  {
   "cell_type": "code",
   "execution_count": 47,
   "metadata": {},
   "outputs": [],
   "source": [
    "xW = tf.matmul(x,W) # Placholder mit gewichten\n",
    "z = tf.add(xW,b) # ie z-Operationen ist jene die wir in die Activation Fct übergeben || hier kommt der Bias ins System"
   ]
  },
  {
   "cell_type": "code",
   "execution_count": 48,
   "metadata": {},
   "outputs": [],
   "source": [
    "# a = das was das NN vorhersagt\n",
    "a = tf.sigmoid(z) # <= alle Ergebnisse zwischen 0 &1"
   ]
  },
  {
   "cell_type": "code",
   "execution_count": 49,
   "metadata": {},
   "outputs": [
    {
     "data": {
      "text/plain": [
       "<tf.Operation 'init_2' type=NoOp>"
      ]
     },
     "execution_count": 49,
     "metadata": {},
     "output_type": "execute_result"
    }
   ],
   "source": [
    "init = tf.global_variables_initializer()\n"
   ]
  },
  {
   "cell_type": "code",
   "execution_count": 52,
   "metadata": {},
   "outputs": [],
   "source": [
    "with tf.Session() as sess:\n",
    "    sess.run(init)\n",
    "    layer_out = sess.run(a, feed_dict={x: np.random.random([1,n_features])})"
   ]
  },
  {
   "cell_type": "code",
   "execution_count": 53,
   "metadata": {},
   "outputs": [
    {
     "name": "stdout",
     "output_type": "stream",
     "text": [
      "[[0.5023417  0.23594801 0.7215371 ]]\n"
     ]
    }
   ],
   "source": [
    "print(layer_out)"
   ]
  },
  {
   "cell_type": "markdown",
   "metadata": {},
   "source": [
    "[Video3](https://www.udemy.com/course/deep-learning-tensorflow/learn/lecture/10654466#questions/9871724)"
   ]
  },
  {
   "cell_type": "code",
   "execution_count": 58,
   "metadata": {},
   "outputs": [],
   "source": [
    "import matplotlib.pyplot as plt\n",
    "%matplotlib inline"
   ]
  },
  {
   "cell_type": "code",
   "execution_count": 61,
   "metadata": {},
   "outputs": [
    {
     "data": {
      "text/plain": [
       "array([0.5420333 , 1.17575569, 0.85241231, 2.50514314, 4.67005971,\n",
       "       4.41685654, 6.66701681, 6.69180648, 7.54731409, 9.03483077])"
      ]
     },
     "execution_count": 61,
     "metadata": {},
     "output_type": "execute_result"
    }
   ],
   "source": [
    "x_data = np.linspace(0,10,10) +np.random.uniform(-1.5,1.5,10)\n",
    "x_data"
   ]
  },
  {
   "cell_type": "code",
   "execution_count": 62,
   "metadata": {},
   "outputs": [
    {
     "data": {
      "text/plain": [
       "array([-0.17289561,  2.24387308,  3.57001461,  3.26783558,  4.32780247,\n",
       "        5.96742265,  6.14049066,  6.63051206,  7.54219188, 10.41297596])"
      ]
     },
     "execution_count": 62,
     "metadata": {},
     "output_type": "execute_result"
    }
   ],
   "source": [
    "y_label =  np.linspace(0,10,10) +np.random.uniform(-1.5,1.5,10)\n"
   ]
  },
  {
   "cell_type": "code",
   "execution_count": 65,
   "metadata": {},
   "outputs": [
    {
     "data": {
      "text/plain": [
       "[<matplotlib.lines.Line2D at 0x1921fec1bc8>]"
      ]
     },
     "execution_count": 65,
     "metadata": {},
     "output_type": "execute_result"
    },
    {
     "data": {
      "image/png": "[encoded data removed]",
      "text/plain": [
       "<Figure size 432x288 with 1 Axes>"
      ]
     },
     "metadata": {
      "needs_background": "light"
     },
     "output_type": "display_data"
    }
   ],
   "source": [
    "plt.plot(x_data, y_label, '*')"
   ]
  },
  {
   "cell_type": "markdown",
   "metadata": {},
   "source": [
    "**Ziel des NN**<br>\n",
    "Allgemeine Form des linearen Gleichung => **mx+t = y** => wir haben x, und y\n",
    "\n",
    "Sprich durch das NN versuchen wir die Parameter der Steigung und des intercepts heruaszufinden"
   ]
  },
  {
   "cell_type": "code",
   "execution_count": 74,
   "metadata": {},
   "outputs": [
    {
     "data": {
      "text/plain": [
       "array([0.42456894, 0.65659534])"
      ]
     },
     "execution_count": 74,
     "metadata": {},
     "output_type": "execute_result"
    }
   ],
   "source": [
    "# Gewichte initialisieren\n",
    "np.random.rand(2)"
   ]
  },
  {
   "cell_type": "code",
   "execution_count": 75,
   "metadata": {},
   "outputs": [],
   "source": [
    "m = tf.Variable(0.67)\n",
    "t = tf.Variable(0.65)"
   ]
  },
  {
   "cell_type": "code",
   "execution_count": 76,
   "metadata": {},
   "outputs": [],
   "source": [
    "error = 0"
   ]
  },
  {
   "cell_type": "code",
   "execution_count": 86,
   "metadata": {},
   "outputs": [],
   "source": [
    "for x,y in zip(x_data, y_label):\n",
    "    y_hat = m * x + t\n",
    "    error += (y-y_hat) ** 2"
   ]
  },
  {
   "cell_type": "code",
   "execution_count": 87,
   "metadata": {},
   "outputs": [],
   "source": [
    "optimizer = tf.train.GradientDescentOptimizer(learning_rate=0.001)"
   ]
  },
  {
   "cell_type": "code",
   "execution_count": 88,
   "metadata": {},
   "outputs": [],
   "source": [
    "train = optimizer.minimize(error)"
   ]
  },
  {
   "cell_type": "code",
   "execution_count": 89,
   "metadata": {},
   "outputs": [],
   "source": [
    "init = tf.global_variables_initializer()"
   ]
  },
  {
   "cell_type": "code",
   "execution_count": 97,
   "metadata": {},
   "outputs": [],
   "source": [
    "with tf.Session() as sess:\n",
    "    sess.run(init)\n",
    "    epochs = 100\n",
    "    \n",
    "    for i in range(epochs):\n",
    "        sess.run(train)\n",
    "        \n",
    "    final_slope, final_intercept = sess.run([m,t])"
   ]
  },
  {
   "cell_type": "code",
   "execution_count": 98,
   "metadata": {},
   "outputs": [
    {
     "name": "stdout",
     "output_type": "stream",
     "text": [
      "0.99740046\n",
      "0.7055242\n"
     ]
    }
   ],
   "source": [
    "print(final_slope)\n",
    "print(final_intercept)"
   ]
  },
  {
   "cell_type": "code",
   "execution_count": 99,
   "metadata": {},
   "outputs": [],
   "source": [
    "x_test = np.linspace(-1,11,10)"
   ]
  },
  {
   "cell_type": "code",
   "execution_count": 100,
   "metadata": {},
   "outputs": [],
   "source": [
    "y_pred_plot = final_slope * x_test + final_intercept"
   ]
  },
  {
   "cell_type": "code",
   "execution_count": 108,
   "metadata": {},
   "outputs": [
    {
     "data": {
      "text/plain": [
       "[<matplotlib.lines.Line2D at 0x1922669da08>]"
      ]
     },
     "execution_count": 108,
     "metadata": {},
     "output_type": "execute_result"
    },
    {
     "data": {
      "image/png": "[encoded data removed]",
      "text/plain": [
       "<Figure size 432x288 with 1 Axes>"
      ]
     },
     "metadata": {
      "needs_background": "light"
     },
     "output_type": "display_data"
    }
   ],
   "source": [
    "plt.plot(x_test, y_pred_plot, 'r')\n",
    "plt.plot(x_data, y_label, '*')"
   ]
  },
  {
   "cell_type": "markdown",
   "metadata": {},
   "source": [
    "**Zusammenfassung**<br>\n",
    "hier habe ich die Hyper-Paramter für das Modell mit dem Modell geschätzt. im nächsten schritt hau ich mal ein \"Standard-OLS-Modell dazu\""
   ]
  },
  {
   "cell_type": "code",
   "execution_count": 109,
   "metadata": {},
   "outputs": [],
   "source": [
    "from sklearn.linear_model import LinearRegression"
   ]
  },
  {
   "cell_type": "code",
   "execution_count": 110,
   "metadata": {},
   "outputs": [],
   "source": [
    "lm = LinearRegression()"
   ]
  },
  {
   "cell_type": "code",
   "execution_count": 118,
   "metadata": {},
   "outputs": [
    {
     "name": "stdout",
     "output_type": "stream",
     "text": [
      "(10,)\n",
      "<class 'numpy.ndarray'>\n",
      "(10,)\n",
      "<class 'numpy.ndarray'>\n"
     ]
    }
   ],
   "source": [
    "import pandas as pd\n",
    "print(x_data.shape)\n",
    "print(type(x_data))\n",
    "print(y_label.shape)\n",
    "print(type(y_label))"
   ]
  },
  {
   "cell_type": "code",
   "execution_count": 121,
   "metadata": {},
   "outputs": [
    {
     "name": "stdout",
     "output_type": "stream",
     "text": [
      "(10, 1)\n",
      "<class 'pandas.core.frame.DataFrame'>\n",
      "(10, 1)\n",
      "<class 'pandas.core.frame.DataFrame'>\n"
     ]
    }
   ],
   "source": [
    "x_data =  pd.DataFrame(x_data)\n",
    "print(x_data.shape)\n",
    "print(type(x_data))\n",
    "\n",
    "y_label =  pd.DataFrame(y_label)\n",
    "print(x_data.shape)\n",
    "print(type(x_data))"
   ]
  },
  {
   "cell_type": "code",
   "execution_count": 122,
   "metadata": {},
   "outputs": [
    {
     "data": {
      "text/plain": [
       "LinearRegression(copy_X=True, fit_intercept=True, n_jobs=None, normalize=False)"
      ]
     },
     "execution_count": 122,
     "metadata": {},
     "output_type": "execute_result"
    }
   ],
   "source": [
    "lm.fit(x_data,y_label)"
   ]
  },
  {
   "cell_type": "code",
   "execution_count": 123,
   "metadata": {},
   "outputs": [
    {
     "name": "stdout",
     "output_type": "stream",
     "text": [
      "[0.94592851]\n",
      "[[0.91764116]]\n"
     ]
    }
   ],
   "source": [
    " # Achsenabschnitt ausgeben\n",
    "print(lm.intercept_)\n",
    "print(lm.coef_)"
   ]
  },
  {
   "cell_type": "code",
   "execution_count": 160,
   "metadata": {},
   "outputs": [],
   "source": [
    "y_pred_plot_ols = lm.coef_ * x_test + lm.intercept_"
   ]
  },
  {
   "cell_type": "code",
   "execution_count": 161,
   "metadata": {},
   "outputs": [],
   "source": [
    "y_pred_plot_ols = y_pred_plot_ols[0]"
   ]
  },
  {
   "cell_type": "code",
   "execution_count": 162,
   "metadata": {},
   "outputs": [
    {
     "data": {
      "text/plain": [
       "array([ 0.02828735,  1.2518089 ,  2.47533045,  3.698852  ,  4.92237355,\n",
       "        6.1458951 ,  7.36941666,  8.59293821,  9.81645976, 11.03998131])"
      ]
     },
     "execution_count": 162,
     "metadata": {},
     "output_type": "execute_result"
    }
   ],
   "source": [
    "y_pred_plot_ols\n"
   ]
  },
  {
   "cell_type": "code",
   "execution_count": 165,
   "metadata": {},
   "outputs": [
    {
     "data": {
      "text/plain": [
       "[<matplotlib.lines.Line2D at 0x192277abd88>]"
      ]
     },
     "execution_count": 165,
     "metadata": {},
     "output_type": "execute_result"
    },
    {
     "data": {
      "image/png": "[encoded data removed]",
      "text/plain": [
       "<Figure size 432x288 with 1 Axes>"
      ]
     },
     "metadata": {
      "needs_background": "light"
     },
     "output_type": "display_data"
    }
   ],
   "source": [
    "plt.plot(x_test, y_pred_plot_ols, 'r')\n",
    "plt.plot(x_test, y_pred_plot, 'g')\n",
    "plt.plot(x_data, y_label, '*')"
   ]
  },
  {
   "cell_type": "code",
   "execution_count": 136,
   "metadata": {},
   "outputs": [
    {
     "name": "stdout",
     "output_type": "stream",
     "text": [
      "[-0.29187626  1.03799103  2.36785831  3.69772559  5.02759288  6.35746016\n",
      "  7.68732744  9.01719473 10.34706201 11.6769293 ]\n",
      "[array([ 0.02828735,  1.2518089 ,  2.47533045,  3.698852  ,  4.92237355,\n",
      "        6.1458951 ,  7.36941666,  8.59293821,  9.81645976, 11.03998131])]\n"
     ]
    }
   ],
   "source": [
    "print((y_pred_plot))\n",
    "print((y_pred_plot_ols))"
   ]
  },
  {
   "cell_type": "code",
   "execution_count": 170,
   "metadata": {},
   "outputs": [
    {
     "name": "stdout",
     "output_type": "stream",
     "text": [
      "MAE: 0.9584616628888796\n",
      "MSE: 1.3720947260014502\n",
      "RMSE: 1.1713644718879987\n"
     ]
    }
   ],
   "source": [
    "# Vergleich an den MSE / RME /RMSE usw.\n",
    "from sklearn import metrics\n",
    "print('MAE:', metrics.mean_absolute_error(y_label, y_pred_plot_ols))\n",
    "print('MSE:', metrics.mean_squared_error(y_label, y_pred_plot_ols))\n",
    "print('RMSE:', np.sqrt(metrics.mean_squared_error(y_label, y_pred_plot_ols)))"
   ]
  },
  {
   "cell_type": "code",
   "execution_count": 171,
   "metadata": {},
   "outputs": [
    {
     "name": "stdout",
     "output_type": "stream",
     "text": [
      "MAE: 1.2049079866487626\n",
      "MSE: 2.1293961720445105\n",
      "RMSE: 1.4592450692205579\n"
     ]
    }
   ],
   "source": [
    "print('MAE:', metrics.mean_absolute_error(y_label, y_pred_plot))\n",
    "print('MSE:', metrics.mean_squared_error(y_label, y_pred_plot))\n",
    "print('RMSE:', np.sqrt(metrics.mean_squared_error(y_label, y_pred_plot)))"
   ]
  }
 ],
 "metadata": {
  "kernelspec": {
   "display_name": "Python 3",
   "language": "python",
   "name": "python3"
  },
  "language_info": {
   "codemirror_mode": {
    "name": "ipython",
    "version": 3
   },
   "file_extension": ".py",
   "mimetype": "text/x-python",
   "name": "python",
   "nbconvert_exporter": "python",
   "pygments_lexer": "ipython3",
   "version": "3.7.7"
  },
  "toc": {
   "base_numbering": 1,
   "nav_menu": {},
   "number_sections": true,
   "sideBar": true,
   "skip_h1_title": false,
   "title_cell": "Table of Contents",
   "title_sidebar": "Contents",
   "toc_cell": false,
   "toc_position": {},
   "toc_section_display": true,
   "toc_window_display": false
  }
 },
 "nbformat": 4,
 "nbformat_minor": 4
}
