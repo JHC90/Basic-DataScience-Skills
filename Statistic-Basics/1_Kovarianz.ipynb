{
 "cells": [
  {
   "cell_type": "markdown",
   "metadata": {},
   "source": [
    "# Kovarianz berechnen\n",
    "\n",
    "Populationskovarianz:<br>\n",
    "$$cov(X,Y) =\n",
    "  \\frac{1}{N}\\sum_{i=1}^{n}(x_i-\\bar{x})(y_i-\\bar{y})$$"
   ]
  },
  {
   "cell_type": "code",
   "execution_count": 44,
   "metadata": {},
   "outputs": [
    {
     "name": "stdout",
     "output_type": "stream",
     "text": [
      "   x  y\n",
      "0  1  4\n",
      "1  2  6\n",
      "2  3  5\n",
      "3  4  7\n",
      "4  5  9\n",
      "5  6  8\n"
     ]
    }
   ],
   "source": [
    "# Datensatz1\n",
    "import pandas as pd\n",
    "x = pd.DataFrame([1,2,3,4,5,6])\n",
    "y = pd.DataFrame([4,6,5,7,9,8])\n",
    "df = pd.concat([x, y], axis=1, sort=False)\n",
    "df.columns = ['x','y']\n",
    "print(df)"
   ]
  },
  {
   "cell_type": "code",
   "execution_count": 45,
   "metadata": {},
   "outputs": [],
   "source": [
    "## Mittelwert von x & Y\n",
    "xMean = df.x.mean()\n",
    "yMean = df.y.mean()"
   ]
  },
  {
   "cell_type": "markdown",
   "metadata": {},
   "source": [
    "## Manual Berechnung PopulationsKovarianz"
   ]
  },
  {
   "cell_type": "code",
   "execution_count": 46,
   "metadata": {},
   "outputs": [
    {
     "name": "stdout",
     "output_type": "stream",
     "text": [
      "0    6.25\n",
      "1    0.75\n",
      "2    0.75\n",
      "3    0.25\n",
      "4    3.75\n",
      "5    3.75\n",
      "dtype: float64\n",
      "2.5833333333333335\n"
     ]
    }
   ],
   "source": [
    "xMean = df.x.mean()\n",
    "yMean = df.y.mean()\n",
    "N = (len(x))\n",
    "xMinusXMean = df.x - xMean\n",
    "yMinusYMean = df.y - yMean\n",
    "xMinusXMeanTIMESyMinusYMean = xMinusXMean * yMinusYMean\n",
    "print(xMinusXMeanTIMESyMinusYMean)\n",
    "df['xMinusXMean'] = xMinusXMean\n",
    "df['yMinusYMean'] = yMinusYMean\n",
    "df['xMinusXMeanTIMESyMinusYMean'] = xMinusXMeanTIMESyMinusYMean\n",
    "sumXMinusXMeanTIMESyMinusYMean = sum(xMinusXMeanTIMESyMinusYMean)\n",
    "covXY = sumXMinusXMeanTIMESyMinusYMean/N\n",
    "print(covXY)"
   ]
  },
  {
   "cell_type": "markdown",
   "metadata": {},
   "source": [
    "## Zusammenfassung Kovarianz\n",
    "Wir haben nun zwar Zahlen die unterschiedliche Ausprägungen haben, jedoch hilft das wenig hinsichtlich des Vergelieches => dazu muss der Spass Vergelichbar gemacht werden => das passiert in der Korrelation(Pearson oder Spearmann).\n",
    "Ich sehe zwar dass die Variablen offensichtlich positiv zusammenhängen, aber niht wie stark. Das kann nur die Correlation aussagen"
   ]
  },
  {
   "cell_type": "markdown",
   "metadata": {},
   "source": [
    "## Pearson Korrealtion:\n",
    "$$\\rho _{x,y} =   \\frac{cov(X,Y)}{\\sigma_{x}\\sigma_{y}}$$"
   ]
  },
  {
   "cell_type": "code",
   "execution_count": 54,
   "metadata": {},
   "outputs": [
    {
     "name": "stdout",
     "output_type": "stream",
     "text": [
      "0.7380952380952381\n"
     ]
    }
   ],
   "source": [
    "sigmaX = df.x.std()\n",
    "sigmaY = df.y.std()\n",
    "P = (covXY/(sigmaX*sigmaY))\n",
    "print(P)"
   ]
  },
  {
   "cell_type": "markdown",
   "metadata": {},
   "source": [
    "## Übung Korrelation\n",
    "hier eine neue Aufgabenstellug"
   ]
  },
  {
   "cell_type": "code",
   "execution_count": 85,
   "metadata": {},
   "outputs": [
    {
     "name": "stdout",
     "output_type": "stream",
     "text": [
      "-0.9477669811314404\n"
     ]
    }
   ],
   "source": [
    "xPreis = np.array([10,11,15,19,22])\n",
    "ySales = np.array([55,57,49,48,39])\n",
    "P = stats.pearsonr(xPreis, ySales)[0]\n",
    "print(P)\n"
   ]
  },
  {
   "cell_type": "markdown",
   "metadata": {},
   "source": [
    "## Antwort Übung\n",
    "Der Preis ist mit -0.94 stark mit dem Sales Korrelierend"
   ]
  },
  {
   "cell_type": "code",
   "execution_count": null,
   "metadata": {},
   "outputs": [],
   "source": []
  }
 ],
 "metadata": {
  "kernelspec": {
   "display_name": "Python 3",
   "language": "python",
   "name": "python3"
  },
  "language_info": {
   "codemirror_mode": {
    "name": "ipython",
    "version": 3
   },
   "file_extension": ".py",
   "mimetype": "text/x-python",
   "name": "python",
   "nbconvert_exporter": "python",
   "pygments_lexer": "ipython3",
   "version": "3.6.9"
  },
  "toc": {
   "base_numbering": 1,
   "nav_menu": {},
   "number_sections": true,
   "sideBar": true,
   "skip_h1_title": false,
   "title_cell": "Table of Contents",
   "title_sidebar": "Contents",
   "toc_cell": false,
   "toc_position": {},
   "toc_section_display": true,
   "toc_window_display": false
  }
 },
 "nbformat": 4,
 "nbformat_minor": 2
}
