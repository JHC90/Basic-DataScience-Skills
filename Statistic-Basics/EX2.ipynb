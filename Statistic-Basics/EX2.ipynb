{
 "cells": [
  {
   "cell_type": "markdown",
   "metadata": {},
   "source": [
    "# Was ist Wahrscheinlichkeit?"
   ]
  },
  {
   "cell_type": "markdown",
   "metadata": {},
   "source": [
    "[Link](https://github.com/JHC90/Basic-DataScience-Skills/wiki/Statistics_Basics_000_WahrscheinlichkeitUndStatistik)"
   ]
  },
  {
   "cell_type": "markdown",
   "metadata": {},
   "source": [
    "Wahrscheinlichkeiten helfen uns dabei, zu wissen, wie sicher wir in unserer Annahme sein können. Die Wahrscheinlichkeit ist ein Wert zwischen 0 und 1, bei dem ein bestimmtes Ereignis eintritt."
   ]
  },
  {
   "cell_type": "markdown",
   "metadata": {},
   "source": [
    "# Wie hoch ist die Wahrscheinlichkeit, dass eine geworfene Münze auf Kopf fällt?"
   ]
  },
  {
   "cell_type": "markdown",
   "metadata": {},
   "source": [
    "E = 0,1 \n",
    "n = |2|\n",
    "=> 1/2 = 0.5"
   ]
  },
  {
   "cell_type": "markdown",
   "metadata": {},
   "source": [
    "# Wenn eine Münze vier Mal in Folge auf Zahl fällt, wie hoch ist dann die Wahrscheinlichkeit, dass sie beim fünften Wurf auf Kopf fällt?"
   ]
  },
  {
   "cell_type": "markdown",
   "metadata": {},
   "source": [
    "P = 0.5"
   ]
  },
  {
   "cell_type": "markdown",
   "metadata": {},
   "source": [
    "# In einem Mitarbeiterpool von 24 ist einer ein Wirtschaftsspion. Die Belegschaft ist in Teams aufgeteilt, mit vier Mitarbeitern pro Team. Wenn du eines dieser Teams zufällig auswählen würdest, wie groß ist die Wahrscheinlichkeit, dass das Team, das du ausgewählt hast, den Spion enthält?"
   ]
  },
  {
   "cell_type": "markdown",
   "metadata": {},
   "source": [
    "Fragestellung aus der [Kombintaorik](https://github.com/JHC90/Basic-DataScience-Skills/wiki/Statistics_Basics_006_Kombinationen)\n",
    "\n",
    "P(Spion) = 1/24+1/24+1/24+1/24 = 4/24 = 1/6\n",
    "\n"
   ]
  },
  {
   "cell_type": "markdown",
   "metadata": {},
   "source": [
    "# Schreib bitte alle möglichen dreistelligen Permutationen der Zahlen 7,8,9 auf und zeige dann mathematisch an, wie viele Permutationen es geben kann."
   ]
  },
  {
   "cell_type": "markdown",
   "metadata": {},
   "source": [
    "789,798, 879,897, 987,978"
   ]
  },
  {
   "cell_type": "markdown",
   "metadata": {},
   "source": [
    "# Als nächstes notiere bitte alle möglichen zweistelligen [Permutationen](https://github.com/JHC90/Basic-DataScience-Skills/wiki/Statistics_Basics_005_Permutation) der Zahlen 7, 8, 9 mit Wiederholung und zeigen dann mathematisch, wie vielePermutationen es hier gibt.<br> $n^r$<br>\n",
    "n = 3 && r = 2"
   ]
  },
  {
   "cell_type": "markdown",
   "metadata": {},
   "source": [
    "3^2 = 9"
   ]
  },
  {
   "cell_type": "markdown",
   "metadata": {},
   "source": [
    "# Von den fünf Projekten, die du letztes Jahr abgeschlossen hast, passen nur drei in deinen Lebenslauf.Wie viele verschiedene Kombinationen von Projekten gibt es? [Kombinationen](https://github.com/JHC90/Basic-DataScience-Skills/wiki/Statistics_Basics_006_Kombinationen)"
   ]
  },
  {
   "cell_type": "markdown",
   "metadata": {},
   "source": [
    "n = 5<br>\n",
    "3 = 3\n",
    "\n",
    "\n",
    "$$_{5}C_{3} =   \\frac{5!}{3!(5-3)!} =  \\frac{5!}{3!(2)! }= 10$$"
   ]
  },
  {
   "cell_type": "markdown",
   "metadata": {},
   "source": [
    "\n",
    "# Wenn im obigen Venn-Diagramm Afür Dreiecke und Bfür Hohlfiguren steht, drücke bitte die Schnittmenge (A und B), die Vereinigungsmenge (A oder B) und die Komplementärmenge von A (nicht A) mathematisch aus.\n",
    "[Mengen](https://github.com/JHC90/Basic-DataScience-Skills/wiki/Statistics_Basics_007_Mengen)"
   ]
  },
  {
   "cell_type": "markdown",
   "metadata": {},
   "source": [
    "# Ein Unternehmen führt eine Mitarbeiterstudie durch. Von 250 Mitarbeitern sind noch 180 in der Firma, insgesamt wurden 120 Beschäftigten Beförderungen angeboten. 75 Mitarbeiter sind sowohl in der Firma und ihnen wurden Beförderungen angeboten. Angesichts der Tatsache, dass einem Mitarbeiter eine Beförderung angeboten wurde, wie hoch ist die Wahrscheinlichkeit, dass er noch im Unternehmen ist?"
   ]
  },
  {
   "cell_type": "markdown",
   "metadata": {},
   "source": [
    "250 = alle\n",
    "\n",
    "A = 180 Bestand => 70 nicht mehr da\n",
    "\n",
    "B = 120 Angebot Beförderung\n",
    "\n",
    "\n",
    "\n",
    "180/250 = 0.72 = p für noch da p(A)\n",
    "\n",
    "120/250 =0.48 = P für Beförderung angeboten bekommen = p(B)\n",
    "\n",
    "𝐴∩𝐵 = 75/250 = 0.30\n",
    "\n",
    "$P(A | B) \\equiv \\frac{P(A \\cap B)}{P(B)}=\\frac{0.30}{0.48}=0.625$\n",
    "\n",
    "\n",
    "\n",
    "\n",
    "\n"
   ]
  },
  {
   "cell_type": "markdown",
   "metadata": {},
   "source": [
    "# [Bayes Theorem](https://github.com/JHC90/Basic-DataScience-Skills/wiki/Statistics_Basics_011_BayesTheorem)\n",
    "Ein Spam-Filterprogramm verwendet das Bayes-Theorem, um die Wahrscheinlichkeit dafür anzugeben, ob es sich bei einer eingehende E-Mail, die das Wort \"special\" enthält um SPAM handelt (eine unerwünschte Nachricht), im Gegensatz zu HAM (eine normale Nachricht). Folgende Annahmen werden getroffen:\n",
    "\n",
    "•Die anfängliche Wahrscheinlichkeit P (S), dass eine eingehende Nachricht SPAM ist, beträgt 0,50(d.h. es ist gleichermaßen wahrscheinlich, dass sowohl eine SPAM-als auch HAM-Nachricht vorliegt)\n",
    "\n",
    "•Während einer Lernphase des Programms wurden SPAM-und HAM-Nachrichten überprüft. Es wurde herausgefunden, dass 4% der SPAM-Nachrichten das Wort „special“ enthalten und 1% der HAM-Nachrichten.\n",
    "\n",
    "Wie groß ist die Wahrscheinlichkeit, dass eine Nachricht, die das Wort „special“ enthält, SPAM ist?\n",
    "\n",
    "\n",
    "𝑃(𝑆|𝑊)=Wahrscheinlichkeit, SPAM zu sein, wenn das Wort “special“ enthalten ist\n",
    "\n",
    "𝑃(𝑊|𝑆)=Wahrscheinlichkeit das Wort “special” zu enthalten, wenn die Nachricht SPAM ist\n",
    "\n",
    "𝑃(𝑆)=Wahrscheinlichkeit SPAM zu sein𝑃(𝑊)=Wahrscheinlichkeit das Wort “special” zu enthalten\n",
    "\n",
    "𝑃(𝑊|𝐻)=Wahrscheinlichkeit das Wort “special” zu enthalten, wenn es eine HAM-Nachricht ist\n",
    "\n",
    "𝑃(𝐻)=Wahrscheinlichkeit eine HAM-Nachricht zu sein\n",
    "\n",
    "BayesTheoremBasisformel: $$P(A | B)=\\frac{P(B | A) \\cdot P(A)}{P(B)}$$"
   ]
  },
  {
   "cell_type": "markdown",
   "metadata": {},
   "source": [
    "$$P(A | B)=\\frac{P(B | A) \\cdot P(A)}{P(B)}$$"
   ]
  },
  {
   "cell_type": "code",
   "execution_count": null,
   "metadata": {},
   "outputs": [],
   "source": []
  }
 ],
 "metadata": {
  "kernelspec": {
   "display_name": "Python 3",
   "language": "python",
   "name": "python3"
  },
  "language_info": {
   "codemirror_mode": {
    "name": "ipython",
    "version": 3
   },
   "file_extension": ".py",
   "mimetype": "text/x-python",
   "name": "python",
   "nbconvert_exporter": "python",
   "pygments_lexer": "ipython3",
   "version": "3.6.9"
  },
  "toc": {
   "base_numbering": 1,
   "nav_menu": {},
   "number_sections": true,
   "sideBar": true,
   "skip_h1_title": false,
   "title_cell": "Table of Contents",
   "title_sidebar": "Contents",
   "toc_cell": false,
   "toc_position": {},
   "toc_section_display": true,
   "toc_window_display": false
  }
 },
 "nbformat": 4,
 "nbformat_minor": 2
}
