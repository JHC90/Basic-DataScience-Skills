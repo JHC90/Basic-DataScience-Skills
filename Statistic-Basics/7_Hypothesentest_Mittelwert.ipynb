{
 "cells": [
  {
   "cell_type": "markdown",
   "metadata": {},
   "source": [
    "# Hypothesentest - Mittelwert\n",
    "hier die zugrundeliegende [Theorie](https://github.com/JHC90/Basic-DataScience-Skills/wiki/Statistics_Basics_020Hypothesentests)"
   ]
  },
  {
   "attachments": {},
   "cell_type": "markdown",
   "metadata": {},
   "source": [
    "## Aufgabe\n",
    "Ein Unternehmen möchte seine Website-Leistung verbessern. <br>\n",
    "Derzeit haben Seiten eine mittlere Ladezeit von 3,125 Sekunden mit einer Standardabweichung von 0,700 Sekunden. Sie beauftragen ein Beratungsunternehmen, um die Ladezeiten zu verbessern. <br>\n",
    "Das Management möchte ein Konfidenzniveau von 99% haben. <br>\n",
    "Ein Beispiellauf von 40 neuen Seiten hat eine mittlere Ladezeit von 2,875 Sekunden.<br>\n",
    "Sind diese Ergebnisse statistisch schneller als zuvor?"
   ]
  },
  {
   "attachments": {},
   "cell_type": "markdown",
   "metadata": {},
   "source": [
    "## Lösung\n",
    "<b>Schritt1: Informationen aus der Angabe</b><br>\n",
    "𝜇=3.125<br>\n",
    "𝜎=0.700<br>\n",
    "𝛼=0.01<br>\n",
    "𝑛=40<br>\n",
    "𝑥 ̅=2.875<br>\n",
    "\n"
   ]
  },
  {
   "attachments": {},
   "cell_type": "markdown",
   "metadata": {},
   "source": [
    "<b>Schritt2: Hypothesen aufstellen</b><br>\n",
    "1. Nullhypothese: 𝐻_0: 𝜇≥3.125\n",
    "2. Alternativhypothese: 𝐻_1: 𝜇<3.125\n",
    "3. Das Signifikanzniveau: 𝛼=0.01\n",
    "4. Ermittle den testtyp: Left tail  (weil h1 <mark>\"kleiner <\"</mark> 3.125)"
   ]
  },
  {
   "cell_type": "markdown",
   "metadata": {},
   "source": [
    "![title](https://raw.githubusercontent.com/wiki/JHC90/Basic-DataScience-Skills/imgs/h1Smaller0.PNG)\n",
    "mit 𝛼=0.01"
   ]
  },
  {
   "cell_type": "markdown",
   "metadata": {},
   "source": [
    "### Traditionelle Methode\n",
    "$Z=\\frac{\\bar{x}-\\mu}{\\sigma / \\sqrt{n}}=\\frac{2.875-3.125}{0.7 / \\sqrt{40}}=-2.259$"
   ]
  },
  {
   "cell_type": "code",
   "execution_count": 13,
   "metadata": {},
   "outputs": [
    {
     "data": {
      "text/plain": [
       "-2.2587697572631282"
      ]
     },
     "execution_count": 13,
     "metadata": {},
     "output_type": "execute_result"
    }
   ],
   "source": [
    "z = (2.875-3.125) / (0.7/(40**0.5))\n",
    "z"
   ]
  },
  {
   "cell_type": "markdown",
   "metadata": {},
   "source": [
    "Prüfe diesen Wert gegen den, den ich aus der z-Tabelle ablese\n",
    "![title](https://raw.githubusercontent.com/wiki/JHC90/Basic-DataScience-Skills/imgs/h1Smaller0MitZ.PNG)\n",
    "mit 𝛼=0.01 ist z dann \"3,10\"\n",
    "![Ztabel](./imgs/AufgabeHypothesentest1.PNG) \n",
    "\n",
    "hier ist ein Top sonderfal...der konkrete Wert von 𝛼=0.01 exisitiert nicht in der Tabelle, in diesem Fall nehme ich die beiden werte links und rechts und setze den wert dazwischen (man könnte hier auch dritteln, jeodch ist in der Muster lösung der Wertz halbiert => an das halte ich mich somit auch hier weiterhin) ... Sprich (-2.32 + (-2.33))/2 = -2.325\n",
    "mit 𝛼=0.01 ist z dann 𝛼=0.01 ist dann -2.325\n"
   ]
  },
  {
   "cell_type": "code",
   "execution_count": null,
   "metadata": {},
   "outputs": [],
   "source": [
    "### P-Test"
   ]
  }
 ],
 "metadata": {
  "kernelspec": {
   "display_name": "Python 3",
   "language": "python",
   "name": "python3"
  },
  "language_info": {
   "codemirror_mode": {
    "name": "ipython",
    "version": 3
   },
   "file_extension": ".py",
   "mimetype": "text/x-python",
   "name": "python",
   "nbconvert_exporter": "python",
   "pygments_lexer": "ipython3",
   "version": "3.6.9"
  },
  "toc": {
   "base_numbering": 1,
   "nav_menu": {},
   "number_sections": true,
   "sideBar": true,
   "skip_h1_title": false,
   "title_cell": "Table of Contents",
   "title_sidebar": "Contents",
   "toc_cell": false,
   "toc_position": {},
   "toc_section_display": true,
   "toc_window_display": true
  }
 },
 "nbformat": 4,
 "nbformat_minor": 2
}
