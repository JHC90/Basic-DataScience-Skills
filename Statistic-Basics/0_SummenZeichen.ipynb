{
 "cells": [
  {
   "cell_type": "markdown",
   "metadata": {},
   "source": [
    "[BasicsVomMiro](./sources/summenzeichen.pdf)"
   ]
  },
  {
   "cell_type": "markdown",
   "metadata": {},
   "source": [
    "# Daten"
   ]
  },
  {
   "cell_type": "code",
   "execution_count": 10,
   "metadata": {},
   "outputs": [],
   "source": [
    "x = [9,7,8,4,6,2,1,2]\n",
    "i = [1,2,3,4,5,6,7,8]"
   ]
  },
  {
   "cell_type": "markdown",
   "metadata": {},
   "source": [
    "## Simple Sum\n",
    "Beim Summenrechnen werden sowohl die oberen als auch die unteren Grenzen inkludiert\n",
    "$\\sum_{i=1}^{n}x_{i}$"
   ]
  },
  {
   "cell_type": "code",
   "execution_count": 41,
   "metadata": {},
   "outputs": [
    {
     "data": {
      "text/plain": [
       "39"
      ]
     },
     "execution_count": 41,
     "metadata": {},
     "output_type": "execute_result"
    }
   ],
   "source": [
    "# Angewndet auf die Daten x\n",
    "sum(x) "
   ]
  },
  {
   "cell_type": "markdown",
   "metadata": {},
   "source": [
    "## Complex Level 1 ;-)\n",
    "$\\sum_{i=3}^{5}x_{i}$ \n",
    "\n",
    "=> 6+4+5 = 15"
   ]
  },
  {
   "cell_type": "code",
   "execution_count": 42,
   "metadata": {},
   "outputs": [],
   "source": [
    "def calcSumInRange(lower,upper,list):\n",
    "    result = 0\n",
    "    for i in range(lower-1,upper,1): # vorsicht start bei 0\n",
    "        result = result + list[i]\n",
    "    return(result)"
   ]
  },
  {
   "cell_type": "code",
   "execution_count": 43,
   "metadata": {},
   "outputs": [
    {
     "data": {
      "text/plain": [
       "18"
      ]
     },
     "execution_count": 43,
     "metadata": {},
     "output_type": "execute_result"
    }
   ],
   "source": [
    "calcSumInRange(3,5,x)"
   ]
  },
  {
   "cell_type": "code",
   "execution_count": null,
   "metadata": {},
   "outputs": [],
   "source": []
  },
  {
   "cell_type": "markdown",
   "metadata": {},
   "source": [
    "## Complex Level 2\n",
    "$\\sum_{i=3}^{5}x_{i}*i$ \n",
    "\n",
    "\n",
    "hier wird hinter der Summe eine Funktion eingebaut"
   ]
  },
  {
   "cell_type": "code",
   "execution_count": 55,
   "metadata": {},
   "outputs": [],
   "source": [
    "def calcSumInRangeWithFormula(lower,upper,list, index):\n",
    "    result = 0\n",
    "    for i in range(lower-1,upper,1): # vorsicht start bei 0\n",
    "        result = result + (list[i] * index[i])\n",
    "    return(result)"
   ]
  },
  {
   "cell_type": "code",
   "execution_count": 56,
   "metadata": {},
   "outputs": [
    {
     "data": {
      "text/plain": [
       "70"
      ]
     },
     "execution_count": 56,
     "metadata": {},
     "output_type": "execute_result"
    }
   ],
   "source": [
    "calcSumInRangeWithFormula(3,5,x,i) # = 8*3 +4*4 +6*5"
   ]
  },
  {
   "cell_type": "markdown",
   "metadata": {},
   "source": [
    "## Rechenregeln mit Summen"
   ]
  },
  {
   "cell_type": "markdown",
   "metadata": {},
   "source": [
    "### a = konstante"
   ]
  },
  {
   "cell_type": "markdown",
   "metadata": {},
   "source": [
    "$\\sum_{i=1}^{n}a = n*a$"
   ]
  },
  {
   "cell_type": "markdown",
   "metadata": {},
   "source": [
    "### a = konstante && x = Varibale"
   ]
  },
  {
   "cell_type": "markdown",
   "metadata": {},
   "source": [
    "$\\sum_{i=1}^{n}a*x_{i} = a\\sum_{i=1}^{n}x_{i}$ "
   ]
  },
  {
   "cell_type": "markdown",
   "metadata": {},
   "source": [
    "### x = Varibale && y = Varibale"
   ]
  },
  {
   "cell_type": "markdown",
   "metadata": {},
   "source": [
    "# Übungsbeispiele"
   ]
  },
  {
   "cell_type": "markdown",
   "metadata": {},
   "source": [
    "Zeige:$\\mu$ = 29"
   ]
  },
  {
   "cell_type": "code",
   "execution_count": 57,
   "metadata": {},
   "outputs": [],
   "source": [
    "def calcFirstTask(lower,upper,list):\n",
    "    result = 0\n",
    "    for i in range(lower-1,upper,1): # vorsicht start bei 0\n",
    "        result = result + list[i]*list[i]\n",
    "    return(result)"
   ]
  },
  {
   "cell_type": "code",
   "execution_count": 58,
   "metadata": {},
   "outputs": [
    {
     "data": {
      "text/plain": [
       "29"
      ]
     },
     "execution_count": 58,
     "metadata": {},
     "output_type": "execute_result"
    }
   ],
   "source": [
    "calcFirstTask(2,4,i)"
   ]
  },
  {
   "cell_type": "code",
   "execution_count": 59,
   "metadata": {},
   "outputs": [],
   "source": [
    "def calcSecondTask(lower,upper,list):\n",
    "    result = 0\n",
    "    for i in range(lower-1,upper,1): # vorsicht start bei 0\n",
    "        result = result + list[i]*list[i]\n",
    "    return(result)"
   ]
  },
  {
   "cell_type": "code",
   "execution_count": null,
   "metadata": {},
   "outputs": [],
   "source": []
  }
 ],
 "metadata": {
  "kernelspec": {
   "display_name": "Python 3",
   "language": "python",
   "name": "python3"
  },
  "language_info": {
   "codemirror_mode": {
    "name": "ipython",
    "version": 3
   },
   "file_extension": ".py",
   "mimetype": "text/x-python",
   "name": "python",
   "nbconvert_exporter": "python",
   "pygments_lexer": "ipython3",
   "version": "3.6.9"
  },
  "toc": {
   "base_numbering": 1,
   "nav_menu": {},
   "number_sections": true,
   "sideBar": true,
   "skip_h1_title": false,
   "title_cell": "Table of Contents",
   "title_sidebar": "Contents",
   "toc_cell": false,
   "toc_position": {},
   "toc_section_display": true,
   "toc_window_display": false
  }
 },
 "nbformat": 4,
 "nbformat_minor": 2
}
