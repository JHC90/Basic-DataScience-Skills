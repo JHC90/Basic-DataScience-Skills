{
 "cells": [
  {
   "cell_type": "code",
   "execution_count": 11,
   "metadata": {},
   "outputs": [
    {
     "data": {
      "text/plain": [
       "6"
      ]
     },
     "execution_count": 11,
     "metadata": {},
     "output_type": "execute_result"
    }
   ],
   "source": [
    "# Randnotiz Faktoriell\n",
    "import math\n",
    "x = 3\n",
    "math.factorial(x)"
   ]
  },
  {
   "cell_type": "markdown",
   "metadata": {},
   "source": [
    "# Calcultating Kombinationen\n",
    "n = Auswahl die \n",
    "r = Anzahl die ausgewählt werden"
   ]
  },
  {
   "cell_type": "code",
   "execution_count": 25,
   "metadata": {},
   "outputs": [],
   "source": [
    "def calcCombinationsWITHOUTRepetition(n,r):\n",
    "    combinations = (math.factorial(n)/(math.factorial(r) * math.factorial(n-r)))\n",
    "    return(combinations)\n",
    "\n",
    "def calcCombinationsWITHRepetition(n,r):\n",
    "    combinations = (math.factorial(n+r-1)/(math.factorial(r) * math.factorial(n-1)))\n",
    "    return(combinations)"
   ]
  },
  {
   "cell_type": "code",
   "execution_count": 26,
   "metadata": {},
   "outputs": [
    {
     "data": {
      "text/plain": [
       "210.0"
      ]
     },
     "execution_count": 26,
     "metadata": {},
     "output_type": "execute_result"
    }
   ],
   "source": [
    "calcCombinationsWITHOUTRepetition(10,4)"
   ]
  },
  {
   "cell_type": "markdown",
   "metadata": {},
   "source": [
    "## Pizza bsp\n",
    "Anzahl Zutaten = 10 = n\n",
    "Zutaten auf der Pizza = 4 0 r"
   ]
  },
  {
   "cell_type": "markdown",
   "metadata": {},
   "source": [
    "### A jede zutat nur einmal\n",
    "$$\\ _{n}C_{r} =   \\frac{n!}{r!(n-r)!}$$\n",
    "$$\\ _{10}C_{4} =   \\frac{10!}{4!(10-4)!}$$"
   ]
  },
  {
   "cell_type": "code",
   "execution_count": 27,
   "metadata": {},
   "outputs": [
    {
     "data": {
      "text/plain": [
       "210.0"
      ]
     },
     "execution_count": 27,
     "metadata": {},
     "output_type": "execute_result"
    }
   ],
   "source": [
    "calcCombinationsWITHOUTRepetition(10,4)"
   ]
  },
  {
   "cell_type": "markdown",
   "metadata": {},
   "source": [
    "### A jede zutat kann mehrfach => wdh\n",
    "$$_{n+r-1}C_{r} =   \\frac{(n+r-1)!}{r!(n-r)!}$$\n",
    "$$_{10+4-1}C_{4} =   \\frac{(10+4-1)!}{4!(10-4)!}$$"
   ]
  },
  {
   "cell_type": "code",
   "execution_count": 28,
   "metadata": {},
   "outputs": [
    {
     "data": {
      "text/plain": [
       "715.0"
      ]
     },
     "execution_count": 28,
     "metadata": {},
     "output_type": "execute_result"
    }
   ],
   "source": [
    "calcCombinationsWITHRepetition(10,4)"
   ]
  },
  {
   "cell_type": "markdown",
   "metadata": {},
   "source": [
    "## Bsp Anzahl Kombinationen aus \n",
    "Wie viele 3-Buchstaben-Kombinationen können aus den Buchstaben ABCDE gemacht werden?\n"
   ]
  },
  {
   "cell_type": "code",
   "execution_count": 31,
   "metadata": {},
   "outputs": [
    {
     "data": {
      "text/plain": [
       "35.0"
      ]
     },
     "execution_count": 31,
     "metadata": {},
     "output_type": "execute_result"
    }
   ],
   "source": [
    "# Ohne WDH\n",
    "calcCombinationsWITHOUTRepetition(5,3)\n",
    "\n",
    "# Mit WDH\n",
    "calcCombinationsWITHRepetition(5,3)"
   ]
  },
  {
   "cell_type": "code",
   "execution_count": null,
   "metadata": {},
   "outputs": [],
   "source": []
  },
  {
   "cell_type": "code",
   "execution_count": null,
   "metadata": {},
   "outputs": [],
   "source": []
  }
 ],
 "metadata": {
  "kernelspec": {
   "display_name": "Python 3",
   "language": "python",
   "name": "python3"
  },
  "language_info": {
   "codemirror_mode": {
    "name": "ipython",
    "version": 3
   },
   "file_extension": ".py",
   "mimetype": "text/x-python",
   "name": "python",
   "nbconvert_exporter": "python",
   "pygments_lexer": "ipython3",
   "version": "3.6.9"
  },
  "toc": {
   "base_numbering": 1,
   "nav_menu": {},
   "number_sections": true,
   "sideBar": true,
   "skip_h1_title": false,
   "title_cell": "Table of Contents",
   "title_sidebar": "Contents",
   "toc_cell": false,
   "toc_position": {},
   "toc_section_display": true,
   "toc_window_display": false
  }
 },
 "nbformat": 4,
 "nbformat_minor": 2
}
