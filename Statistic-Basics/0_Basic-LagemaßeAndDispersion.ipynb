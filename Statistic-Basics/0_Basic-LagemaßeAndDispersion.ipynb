{
 "cells": [
  {
   "cell_type": "markdown",
   "metadata": {},
   "source": [
    "# Basics\n",
    "Diese Notebook dient als Vorlage für die Formeln der Basic Lagemaße und Dispersion. Dazu verwende ich die Bibliothek [statistics](https://docs.python.org/3/library/statistics.html).\n",
    "\n",
    "Ich hab hier ebenfalls ein [MeatEintrage]()"
   ]
  },
  {
   "cell_type": "code",
   "execution_count": 69,
   "metadata": {},
   "outputs": [],
   "source": [
    "import statistics "
   ]
  },
  {
   "cell_type": "markdown",
   "metadata": {},
   "source": [
    "## Sample Data\n",
    "Hier erstelle ich mir jeden nötigen Datensatz um die jeweilige statistische Kennzahl zu veranschaulichen. Die Erklärungen finden sich in den verlinkten Theorie-Blöcken. "
   ]
  },
  {
   "cell_type": "code",
   "execution_count": 70,
   "metadata": {},
   "outputs": [],
   "source": [
    "weightWmean= [1,3,3]\n",
    "valuesWmean= [4,3,1]\n",
    "WerkA = [1184,1203,1219,1238,1243,1204,1269,1256,1156,1248]\n",
    "WerkB = [1136,1178,1212,1193,1226,1154,1230,1222,1161,1148]\n",
    "valuesForMode =  [1,2,2,3,3,3,4,4,4,4,5,5,5,5,5,5,5,5,5,6,6,6,6,6,6]"
   ]
  },
  {
   "cell_type": "markdown",
   "metadata": {},
   "source": [
    "## [Mean](https://github.com/JHC90/Basic-DataScience-Skills/wiki/EDA_0_Lagema%C3%9Fe_1_MEAN)"
   ]
  },
  {
   "cell_type": "code",
   "execution_count": 71,
   "metadata": {},
   "outputs": [
    {
     "name": "stdout",
     "output_type": "stream",
     "text": [
      "1222\n"
     ]
    }
   ],
   "source": [
    "WerkAMean = statistics.mean(WerkA)\n",
    "print(WerkAMean)"
   ]
  },
  {
   "cell_type": "markdown",
   "metadata": {},
   "source": [
    "## [weighted Mean](https://github.com/JHC90/Basic-DataScience-Skills/wiki/EDA_0_Lagema%C3%9Fe_3_weightedMean)"
   ]
  },
  {
   "cell_type": "code",
   "execution_count": 79,
   "metadata": {},
   "outputs": [
    {
     "name": "stdout",
     "output_type": "stream",
     "text": [
      "4.0\n",
      "5.5\n"
     ]
    }
   ],
   "source": [
    "import numpy as np\n",
    "values = range(1,11)\n",
    "weights=range(10,0,-1)\n",
    "print(np.average(values, weights=weights))\n",
    "print(np.average(values))\n"
   ]
  },
  {
   "cell_type": "markdown",
   "metadata": {},
   "source": [
    "## [Median](https://github.com/JHC90/Basic-DataScience-Skills/wiki/EDA_0_Lagema%C3%9Fe_4_median)"
   ]
  },
  {
   "cell_type": "code",
   "execution_count": 73,
   "metadata": {},
   "outputs": [
    {
     "name": "stdout",
     "output_type": "stream",
     "text": [
      "1228.5\n"
     ]
    }
   ],
   "source": [
    "WerkAMedian = statistics.median(WerkA)\n",
    "print(WerkAMedian)"
   ]
  },
  {
   "cell_type": "markdown",
   "metadata": {},
   "source": [
    "## [Mode](https://github.com/JHC90/Basic-DataScience-Skills/wiki/EDA_0_Lagema%C3%9Fe_7_ModalWertModus)"
   ]
  },
  {
   "cell_type": "code",
   "execution_count": 74,
   "metadata": {},
   "outputs": [
    {
     "name": "stdout",
     "output_type": "stream",
     "text": [
      "5\n"
     ]
    }
   ],
   "source": [
    "ModeValue= statistics.mode(valuesForMode)\n",
    "print(ModeValue) # => 5kommt am häufigsten vor"
   ]
  },
  {
   "cell_type": "markdown",
   "metadata": {},
   "source": [
    "## [Varianz](https://github.com/JHC90/Basic-DataScience-Skills/wiki/EDA_2_Streuungsma%C3%9Fe_1_Variance)"
   ]
  },
  {
   "cell_type": "code",
   "execution_count": 75,
   "metadata": {},
   "outputs": [
    {
     "name": "stdout",
     "output_type": "stream",
     "text": [
      "1248\n"
     ]
    }
   ],
   "source": [
    "WerkAVar = statistics.variance(WerkA)\n",
    "print(WerkAVar)"
   ]
  },
  {
   "cell_type": "markdown",
   "metadata": {},
   "source": [
    "## [Standardabweichung](https://github.com/JHC90/Basic-DataScience-Skills/wiki/0_Standardabweichung_Varianz)"
   ]
  },
  {
   "cell_type": "code",
   "execution_count": 76,
   "metadata": {},
   "outputs": [
    {
     "name": "stdout",
     "output_type": "stream",
     "text": [
      "35.32704346531139\n"
     ]
    }
   ],
   "source": [
    "WerkAStd = statistics.stdev(WerkA)\n",
    "print(WerkAStd)"
   ]
  }
 ],
 "metadata": {
  "kernelspec": {
   "display_name": "Python 3",
   "language": "python",
   "name": "python3"
  },
  "language_info": {
   "codemirror_mode": {
    "name": "ipython",
    "version": 3
   },
   "file_extension": ".py",
   "mimetype": "text/x-python",
   "name": "python",
   "nbconvert_exporter": "python",
   "pygments_lexer": "ipython3",
   "version": "3.6.9"
  },
  "toc": {
   "base_numbering": 1,
   "nav_menu": {},
   "number_sections": true,
   "sideBar": true,
   "skip_h1_title": false,
   "title_cell": "Table of Contents",
   "title_sidebar": "Contents",
   "toc_cell": false,
   "toc_position": {},
   "toc_section_display": true,
   "toc_window_display": false
  }
 },
 "nbformat": 4,
 "nbformat_minor": 2
}
