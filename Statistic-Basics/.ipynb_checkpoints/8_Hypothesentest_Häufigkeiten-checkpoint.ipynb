{
 "cells": [
  {
   "cell_type": "markdown",
   "metadata": {},
   "source": [
    "# Hypothesentest - Häufigkeiten\n",
    "hier die zugrundeliegende [Theorie](https://github.com/JHC90/Basic-DataScience-Skills/wiki/Statistics_Basics_020Hypothesentests)"
   ]
  },
  {
   "cell_type": "markdown",
   "metadata": {},
   "source": [
    "* Eine Videospielfirma befragt 400 ihrer Kunden und stellt fest, dass 58% der Stichprobe Teenager sind.\n",
    "* Ist es daher richtig zu behaupten, dass die meisten Kunden des Unternehmens Teenager sind?"
   ]
  },
  {
   "cell_type": "markdown",
   "metadata": {},
   "source": [
    "## Lösung\n",
    "<b>Schritt1: Informationen aus der Angabe</b><br>\n",
    "𝑛=400<br>\n",
    "𝑥 ̅=2.875<br>\n",
    "\n",
    "Eigeninterpreatation:<br>\n",
    "$\\widehat{\\boldsymbol{p}}$  =0.58<br>\n",
    "p = 0.5 <= die meisten <br>\n",
    "q = 1 -p = 0.5<br>\n",
    "\n",
    "Lege ein Signifikanzniveau fest: aus der Angabe gibt es keines<br>\n",
    "=> α = 0.05\n"
   ]
  },
  {
   "cell_type": "markdown",
   "metadata": {},
   "source": [
    "<b>Schritt2: Hypothesen aufstellen</b><br>\n",
    "1. Setze die Nullhypothese: \t\t\t𝐻_0:𝑃≤0.50\n",
    "2. Lege die Alternativhypothese fest: \t\t𝐻_1:𝑃>0.50 => h1 \"> / größer Zeichen\" => right tailed \n",
    "3. Berechne Teststatistik:    \n",
    "$Z=\\frac{\\hat{p}-p}{\\sqrt{\\frac{p \\cdot q}{n}}}=\\frac{0.58-0.50}{\\sqrt{\\frac{0.50(1-0.50)}{400}}}=\\frac{0.08}{0.025}=3.2$\n",
    "\n",
    "![title](https://raw.githubusercontent.com/wiki/JHC90/Basic-DataScience-Skills/imgs/H1Bigger0.PNG)\n"
   ]
  },
  {
   "cell_type": "markdown",
   "metadata": {},
   "source": [
    "Lese kritischen wert (klein z)aus der z-Tabelle bei 0.95 => 1.645\n",
    "![title](https://raw.githubusercontent.com/wiki/JHC90/Basic-DataScience-Skills/imgs/H1Bigger0MitZ.PNG)\n",
    "\n",
    "![title](./imgs/AufgabeHypothesentest5.PNG)\n",
    "\n",
    "<hr>\n",
    "z = 1.645\n",
    "Z = 3.2\n",
    "\n",
    "z<Z => Z ist im Signikfikanzniveau => nullhypothese(𝐻_0:𝑃≤0.50) kann verworfen werden=> man kann sagen \"die meisten Kunden sind Teenager\""
   ]
  },
  {
   "cell_type": "markdown",
   "metadata": {},
   "source": [
    "## Traditioneller Test\n",
    "Basierend auf der Stichprobe lehnen wir die Nullhypothese ab und unterstützen die Behauptung, dass die meisten Kunden Teenager sind. \n"
   ]
  },
  {
   "cell_type": "markdown",
   "metadata": {},
   "source": [
    "## P-Statistik\n",
    "bei dem bin ich mir nicht ganz sicher, hierzu gibt es keine Musterlösung in den Unterlagen<br>\n",
    "ablesen desekritischen Wertes an der Stelle Z = 3.2 aus der Z-Tabelle<br>\n",
    "\n",
    "\n",
    "p-Value = 0.993<br>\n",
    "\n",
    "Vergleich Pvalue & Signifikanzniveau<br>\n",
    "P-value > Signifikanzniveau = 0.99<br>\n",
    "\n",
    "somit liegt der Wert dem gesuchten Signifikanzniveau und wir lehnen auf Basis des P-Tests die Nullhypothese ab => nehmen die Alternativhypothese an = \n",
    "\n",
    "\n"
   ]
  }
 ],
 "metadata": {
  "kernelspec": {
   "display_name": "Python 3",
   "language": "python",
   "name": "python3"
  },
  "language_info": {
   "codemirror_mode": {
    "name": "ipython",
    "version": 3
   },
   "file_extension": ".py",
   "mimetype": "text/x-python",
   "name": "python",
   "nbconvert_exporter": "python",
   "pygments_lexer": "ipython3",
   "version": "3.6.9"
  },
  "toc": {
   "base_numbering": 1,
   "nav_menu": {},
   "number_sections": true,
   "sideBar": true,
   "skip_h1_title": false,
   "title_cell": "Table of Contents",
   "title_sidebar": "Contents",
   "toc_cell": false,
   "toc_position": {},
   "toc_section_display": true,
   "toc_window_display": true
  }
 },
 "nbformat": 4,
 "nbformat_minor": 2
}
