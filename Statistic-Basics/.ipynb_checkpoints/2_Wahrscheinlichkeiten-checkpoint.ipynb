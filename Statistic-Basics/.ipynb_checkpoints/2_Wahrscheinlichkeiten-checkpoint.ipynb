{
 "cells": [
  {
   "attachments": {},
   "cell_type": "markdown",
   "metadata": {},
   "source": [
    "# Übung1 Trompetenaufgabe || Wahrscheinlichkeiten\n"
   ]
  },
  {
   "cell_type": "markdown",
   "metadata": {},
   "source": [
    "## Aufgabe a\n",
    "Ein Unternehmen stellt insgesamt 50 Trompetenventile her<br>\n",
    "Es wird festgestellt, dass eines der Ventile defekt ist<br>\n",
    "Wenn drei Ventile in einer Trompete verbaut sind, wie groß ist die Wahrscheinlichkeit, dass eine Trompete ein defektes Ventil hat?"
   ]
  },
  {
   "cell_type": "markdown",
   "metadata": {},
   "source": [
    "## Lösungsnotizen Aufgabe a\n",
    "$$ E =   EreignisDefekteVentil$$\n",
    "$$ P_{E-EreignisDefekteVentil} =   \\frac{1}{50} = 0.02$$"
   ]
  },
  {
   "cell_type": "code",
   "execution_count": 8,
   "metadata": {},
   "outputs": [
    {
     "name": "stdout",
     "output_type": "stream",
     "text": [
      "0.06\n"
     ]
    }
   ],
   "source": [
    "EreignisDefekteVenti = 1/50\n",
    "# Berechne die Wahrscheinlichkeit einer daraus resultierenden defekten Trompete:\n",
    "pDefekteTrompete = pDefektesVentil + pDefektesVentil + pDefektesVentil\n",
    "print(pDefekteTrompete)"
   ]
  },
  {
   "cell_type": "code",
   "execution_count": null,
   "metadata": {},
   "outputs": [],
   "source": []
  }
 ],
 "metadata": {
  "kernelspec": {
   "display_name": "Python 3",
   "language": "python",
   "name": "python3"
  },
  "language_info": {
   "codemirror_mode": {
    "name": "ipython",
    "version": 3
   },
   "file_extension": ".py",
   "mimetype": "text/x-python",
   "name": "python",
   "nbconvert_exporter": "python",
   "pygments_lexer": "ipython3",
   "version": "3.6.9"
  },
  "toc": {
   "base_numbering": 1,
   "nav_menu": {},
   "number_sections": true,
   "sideBar": true,
   "skip_h1_title": false,
   "title_cell": "Table of Contents",
   "title_sidebar": "Contents",
   "toc_cell": false,
   "toc_position": {},
   "toc_section_display": true,
   "toc_window_display": false
  }
 },
 "nbformat": 4,
 "nbformat_minor": 2
}
