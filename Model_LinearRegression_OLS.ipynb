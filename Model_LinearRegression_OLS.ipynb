{
 "cells": [
  {
   "cell_type": "markdown",
   "metadata": {},
   "source": [
    "# Basics (simple )Lineare Regression"
   ]
  },
  {
   "cell_type": "markdown",
   "metadata": {},
   "source": [
    "## Quellen und Links\n",
    "\n",
    "### Implementierung der OLS mit SK-Learn !Wertvoll!\n",
    "[LinkNotebookImplementationUD-Course--USA-HOUSING](./Literatur_Quellen/1_UDC/original/Python-DataScience-MachineLearning-v10/5-Machine%20Learning/1-Linear%20Regression/1-Lineare%20Regression%20Mit%20Python.ipynb) das ist eine BSP-Regressions-Implementierung für ein Regressionsproblem aus dem Rene-Brunner Kurs. Ganz klassisch ein Housing-Data-Problem\n",
    "\n",
    "### Implementierung der OLS mit SK-Learn !Wertvoll!\n",
    "[LinkNotebookImplementationUD-Course--Customer-Analysis](./Literatur_Quellen/1_UDC/original/Python-DataScience-MachineLearning-v10/5-Machine%20Learning/1-Linear%20Regression/1-Lineare%20Regression%20Mit%20Python.ipynb) das ist eine BSP-Regressions-Implementierung für ein Regressionsproblem aus dem Rene-Brunner Kurs. Ganz klassisch eine Kunden-Analyse\n",
    "\n",
    "<hr>\n",
    "\n",
    "### Implementierung der OLS mit SK-Learn !Quick & Dirty = keine Kommentare!\n",
    "[Boston-Housing](./Literatur_Quellen/1_UDC/original/Python-DataScience-MachineLearning-v10/5-Machine%20Learning/1-Linear%20Regression/1-Lineare%20Regression%20Mit%20Python.ipynb) Nach dem Vorbild des Oberen USA-Housing\n",
    "\n",
    "<hr>\n",
    "\n",
    "\n",
    "### Vergleich zwischen \"Statsmodel\" und  \"SKLearn\" for Linear Regression\n",
    "https://becominghuman.ai/stats-models-vs-sklearn-for-linear-regression-f19df95ad99b unter diesem Link werden zwei unterschiedliche Module verglichen mit welchen die Lineare Regression durchgeführt werden kann\n"
   ]
  },
  {
   "cell_type": "markdown",
   "metadata": {},
   "source": [
    "## Algemeines Vorgehen SK-Learn\n",
    "1. [EDA](https://github.com/JHC90/Basic-DataScience-Skills/wiki/EDA_Landingpage)<br>\n",
    "Aus der EDA lese ich unter anderem ab, was im Data-Preprocessing bzw Feature Engineering zu tun ist.\n",
    "2. [Data-Preprocessing]()\n",
    "3. [Modellierung Regression (SK-Learn), Predicten, MSE, MAE, RMSE](./Literatur_Quellen/1_UDC/original/Python-DataScience-MachineLearning-v10/5-Machine%20Learning/1-Linear%20Regression/1-Lineare%20Regression%20Mit%20Python.ipynb)\n"
   ]
  },
  {
   "cell_type": "markdown",
   "metadata": {},
   "source": [
    "#### R²"
   ]
  },
  {
   "cell_type": "code",
   "execution_count": 29,
   "metadata": {},
   "outputs": [
    {
     "name": "stdout",
     "output_type": "stream",
     "text": [
      "Coefficient of determination: 0.93\n"
     ]
    }
   ],
   "source": [
    "print('Coefficient of determination: %.2f'\n",
    "      % r2_score(y, y_pred_SKlearn))"
   ]
  },
  {
   "cell_type": "markdown",
   "metadata": {},
   "source": [
    "### [statsmodel](https://www.statsmodels.org/devel/generated/statsmodels.regression.linear_model.OLS.html)\n",
    "hat den vorteil, dass eine art Summary-Function inkludiert ist. "
   ]
  },
  {
   "cell_type": "markdown",
   "metadata": {},
   "source": [
    "#### Modeling"
   ]
  },
  {
   "cell_type": "code",
   "execution_count": 30,
   "metadata": {},
   "outputs": [],
   "source": [
    "import statsmodels.api as sm\n",
    "X = sm.add_constant(X)\n",
    "modelStatsmodel = sm.OLS(y, X).fit()"
   ]
  },
  {
   "cell_type": "markdown",
   "metadata": {},
   "source": [
    "#### Summary = R², adjR²,P-Value, F-test,T-Test,AIC,BIC, ModelCoefficentsen"
   ]
  },
  {
   "cell_type": "code",
   "execution_count": 23,
   "metadata": {},
   "outputs": [
    {
     "data": {
      "text/html": [
       "<table class=\"simpletable\">\n",
       "<caption>OLS Regression Results</caption>\n",
       "<tr>\n",
       "  <th>Dep. Variable:</th>            <td>y</td>        <th>  R-squared:         </th> <td>   0.926</td>\n",
       "</tr>\n",
       "<tr>\n",
       "  <th>Model:</th>                   <td>OLS</td>       <th>  Adj. R-squared:    </th> <td>   0.926</td>\n",
       "</tr>\n",
       "<tr>\n",
       "  <th>Method:</th>             <td>Least Squares</td>  <th>  F-statistic:       </th> <td>   1841.</td>\n",
       "</tr>\n",
       "<tr>\n",
       "  <th>Date:</th>             <td>Fri, 20 Mar 2020</td> <th>  Prob (F-statistic):</th> <td>5.03e-85</td>\n",
       "</tr>\n",
       "<tr>\n",
       "  <th>Time:</th>                 <td>08:33:15</td>     <th>  Log-Likelihood:    </th> <td>  23.742</td>\n",
       "</tr>\n",
       "<tr>\n",
       "  <th>No. Observations:</th>      <td>   149</td>      <th>  AIC:               </th> <td>  -43.48</td>\n",
       "</tr>\n",
       "<tr>\n",
       "  <th>Df Residuals:</th>          <td>   147</td>      <th>  BIC:               </th> <td>  -37.48</td>\n",
       "</tr>\n",
       "<tr>\n",
       "  <th>Df Model:</th>              <td>     1</td>      <th>                     </th>     <td> </td>   \n",
       "</tr>\n",
       "<tr>\n",
       "  <th>Covariance Type:</th>      <td>nonrobust</td>    <th>                     </th>     <td> </td>   \n",
       "</tr>\n",
       "</table>\n",
       "<table class=\"simpletable\">\n",
       "<tr>\n",
       "    <td></td>       <th>coef</th>     <th>std err</th>      <th>t</th>      <th>P>|t|</th>  <th>[0.025</th>    <th>0.975]</th>  \n",
       "</tr>\n",
       "<tr>\n",
       "  <th>const</th> <td>   -0.3661</td> <td>    0.040</td> <td>   -9.064</td> <td> 0.000</td> <td>   -0.446</td> <td>   -0.286</td>\n",
       "</tr>\n",
       "<tr>\n",
       "  <th>x1</th>    <td>    0.4163</td> <td>    0.010</td> <td>   42.905</td> <td> 0.000</td> <td>    0.397</td> <td>    0.436</td>\n",
       "</tr>\n",
       "</table>\n",
       "<table class=\"simpletable\">\n",
       "<tr>\n",
       "  <th>Omnibus:</th>       <td> 5.326</td> <th>  Durbin-Watson:     </th> <td>   1.461</td>\n",
       "</tr>\n",
       "<tr>\n",
       "  <th>Prob(Omnibus):</th> <td> 0.070</td> <th>  Jarque-Bera (JB):  </th> <td>   4.993</td>\n",
       "</tr>\n",
       "<tr>\n",
       "  <th>Skew:</th>          <td> 0.352</td> <th>  Prob(JB):          </th> <td>  0.0824</td>\n",
       "</tr>\n",
       "<tr>\n",
       "  <th>Kurtosis:</th>      <td> 3.556</td> <th>  Cond. No.          </th> <td>    10.4</td>\n",
       "</tr>\n",
       "</table><br/><br/>Warnings:<br/>[1] Standard Errors assume that the covariance matrix of the errors is correctly specified."
      ],
      "text/plain": [
       "<class 'statsmodels.iolib.summary.Summary'>\n",
       "\"\"\"\n",
       "                            OLS Regression Results                            \n",
       "==============================================================================\n",
       "Dep. Variable:                      y   R-squared:                       0.926\n",
       "Model:                            OLS   Adj. R-squared:                  0.926\n",
       "Method:                 Least Squares   F-statistic:                     1841.\n",
       "Date:                Fri, 20 Mar 2020   Prob (F-statistic):           5.03e-85\n",
       "Time:                        08:33:15   Log-Likelihood:                 23.742\n",
       "No. Observations:                 149   AIC:                            -43.48\n",
       "Df Residuals:                     147   BIC:                            -37.48\n",
       "Df Model:                           1                                         \n",
       "Covariance Type:            nonrobust                                         \n",
       "==============================================================================\n",
       "                 coef    std err          t      P>|t|      [0.025      0.975]\n",
       "------------------------------------------------------------------------------\n",
       "const         -0.3661      0.040     -9.064      0.000      -0.446      -0.286\n",
       "x1             0.4163      0.010     42.905      0.000       0.397       0.436\n",
       "==============================================================================\n",
       "Omnibus:                        5.326   Durbin-Watson:                   1.461\n",
       "Prob(Omnibus):                  0.070   Jarque-Bera (JB):                4.993\n",
       "Skew:                           0.352   Prob(JB):                       0.0824\n",
       "Kurtosis:                       3.556   Cond. No.                         10.4\n",
       "==============================================================================\n",
       "\n",
       "Warnings:\n",
       "[1] Standard Errors assume that the covariance matrix of the errors is correctly specified.\n",
       "\"\"\""
      ]
     },
     "execution_count": 23,
     "metadata": {},
     "output_type": "execute_result"
    }
   ],
   "source": [
    "modelStatsmodel.summary()"
   ]
  },
  {
   "cell_type": "markdown",
   "metadata": {},
   "source": [
    "wenn wir nun die Koeffizienten betrachten, sehen wir, dass diese die gleichen sind mit const = -0.3661 && x1 = 0.4163 wie beider Methode von SKLEARN. AUßerdem ist auch der r² der selbe wie bei SKLEARN"
   ]
  },
  {
   "cell_type": "markdown",
   "metadata": {},
   "source": [
    "#### Predcition"
   ]
  },
  {
   "cell_type": "code",
   "execution_count": 31,
   "metadata": {},
   "outputs": [],
   "source": [
    "y_pred_StatsModel = modelStatsmodel.predict(X)"
   ]
  },
  {
   "cell_type": "markdown",
   "metadata": {},
   "source": [
    "#### MSE & RMSE\n",
    "Da habe ich bisher auf die schnelle von statsmodel noch nichts passendes gefunden => daher verwende ich die SK-Learn Methode"
   ]
  },
  {
   "cell_type": "code",
   "execution_count": 43,
   "metadata": {},
   "outputs": [
    {
     "name": "stdout",
     "output_type": "stream",
     "text": [
      "Mean squared error: 0.04\n"
     ]
    }
   ],
   "source": [
    "print('Mean squared error: %.2f'\n",
    "      % mean_squared_error(y, y_pred_StatsModel))"
   ]
  },
  {
   "cell_type": "markdown",
   "metadata": {},
   "source": [
    "### Zusammenfassung Compare Stats Models vs SKLearn for Linear Regression"
   ]
  },
  {
   "cell_type": "markdown",
   "metadata": {},
   "source": [
    "## Interpreatition der entsprechenden Werte\n",
    "innerhalb der Regression fallen folgende Werte an. Dazu habe ich im Github-Repo ein Wiki erstellt, in welchem ich die Werte erkläre und dort Update. <br>\n",
    "Als Datengrundlage verwende ich die Summary von statsmodel aus dem vorherigen Beispiel des IRIS-Datensatzes"
   ]
  },
  {
   "cell_type": "code",
   "execution_count": 47,
   "metadata": {},
   "outputs": [
    {
     "data": {
      "text/html": [
       "<table class=\"simpletable\">\n",
       "<caption>OLS Regression Results</caption>\n",
       "<tr>\n",
       "  <th>Dep. Variable:</th>            <td>y</td>        <th>  R-squared:         </th> <td>   0.926</td>\n",
       "</tr>\n",
       "<tr>\n",
       "  <th>Model:</th>                   <td>OLS</td>       <th>  Adj. R-squared:    </th> <td>   0.926</td>\n",
       "</tr>\n",
       "<tr>\n",
       "  <th>Method:</th>             <td>Least Squares</td>  <th>  F-statistic:       </th> <td>   1841.</td>\n",
       "</tr>\n",
       "<tr>\n",
       "  <th>Date:</th>             <td>Fri, 20 Mar 2020</td> <th>  Prob (F-statistic):</th> <td>5.03e-85</td>\n",
       "</tr>\n",
       "<tr>\n",
       "  <th>Time:</th>                 <td>08:57:17</td>     <th>  Log-Likelihood:    </th> <td>  23.742</td>\n",
       "</tr>\n",
       "<tr>\n",
       "  <th>No. Observations:</th>      <td>   149</td>      <th>  AIC:               </th> <td>  -43.48</td>\n",
       "</tr>\n",
       "<tr>\n",
       "  <th>Df Residuals:</th>          <td>   147</td>      <th>  BIC:               </th> <td>  -37.48</td>\n",
       "</tr>\n",
       "<tr>\n",
       "  <th>Df Model:</th>              <td>     1</td>      <th>                     </th>     <td> </td>   \n",
       "</tr>\n",
       "<tr>\n",
       "  <th>Covariance Type:</th>      <td>nonrobust</td>    <th>                     </th>     <td> </td>   \n",
       "</tr>\n",
       "</table>\n",
       "<table class=\"simpletable\">\n",
       "<tr>\n",
       "    <td></td>       <th>coef</th>     <th>std err</th>      <th>t</th>      <th>P>|t|</th>  <th>[0.025</th>    <th>0.975]</th>  \n",
       "</tr>\n",
       "<tr>\n",
       "  <th>const</th> <td>   -0.3661</td> <td>    0.040</td> <td>   -9.064</td> <td> 0.000</td> <td>   -0.446</td> <td>   -0.286</td>\n",
       "</tr>\n",
       "<tr>\n",
       "  <th>x1</th>    <td>    0.4163</td> <td>    0.010</td> <td>   42.905</td> <td> 0.000</td> <td>    0.397</td> <td>    0.436</td>\n",
       "</tr>\n",
       "</table>\n",
       "<table class=\"simpletable\">\n",
       "<tr>\n",
       "  <th>Omnibus:</th>       <td> 5.326</td> <th>  Durbin-Watson:     </th> <td>   1.461</td>\n",
       "</tr>\n",
       "<tr>\n",
       "  <th>Prob(Omnibus):</th> <td> 0.070</td> <th>  Jarque-Bera (JB):  </th> <td>   4.993</td>\n",
       "</tr>\n",
       "<tr>\n",
       "  <th>Skew:</th>          <td> 0.352</td> <th>  Prob(JB):          </th> <td>  0.0824</td>\n",
       "</tr>\n",
       "<tr>\n",
       "  <th>Kurtosis:</th>      <td> 3.556</td> <th>  Cond. No.          </th> <td>    10.4</td>\n",
       "</tr>\n",
       "</table><br/><br/>Warnings:<br/>[1] Standard Errors assume that the covariance matrix of the errors is correctly specified."
      ],
      "text/plain": [
       "<class 'statsmodels.iolib.summary.Summary'>\n",
       "\"\"\"\n",
       "                            OLS Regression Results                            \n",
       "==============================================================================\n",
       "Dep. Variable:                      y   R-squared:                       0.926\n",
       "Model:                            OLS   Adj. R-squared:                  0.926\n",
       "Method:                 Least Squares   F-statistic:                     1841.\n",
       "Date:                Fri, 20 Mar 2020   Prob (F-statistic):           5.03e-85\n",
       "Time:                        08:57:17   Log-Likelihood:                 23.742\n",
       "No. Observations:                 149   AIC:                            -43.48\n",
       "Df Residuals:                     147   BIC:                            -37.48\n",
       "Df Model:                           1                                         \n",
       "Covariance Type:            nonrobust                                         \n",
       "==============================================================================\n",
       "                 coef    std err          t      P>|t|      [0.025      0.975]\n",
       "------------------------------------------------------------------------------\n",
       "const         -0.3661      0.040     -9.064      0.000      -0.446      -0.286\n",
       "x1             0.4163      0.010     42.905      0.000       0.397       0.436\n",
       "==============================================================================\n",
       "Omnibus:                        5.326   Durbin-Watson:                   1.461\n",
       "Prob(Omnibus):                  0.070   Jarque-Bera (JB):                4.993\n",
       "Skew:                           0.352   Prob(JB):                       0.0824\n",
       "Kurtosis:                       3.556   Cond. No.                         10.4\n",
       "==============================================================================\n",
       "\n",
       "Warnings:\n",
       "[1] Standard Errors assume that the covariance matrix of the errors is correctly specified.\n",
       "\"\"\""
      ]
     },
     "execution_count": 47,
     "metadata": {},
     "output_type": "execute_result"
    }
   ],
   "source": [
    "modelStatsmodel.summary()"
   ]
  },
  {
   "cell_type": "markdown",
   "metadata": {},
   "source": [
    "### [MSE & RMSE](https://github.com/JHC90/Basic-DataScience-Skills/wiki/Lineare-Regression_4_MeasureQuality_MSE_RMSE)"
   ]
  },
  {
   "cell_type": "markdown",
   "metadata": {},
   "source": [
    "### [P-Value](https://github.com/JHC90/Basic-DataScience-Skills/wiki/Lineare-Regression_5_P-Value)"
   ]
  },
  {
   "cell_type": "markdown",
   "metadata": {},
   "source": [
    "### [R² -Value](https://github.com/JHC90/Basic-DataScience-Skills/wiki/R%C2%B2-Value)"
   ]
  },
  {
   "cell_type": "markdown",
   "metadata": {},
   "source": [
    "### [adj-R² -Value](https://github.com/JHC90/Basic-DataScience-Skills/wiki/Lineare-Regression_7_Adjusted-R%C2%B2)"
   ]
  },
  {
   "cell_type": "markdown",
   "metadata": {},
   "source": [
    "### [t-statistic](https://github.com/JHC90/Basic-DataScience-Skills/wiki/Lineare-Regression_9_t-Statistics)"
   ]
  },
  {
   "cell_type": "markdown",
   "metadata": {},
   "source": [
    "### [F-statistic](https://github.com/JHC90/Basic-DataScience-Skills/wiki/Lineare-Regression_8_F-Statistics)"
   ]
  },
  {
   "cell_type": "markdown",
   "metadata": {},
   "source": [
    "### [AIC ](https://github.com/JHC90/Basic-DataScience-Skills/wiki/Lineare-Regression_10_AIC)"
   ]
  },
  {
   "cell_type": "markdown",
   "metadata": {},
   "source": [
    "### [BIC ](https://github.com/JHC90/Basic-DataScience-Skills/wiki/Lineare-Regression_11_BIC)"
   ]
  },
  {
   "cell_type": "code",
   "execution_count": null,
   "metadata": {},
   "outputs": [],
   "source": []
  }
 ],
 "metadata": {
  "kernelspec": {
   "display_name": "Python 3",
   "language": "python",
   "name": "python3"
  },
  "language_info": {
   "codemirror_mode": {
    "name": "ipython",
    "version": 3
   },
   "file_extension": ".py",
   "mimetype": "text/x-python",
   "name": "python",
   "nbconvert_exporter": "python",
   "pygments_lexer": "ipython3",
   "version": "3.7.7"
  },
  "toc": {
   "base_numbering": 1,
   "nav_menu": {},
   "number_sections": true,
   "sideBar": true,
   "skip_h1_title": false,
   "title_cell": "Table of Contents",
   "title_sidebar": "Contents",
   "toc_cell": false,
   "toc_position": {
    "height": "calc(100% - 180px)",
    "left": "10px",
    "top": "150px",
    "width": "320px"
   },
   "toc_section_display": true,
   "toc_window_display": true
  }
 },
 "nbformat": 4,
 "nbformat_minor": 2
}
