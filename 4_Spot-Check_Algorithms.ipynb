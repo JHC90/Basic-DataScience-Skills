{
 "cells": [
  {
   "cell_type": "markdown",
   "metadata": {},
   "source": [
    "# Spot-Check\n",
    "Für jedes Problem werden mehrere unterschiedliche Algorithmen verwendet. Dieses Notebook dient der weiterleitung an die entsprechenden stellen. Unter meinem Root Verzeichnis https://github.com/JHC90/Basic-DataScience-Skills gibt es notbooks mit dem Namen: Model_XXXX anfangen.\n",
    "Model besagt dass hier der entsprechende XXXX Algorithmus anhand eines Beispiels detailiert erklärt wird. Zu jedem Algorithmus gibt es noch das Notebook Model_XXXX_<b>FirstShot</b>, in diesem werden die Algorithmen sequenziell gelistet. ergo gibt eshierbei kein Tuning der einzelnen Algorithmen. "
   ]
  },
  {
   "cell_type": "markdown",
   "metadata": {},
   "source": [
    "# Hier von Skleran eine Model-Selction unterstützung\n",
    "https://scikit-learn.org/stable/tutorial/machine_learning_map/index.html"
   ]
  },
  {
   "cell_type": "markdown",
   "metadata": {},
   "source": [
    "## Regression"
   ]
  },
  {
   "cell_type": "markdown",
   "metadata": {},
   "source": [
    "## Klassifikation"
   ]
  },
  {
   "cell_type": "markdown",
   "metadata": {},
   "source": [
    "### Multiclass-Klassifikation\n",
    "[FirstShotMultiClass-Classificaiton](./Model_Classification_Multiclassclassification_ZZZ_FirstShotAutomation.ipynb)"
   ]
  },
  {
   "cell_type": "code",
   "execution_count": null,
   "metadata": {},
   "outputs": [],
   "source": []
  }
 ],
 "metadata": {
  "kernelspec": {
   "display_name": "Python 3",
   "language": "python",
   "name": "python3"
  },
  "language_info": {
   "codemirror_mode": {
    "name": "ipython",
    "version": 3
   },
   "file_extension": ".py",
   "mimetype": "text/x-python",
   "name": "python",
   "nbconvert_exporter": "python",
   "pygments_lexer": "ipython3",
   "version": "3.6.9"
  },
  "toc": {
   "base_numbering": 1,
   "nav_menu": {},
   "number_sections": true,
   "sideBar": true,
   "skip_h1_title": false,
   "title_cell": "Table of Contents",
   "title_sidebar": "Contents",
   "toc_cell": false,
   "toc_position": {},
   "toc_section_display": true,
   "toc_window_display": true
  }
 },
 "nbformat": 4,
 "nbformat_minor": 2
}
