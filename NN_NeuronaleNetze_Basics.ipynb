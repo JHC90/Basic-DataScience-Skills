{
 "cells": [
  {
   "cell_type": "markdown",
   "metadata": {},
   "source": [
    "# Manuelle Erstellung\n",
    "hier wird ein Neuronales Netz manuell erstellt. Der sinn ist hier lediglich aus didaktischen Gründen gegebn. Normalerweise verwendet man in diesem Kontext die Methoden von Tensorflow und Co.\n",
    "\n",
    "## Links\n",
    "\n",
    "* [Link zur TF-Syntax & Basic Begirffe](./Literatur_Quellen/2_UDC_DL/Tensorflow-Bootcamp/02-TensorFlow-Grundlagen/03_Syntax.ipynb)<br>\n",
    "Das ist wichtig um die Begirfflichkeiten und den Umgang mit TF zu verstehen\n",
    "\n",
    "* [Link zur manuellen Implementierung eines NN (kein TF / Keras / Whatever)](./Literatur_Quellen/2_UDC_DL/Tensorflow-Bootcamp/01-Neuronale-Netze-Grundlagen/Manuelles%20Neuronales%20Netzwerk.ipynb)"
   ]
  }
 ],
 "metadata": {
  "kernelspec": {
   "display_name": "Python 3",
   "language": "python",
   "name": "python3"
  },
  "language_info": {
   "codemirror_mode": {
    "name": "ipython",
    "version": 3
   },
   "file_extension": ".py",
   "mimetype": "text/x-python",
   "name": "python",
   "nbconvert_exporter": "python",
   "pygments_lexer": "ipython3",
   "version": "3.7.7"
  },
  "toc": {
   "base_numbering": 1,
   "nav_menu": {},
   "number_sections": true,
   "sideBar": true,
   "skip_h1_title": false,
   "title_cell": "Table of Contents",
   "title_sidebar": "Contents",
   "toc_cell": false,
   "toc_position": {},
   "toc_section_display": true,
   "toc_window_display": false
  }
 },
 "nbformat": 4,
 "nbformat_minor": 2
}
