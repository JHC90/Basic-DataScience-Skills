{
 "cells": [
  {
   "cell_type": "markdown",
   "metadata": {},
   "source": [
    "# Logistische Regresseion\n",
    "\n",
    "Bspw:\n",
    "* Erkennen Spam\n",
    "* Kreditausfall\n",
    "* Gesundheitsaussicht\n",
    "\n",
    "!!Achtung hierbei geht es um diskrete Fragestellungen!!"
   ]
  },
  {
   "cell_type": "markdown",
   "metadata": {},
   "source": [
    "## Quellen und Links\n",
    "\n",
    "### Implementierung der OLS mit SK-Learn !Wertvoll!\n",
    "[LinkNotebookImplementationUD-Course--Titanic](./Literatur_Quellen/1_UDC/original/Python-DataScience-MachineLearning-v10/5-Machine%20Learning/2-Logistic%20Regression/1-Logistische%20Regression%20Mit%20Python.ipynb) das ist eine BSP-Regressions-Implementierung für ein Regressionsproblem aus dem Rene-Brunner Kurs. Ganz klassisch ein Housing-Data-Problem\n",
    "\n",
    "### Implementierung der OLS mit SK-Learn !Wertvoll!\n",
    "[LinkNotebookImplementationUD-Course--Kundenanalyse](./Literatur_Quellen/1_UDC/original/Python-DataScience-MachineLearning-v10/5-Machine%20Learning/2-Logistic%20Regression/3-Logistische%20Regression%20Projekt%20-%20Loesung.ipynb) das ist eine BSP-Regressions-Implementierung für ein Regressionsproblem aus dem Rene-Brunner Kurs. Ganz klassisch ein Housing-Data-Problem\n",
    "\n",
    "\n",
    "\n",
    "\n",
    "\n"
   ]
  },
  {
   "cell_type": "markdown",
   "metadata": {},
   "source": [
    "**Fokus auf rein binäre logistische Regression**\n",
    "\n",
    "Wir können ein lineares Regressionsmodell schlecht auf binäre Gruppen verwenden. \n",
    "\n",
    "![LogReg Vs lineare Reg](./imgs/logreg.png)\n",
    "\n",
    "dazu brauch wir die Logistitsche Regressionslinie alias Sigmoid Funktion ist eine Umwandlung der linearen Regression. Diese nimmt jeden wert und wandelt ihn in einen Bereich zwschen 0 und 1 zurück = Sigmoid\n",
    "\n",
    "![LogReg Vs lineare Reg](./imgs/logreg2.png)\n",
    "\n",
    "das bedeutet wiederum wir nehmen das lineare Modell und und setzten das in z (obere Grafik )ein:\n",
    "![LogReg Vs lineare Reg](./imgs/logreg3.png)\n",
    "\n",
    "somit ist das Modell in die Logistische Regression umgeandelt. Das Ergebnis ist nun eine Wahrschienlichkeit ob Klasse 1 oder 2 gewählt wird.\n",
    "Anders ausgedrückt wir können das Lineare Modell verwenden, knallen das In die Logistische umwandlung rein und tada wir haben die binäre logistische Regression umgewandelt.\n",
    "![LogReg Vs lineare Reg](./imgs/logreg4.png)\n",
    "![LogReg Vs lineare Reg](./imgs/logreg5.png)\n",
    "![LogReg Vs lineare Reg](./imgs/logreg6.png)\n",
    "![LogReg Vs lineare Reg](./imgs/logreg7.png)\n"
   ]
  },
  {
   "cell_type": "markdown",
   "metadata": {},
   "source": [
    "[Hier wird die Konfusionsmatrix](https://github.com/JHC90/Basic-DataScience-Skills/wiki/Klassifikation_ConfusionMatrix) erklrärt"
   ]
  },
  {
   "cell_type": "code",
   "execution_count": null,
   "metadata": {},
   "outputs": [],
   "source": []
  }
 ],
 "metadata": {
  "kernelspec": {
   "display_name": "Python 3",
   "language": "python",
   "name": "python3"
  },
  "language_info": {
   "codemirror_mode": {
    "name": "ipython",
    "version": 3
   },
   "file_extension": ".py",
   "mimetype": "text/x-python",
   "name": "python",
   "nbconvert_exporter": "python",
   "pygments_lexer": "ipython3",
   "version": "3.6.9"
  },
  "toc": {
   "base_numbering": 1,
   "nav_menu": {},
   "number_sections": true,
   "sideBar": true,
   "skip_h1_title": false,
   "title_cell": "Table of Contents",
   "title_sidebar": "Contents",
   "toc_cell": false,
   "toc_position": {},
   "toc_section_display": true,
   "toc_window_display": false
  }
 },
 "nbformat": 4,
 "nbformat_minor": 2
}
