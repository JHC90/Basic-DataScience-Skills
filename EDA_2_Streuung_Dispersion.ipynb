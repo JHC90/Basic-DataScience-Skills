{
 "cells": [
  {
   "cell_type": "markdown",
   "metadata": {},
   "source": [
    "# [EDA-Streuung](https://github.com/JHC90/Basic-DataScience-Skills/wiki/EDA_2_Streuungsma%C3%9Fe_SingleFeature_Dispersion)"
   ]
  },
  {
   "cell_type": "code",
   "execution_count": 3,
   "metadata": {},
   "outputs": [
    {
     "name": "stdout",
     "output_type": "stream",
     "text": [
      "        State  Population  Murder.Rate Abbreviation\n",
      "0     Alabama     4779736          5.7           AL\n",
      "1      Alaska      710231          5.6           AK\n",
      "2     Arizona     6392017          4.7           AZ\n",
      "3    Arkansas     2915918          5.6           AR\n",
      "4  California    37253956          4.4           CA\n"
     ]
    }
   ],
   "source": [
    "import pandas as pd\n",
    "state=pd.read_csv('./R-Programming/data/state.csv',delimiter=',',encoding='utf-8')\n",
    "print(state.head())"
   ]
  },
  {
   "cell_type": "code",
   "execution_count": 4,
   "metadata": {},
   "outputs": [
    {
     "name": "stdout",
     "output_type": "stream",
     "text": [
      "         Population  Murder.Rate\n",
      "count  5.000000e+01    50.000000\n",
      "mean   6.162876e+06     4.066000\n",
      "std    6.848235e+06     1.915736\n",
      "min    5.636260e+05     0.900000\n",
      "25%    1.833004e+06     2.425000\n",
      "50%    4.436370e+06     4.000000\n",
      "75%    6.680312e+06     5.550000\n",
      "max    3.725396e+07    10.300000\n"
     ]
    }
   ],
   "source": [
    "print(state.describe()) # => heir schon mal die STD"
   ]
  },
  {
   "cell_type": "markdown",
   "metadata": {},
   "source": [
    "## Min Max Range"
   ]
  },
  {
   "cell_type": "code",
   "execution_count": 15,
   "metadata": {},
   "outputs": [
    {
     "name": "stdout",
     "output_type": "stream",
     "text": [
      "563626\n",
      "37253956\n",
      "36690330\n"
     ]
    }
   ],
   "source": [
    "# Min \n",
    "minPopulation = state['Population'].min()\n",
    "print(minPopulation)\n",
    "# max\n",
    "maxPopulation = state['Population'].max()\n",
    "print(maxPopulation)\n",
    "# range\n",
    "rangePopulation = maxPopulation - minPopulation\n",
    "print(rangePopulation)"
   ]
  },
  {
   "cell_type": "markdown",
   "metadata": {},
   "source": [
    "## Variance eine Features"
   ]
  },
  {
   "cell_type": "code",
   "execution_count": 8,
   "metadata": {},
   "outputs": [
    {
     "name": "stdout",
     "output_type": "stream",
     "text": [
      "46898327373394.445\n"
     ]
    }
   ],
   "source": [
    "varPopulation = state['Population'].var()\n",
    "print(varPopulation)"
   ]
  },
  {
   "cell_type": "markdown",
   "metadata": {},
   "source": [
    "## Standardabweichung eines features, L2-norm, Euclidean Norm"
   ]
  },
  {
   "cell_type": "code",
   "execution_count": 16,
   "metadata": {},
   "outputs": [
    {
     "name": "stdout",
     "output_type": "stream",
     "text": [
      "6848235.347401142\n",
      "6848235.347401142\n"
     ]
    }
   ],
   "source": [
    "sdPopulation = state['Population'].std()\n",
    "print(sdPopulation)\n",
    "# print(sdPopulation**2) # => liefert Varianz\n",
    "# logische Herleiung von der Variance\n",
    "sdPopulation2 = varPopulation** 0.5\n",
    "print(sdPopulation2)"
   ]
  },
  {
   "cell_type": "markdown",
   "metadata": {},
   "source": [
    "### Percentile\n",
    "vgl das [Notebook zu Lagemaßen](./EDA_1_Lagemaße.ipynb)"
   ]
  },
  {
   "cell_type": "code",
   "execution_count": null,
   "metadata": {},
   "outputs": [],
   "source": []
  }
 ],
 "metadata": {
  "kernelspec": {
   "display_name": "Python 3",
   "language": "python",
   "name": "python3"
  },
  "language_info": {
   "codemirror_mode": {
    "name": "ipython",
    "version": 3
   },
   "file_extension": ".py",
   "mimetype": "text/x-python",
   "name": "python",
   "nbconvert_exporter": "python",
   "pygments_lexer": "ipython3",
   "version": "3.6.9"
  },
  "toc": {
   "base_numbering": 1,
   "nav_menu": {},
   "number_sections": true,
   "sideBar": true,
   "skip_h1_title": false,
   "title_cell": "Table of Contents",
   "title_sidebar": "Contents",
   "toc_cell": false,
   "toc_position": {},
   "toc_section_display": true,
   "toc_window_display": true
  }
 },
 "nbformat": 4,
 "nbformat_minor": 2
}
