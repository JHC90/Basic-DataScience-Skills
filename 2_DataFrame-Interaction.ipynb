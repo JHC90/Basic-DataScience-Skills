{
 "cells": [
  {
   "cell_type": "code",
   "execution_count": 33,
   "metadata": {},
   "outputs": [],
   "source": [
    "import pandas as pd"
   ]
  },
  {
   "cell_type": "code",
   "execution_count": 34,
   "metadata": {},
   "outputs": [
    {
     "name": "stdout",
     "output_type": "stream",
     "text": [
      "      0   1\n",
      "0   tom  10\n",
      "1  nick  15\n",
      "2  juli  14\n"
     ]
    }
   ],
   "source": [
    "#Create Dataframe\n",
    "data = [['tom', 10], ['nick', 15], ['juli', 14]] \n",
    "df = pd.DataFrame(data)\n",
    "print(df)"
   ]
  },
  {
   "cell_type": "code",
   "execution_count": 35,
   "metadata": {},
   "outputs": [
    {
     "name": "stdout",
     "output_type": "stream",
     "text": [
      "   Name  Age\n",
      "0   tom   10\n",
      "1  nick   15\n",
      "2  juli   14\n"
     ]
    }
   ],
   "source": [
    "#Create Dataframe & add Column names\n",
    "df2 = pd.DataFrame(data, columns = ['Name', 'Age']) \n",
    "print(df2)"
   ]
  },
  {
   "cell_type": "code",
   "execution_count": 36,
   "metadata": {},
   "outputs": [],
   "source": [
    "# Having 2 dataframes of same strucutre & append those => Sequential\n",
    "dataA = [['tom', 10], ['nick', 15], ['juli', 14]] \n",
    "dataB = [['Jochen', 117], ['Chris', 71], ['Silvia', 5]] \n",
    "dfA = pd.DataFrame(dataA, columns = ['Name', 'Age'])\n",
    "dfB = pd.DataFrame(dataB, columns = ['Name', 'Age'])"
   ]
  },
  {
   "cell_type": "code",
   "execution_count": 37,
   "metadata": {},
   "outputs": [
    {
     "name": "stdout",
     "output_type": "stream",
     "text": [
      "     Name  Age\n",
      "0     tom   10\n",
      "1    nick   15\n",
      "2    juli   14\n",
      "0  Jochen  117\n",
      "1   Chris   71\n",
      "2  Silvia    5\n",
      "###################\n",
      "     Name  Age\n",
      "0     tom   10\n",
      "1    nick   15\n",
      "2    juli   14\n",
      "3  Jochen  117\n",
      "4   Chris   71\n",
      "5  Silvia    5\n"
     ]
    }
   ],
   "source": [
    "#I\n",
    "dfappend = dfA.append(dfB)\n",
    "print(dfappend)\n",
    "print(\"###################\")\n",
    "\n",
    "#update index\n",
    "dfappend = dfappend.reset_index()\n",
    "# Drop old index column\n",
    "dfappend = dfappend.drop(columns=\"index\")\n",
    "print(dfappend)"
   ]
  },
  {
   "cell_type": "code",
   "execution_count": 38,
   "metadata": {},
   "outputs": [
    {
     "name": "stdout",
     "output_type": "stream",
     "text": [
      "   Name  Age    Name  Age\n",
      "0   tom   10  Jochen  117\n",
      "1  nick   15   Chris   71\n",
      "2  juli   14  Silvia    5\n",
      "###################\n",
      "   Name  Age ParentsName  ParentsAge\n",
      "0   tom   10      Jochen         117\n",
      "1  nick   15       Chris          71\n",
      "2  juli   14      Silvia           5\n"
     ]
    }
   ],
   "source": [
    "#II concat => next to each other => rename / Überschreiebn\n",
    "dfconcat = pd.concat([dfA, dfB], axis=1, sort=False)\n",
    "print(dfconcat)\n",
    "print(\"###################\")\n",
    "dfconcat = pd.concat([dfA, dfB], axis=1, sort=False)\n",
    "dfconcat.columns = ['Name', 'Age', 'ParentsName', 'ParentsAge']\n",
    "print(dfconcat)\n"
   ]
  },
  {
   "cell_type": "code",
   "execution_count": 39,
   "metadata": {},
   "outputs": [
    {
     "name": "stdout",
     "output_type": "stream",
     "text": [
      "   Name  Age ParentsName  ParentsAge  z\n",
      "0   tom   10      Jochen         117  1\n",
      "1  nick   15       Chris          71  2\n",
      "2  juli   14      Silvia           5  3\n"
     ]
    }
   ],
   "source": [
    "# add column to dataframe with default value\n",
    "dfconcat[\"z\"]=1,2,3\n",
    "print(dfconcat)"
   ]
  },
  {
   "cell_type": "code",
   "execution_count": 40,
   "metadata": {},
   "outputs": [
    {
     "name": "stdout",
     "output_type": "stream",
     "text": [
      "   Name  Age\n",
      "0   tom   10\n",
      "1  nick   15\n",
      "2  juli   14\n",
      "########\n",
      "  ParentsName  ParentsAge  z\n",
      "0      Jochen         117  1\n",
      "1       Chris          71  2\n",
      "2      Silvia           5  3\n",
      "########\n",
      "0    10\n",
      "1    15\n",
      "2    14\n",
      "Name: Age, dtype: int64\n",
      "########\n",
      "   Name  Age ParentsName  ParentsAge  z\n",
      "0   tom   10      Jochen         117  1\n",
      "1  nick   15       Chris          71  2\n",
      "2  juli   14      Silvia           5  3\n"
     ]
    }
   ],
   "source": [
    "# Split in to dataframes an Spalten-Nummer\n",
    "dfSplit1 = dfconcat.iloc[:, :2]\n",
    "dfSplit2 = dfconcat.iloc[:, 2:]\n",
    "dfSplit3 = dfconcat.iloc[:, 1]\n",
    "dfSplit4 = dfconcat.iloc[:, :]\n",
    "print(dfSplit1)\n",
    "print(\"########\")\n",
    "print(dfSplit2)\n",
    "print(\"########\")\n",
    "print(dfSplit3)\n",
    "print(\"########\")\n",
    "print(dfSplit4)\n"
   ]
  },
  {
   "cell_type": "code",
   "execution_count": 41,
   "metadata": {},
   "outputs": [
    {
     "name": "stdout",
     "output_type": "stream",
     "text": [
      "['tom' 'nick' 'juli']\n",
      "3\n"
     ]
    }
   ],
   "source": [
    "# show all possible values in column & Anzahl der möglichen ausprägungen\n",
    "print(dfconcat.Name.unique())\n",
    "dfconcat_names = list(dfconcat['Name'].unique())\n",
    "print(len(dfconcat_names))"
   ]
  },
  {
   "cell_type": "code",
   "execution_count": null,
   "metadata": {},
   "outputs": [],
   "source": []
  }
 ],
 "metadata": {
  "kernelspec": {
   "display_name": "Python 3",
   "language": "python",
   "name": "python3"
  },
  "language_info": {
   "codemirror_mode": {
    "name": "ipython",
    "version": 3
   },
   "file_extension": ".py",
   "mimetype": "text/x-python",
   "name": "python",
   "nbconvert_exporter": "python",
   "pygments_lexer": "ipython3",
   "version": "3.7.6"
  }
 },
 "nbformat": 4,
 "nbformat_minor": 2
}
