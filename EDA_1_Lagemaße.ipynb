{
 "cells": [
  {
   "cell_type": "markdown",
   "metadata": {},
   "source": [
    "# [EDA-Lagemaße](https://github.com/JHC90/Basic-DataScience-Skills/wiki/EDA_0_Lagemase)"
   ]
  },
  {
   "cell_type": "markdown",
   "metadata": {},
   "source": [
    "## Sources\n",
    "* Buch Applied Statistics"
   ]
  },
  {
   "cell_type": "code",
   "execution_count": 1,
   "metadata": {},
   "outputs": [],
   "source": [
    "import pandas as pd"
   ]
  },
  {
   "cell_type": "code",
   "execution_count": 2,
   "metadata": {},
   "outputs": [
    {
     "name": "stdout",
     "output_type": "stream",
     "text": [
      "        State  Population  Murder.Rate Abbreviation\n",
      "0     Alabama     4779736          5.7           AL\n",
      "1      Alaska      710231          5.6           AK\n",
      "2     Arizona     6392017          4.7           AZ\n",
      "3    Arkansas     2915918          5.6           AR\n",
      "4  California    37253956          4.4           CA\n"
     ]
    }
   ],
   "source": [
    "state=pd.read_csv('./R-Programming/data/state.csv',delimiter=',',encoding='utf-8')\n",
    "print(state.head())"
   ]
  },
  {
   "cell_type": "markdown",
   "metadata": {},
   "source": [
    "basic Zusammenfassung mit describe der EDA, in diesem Notebook geht ich tiefer darauf ein"
   ]
  },
  {
   "cell_type": "code",
   "execution_count": 3,
   "metadata": {},
   "outputs": [
    {
     "name": "stdout",
     "output_type": "stream",
     "text": [
      "         Population  Murder.Rate\n",
      "count  5.000000e+01    50.000000\n",
      "mean   6.162876e+06     4.066000\n",
      "std    6.848235e+06     1.915736\n",
      "min    5.636260e+05     0.900000\n",
      "25%    1.833004e+06     2.425000\n",
      "50%    4.436370e+06     4.000000\n",
      "75%    6.680312e+06     5.550000\n",
      "max    3.725396e+07    10.300000\n"
     ]
    }
   ],
   "source": [
    "print(state.describe()) # => "
   ]
  },
  {
   "cell_type": "markdown",
   "metadata": {},
   "source": [
    "## Mean"
   ]
  },
  {
   "cell_type": "markdown",
   "metadata": {},
   "source": [
    "### simple Mean"
   ]
  },
  {
   "cell_type": "code",
   "execution_count": 4,
   "metadata": {},
   "outputs": [
    {
     "name": "stdout",
     "output_type": "stream",
     "text": [
      "Population     6162876.300\n",
      "Murder.Rate          4.066\n",
      "dtype: float64\n",
      "6162876.3\n"
     ]
    }
   ],
   "source": [
    "# Ganzes DF\n",
    "meanDf = (state.mean())\n",
    "# einzelnes Feature\n",
    "meanPopulation = (state.Population.mean())\n",
    "\n",
    "print(meanDf)\n",
    "print(meanPopulation)"
   ]
  },
  {
   "cell_type": "markdown",
   "metadata": {},
   "source": [
    "### Trimmed Mean"
   ]
  },
  {
   "cell_type": "code",
   "execution_count": 21,
   "metadata": {},
   "outputs": [
    {
     "name": "stdout",
     "output_type": "stream",
     "text": [
      "4783697.125\n",
      "6162876.3\n",
      "<class 'pandas.core.series.Series'>\n",
      "49      563626\n",
      "44      625741\n",
      "33      672591\n",
      "1       710231\n",
      "40      814180\n",
      "7       897934\n",
      "25      989415\n",
      "38     1052567\n",
      "28     1316470\n",
      "18     1328361\n",
      "10     1360301\n",
      "11     1567582\n",
      "26     1826341\n",
      "47     1852994\n",
      "30     2059179\n",
      "27     2700551\n",
      "43     2763885\n",
      "15     2853118\n",
      "3      2915918\n",
      "23     2967297\n",
      "14     3046355\n",
      "6      3574097\n",
      "35     3751351\n",
      "36     3831074\n",
      "16     4339367\n",
      "17     4533372\n",
      "39     4625364\n",
      "0      4779736\n",
      "5      5029196\n",
      "22     5303925\n",
      "48     5686986\n",
      "19     5773552\n",
      "24     5988927\n",
      "41     6346105\n",
      "2      6392017\n",
      "13     6483802\n",
      "20     6547629\n",
      "46     6724540\n",
      "45     8001024\n",
      "29     8791894\n",
      "32     9535483\n",
      "9      9687653\n",
      "21     9883640\n",
      "34    11536504\n",
      "37    12702379\n",
      "12    12830632\n",
      "8     18801310\n",
      "31    19378102\n",
      "42    25145561\n",
      "4     37253956\n",
      "Name: Population, dtype: int64\n"
     ]
    }
   ],
   "source": [
    "from scipy.stats import trim_mean, kurtosis\n",
    "from scipy import stats\n",
    "tmeanPopulation = stats.trim_mean(state['Population'], 0.1) \n",
    "print(tmeanPopulation)\n",
    "print(meanPopulation)\n",
    "\n",
    "# show top 10 of Population\n",
    "highestPopulation = state['Population'].sort_values(ascending=True)\n",
    "print(type(highestPopulation))\n",
    "print(highestPopulation)\n"
   ]
  },
  {
   "cell_type": "markdown",
   "metadata": {},
   "source": [
    "Doch recht großer unterschied, da hier der t mean erheblich gestiegen ist, gibt es wohl im Datensatz Ausreißer nach unten"
   ]
  },
  {
   "cell_type": "markdown",
   "metadata": {},
   "source": [
    "### Weighted Mean"
   ]
  },
  {
   "cell_type": "code",
   "execution_count": 6,
   "metadata": {},
   "outputs": [
    {
     "name": "stdout",
     "output_type": "stream",
     "text": [
      "14.415602815646439\n",
      "14.415602815646439\n"
     ]
    }
   ],
   "source": [
    "import numpy as np\n",
    "rate = [14.424, 14.421, 14.417, 14.413, 14.41]\n",
    "amount = [3058.0, 8826.0, 56705.0, 30657.0, 12984.0]\n",
    "weightedMean1 = sum(rate[g] * amount[g] for g in range(len(rate))) / sum(amount)\n",
    "print(weightedMean1)\n",
    "# alternativ mit numpy\n",
    "weightedMean2 = np.average(rate, weights=amount)\n",
    "print(weightedMean2)"
   ]
  },
  {
   "cell_type": "markdown",
   "metadata": {},
   "source": [
    "## Median"
   ]
  },
  {
   "cell_type": "markdown",
   "metadata": {},
   "source": [
    "### Simple"
   ]
  },
  {
   "cell_type": "code",
   "execution_count": 7,
   "metadata": {},
   "outputs": [
    {
     "name": "stdout",
     "output_type": "stream",
     "text": [
      "Population     4436369.5\n",
      "Murder.Rate          4.0\n",
      "dtype: float64\n",
      "4436369.5\n"
     ]
    }
   ],
   "source": [
    "# Ganzes DF\n",
    "print(state.median())\n",
    "# einzelnes Feature\n",
    "print(state.Population.median())"
   ]
  },
  {
   "cell_type": "markdown",
   "metadata": {},
   "source": [
    "## Quantile"
   ]
  },
  {
   "cell_type": "markdown",
   "metadata": {},
   "source": [
    "### Zusammenfassung DF"
   ]
  },
  {
   "cell_type": "code",
   "execution_count": 8,
   "metadata": {},
   "outputs": [
    {
     "name": "stdout",
     "output_type": "stream",
     "text": [
      "         Population  Murder.Rate\n",
      "count  5.000000e+01    50.000000\n",
      "mean   6.162876e+06     4.066000\n",
      "std    6.848235e+06     1.915736\n",
      "min    5.636260e+05     0.900000\n",
      "25%    1.833004e+06     2.425000\n",
      "50%    4.436370e+06     4.000000\n",
      "75%    6.680312e+06     5.550000\n",
      "max    3.725396e+07    10.300000\n"
     ]
    }
   ],
   "source": [
    "print(state.describe()) "
   ]
  },
  {
   "cell_type": "markdown",
   "metadata": {},
   "source": [
    "### Single Feature in DF"
   ]
  },
  {
   "cell_type": "code",
   "execution_count": 9,
   "metadata": {},
   "outputs": [
    {
     "name": "stdout",
     "output_type": "stream",
     "text": [
      "1833004.25\n",
      "4436369.5\n",
      "6680312.25\n"
     ]
    }
   ],
   "source": [
    "print(state['Population'].quantile(0.25))\n",
    "print(state['Population'].quantile(0.5))\n",
    "print(state['Population'].quantile(0.75))"
   ]
  },
  {
   "cell_type": "code",
   "execution_count": null,
   "metadata": {},
   "outputs": [],
   "source": []
  }
 ],
 "metadata": {
  "kernelspec": {
   "display_name": "Python 3",
   "language": "python",
   "name": "python3"
  },
  "language_info": {
   "codemirror_mode": {
    "name": "ipython",
    "version": 3
   },
   "file_extension": ".py",
   "mimetype": "text/x-python",
   "name": "python",
   "nbconvert_exporter": "python",
   "pygments_lexer": "ipython3",
   "version": "3.6.9"
  },
  "toc": {
   "base_numbering": 1,
   "nav_menu": {},
   "number_sections": true,
   "sideBar": true,
   "skip_h1_title": false,
   "title_cell": "Table of Contents",
   "title_sidebar": "Contents",
   "toc_cell": false,
   "toc_position": {
    "height": "calc(100% - 180px)",
    "left": "10px",
    "top": "150px",
    "width": "256px"
   },
   "toc_section_display": true,
   "toc_window_display": true
  }
 },
 "nbformat": 4,
 "nbformat_minor": 2
}
